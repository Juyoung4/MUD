{
 "cells": [
  {
   "cell_type": "code",
   "execution_count": 1,
   "metadata": {},
   "outputs": [
    {
     "name": "stdout",
     "output_type": "stream",
     "text": [
      "importing Jupyter notebook from normalizing.ipynb\n"
     ]
    }
   ],
   "source": [
    "import numpy as np\n",
    "import pandas as pd\n",
    "from collections import defaultdict\n",
    "import operator\n",
    "import pickle\n",
    "import import_ipynb\n",
    "from normalizing import normalize\n",
    "#-*- coding: utf-8 -*-\n",
    "def loading(data_path, eng=True, num=True, punc=False):\n",
    "\n",
    "    df = pd.read_csv(data_path,sep=\",\",encoding=\"utf-8\")\n",
    "    df=np.array(df[:300000])\n",
    "    \n",
    "    print(len(df))\n",
    "    \n",
    "    title,contents=[],[]\n",
    "    for doc in df: # doc[0]는 title, doc[1]은 contents\n",
    "        if type(doc[0]) is not str or type(doc[1]) is not str:\n",
    "            continue\n",
    "        if len(doc[0]) > 0 and len(doc[1]) > 0:\n",
    "            tmptitle = normalize(doc[0], english=eng, number=num, punctuation=punc)\n",
    "            tmpcontents =  normalize(doc[1], english=eng, number=num, punctuation=punc)\n",
    "            title.append(tmptitle)\n",
    "            contents.append(tmpcontents)\n",
    "    print(\"title length=\",len(title),\"content length=\",len(contents))\n",
    "    return title,contents"
   ]
  },
  {
   "cell_type": "code",
   "execution_count": 2,
   "metadata": {},
   "outputs": [],
   "source": [
    "def make_dict(contents, minlength, maxlength, jamo_delete=False):\n",
    "    dict = defaultdict(lambda: [])\n",
    "    for doc in contents:\n",
    "        for idx, word in enumerate(doc.split()):\n",
    "            if len(word) > minlength:\n",
    "                normalizedword = word[:maxlength]\n",
    "                if jamo_delete:\n",
    "                    tmp = []\n",
    "                    for char in normalizedword:\n",
    "                        if ord(char) < 12593 or ord(char) > 12643:\n",
    "                            tmp.append(char)\n",
    "                    normalizedword = ''.join(char for char in tmp)\n",
    "                if word not in dict[normalizedword]:\n",
    "                    dict[normalizedword].append(word)\n",
    "    dict = sorted(dict.items(), key=operator.itemgetter(0))[1:]\n",
    "    words = []\n",
    "    for i in range(len(dict)):\n",
    "        word = []\n",
    "        word.append(dict[i][0])\n",
    "        for w in dict[i][1]:\n",
    "            if w not in word:\n",
    "                word.append(w)\n",
    "        words.append(word)\n",
    "\n",
    "    words.append(['<PAD>'])\n",
    "    words.append(['<S>'])\n",
    "    words.append(['<E>'])\n",
    "    words.append(['<UNK>'])\n",
    "    # word_to_ix, ix_to_word 생성\n",
    "    ix_to_word = {i: ch[0] for i, ch in enumerate(words)}\n",
    "    word_to_ix = {}\n",
    "    for idx, words in enumerate(words):\n",
    "        for word in words:\n",
    "            word_to_ix[word] = idx\n",
    "    with open(\"word_to_ix.pickle\", \"wb\") as f:\n",
    "            pickle.dump(word_to_ix, f)\n",
    "    with open(\"ix_to_word.pickle\", \"wb\") as f:\n",
    "            pickle.dump(ix_to_word, f)\n",
    "    \n",
    "    print(\"len ix_to_word\",len(ix_to_word),\"len word_to_ix\",len(word_to_ix))\n",
    "    print('contents number: %s, voca numbers: %s' %(len(contents),len(ix_to_word)))\n",
    "    \n",
    "    return word_to_ix,ix_to_word"
   ]
  },
  {
   "cell_type": "code",
   "execution_count": 3,
   "metadata": {},
   "outputs": [],
   "source": [
    "def make_suffle(rawinputs, rawtargets, word_to_ix, encoder_size, decoder_size, shuffle=True):\n",
    "    rawinputs = np.array(rawinputs)\n",
    "    rawtargets = np.array(rawtargets)\n",
    "    if shuffle:\n",
    "        shuffle_indices = np.random.permutation(np.arange(len(rawinputs)))\n",
    "        rawinputs = rawinputs[shuffle_indices]\n",
    "        rawtargets = rawtargets[shuffle_indices]\n",
    "    encoder_input = []\n",
    "    decoder_input = []\n",
    "    targets = []\n",
    "    target_weights = []\n",
    "    for rawinput, rawtarget in zip(rawinputs, rawtargets):\n",
    "        tmp_encoder_input = [word_to_ix[v] for idx, v in enumerate(rawinput.split()) if idx < encoder_size and v in word_to_ix]\n",
    "        encoder_padd_size = max(encoder_size - len(tmp_encoder_input), 0)\n",
    "        encoder_padd = [word_to_ix['<PAD>']] * encoder_padd_size\n",
    "        encoder_input.append(list(reversed(tmp_encoder_input + encoder_padd)))\n",
    "        tmp_decoder_input = [word_to_ix[v] for idx, v in enumerate(rawtarget.split()) if idx < decoder_size - 1 and v in word_to_ix]\n",
    "        decoder_padd_size = decoder_size - len(tmp_decoder_input) - 1\n",
    "        decoder_padd = [word_to_ix['<PAD>']] * decoder_padd_size\n",
    "        decoder_input.append([word_to_ix['<S>']] + tmp_decoder_input + decoder_padd)\n",
    "        targets.append(tmp_decoder_input + [word_to_ix['<E>']] + decoder_padd)\n",
    "        tmp_targets_weight = np.ones(decoder_size, dtype=np.float32)\n",
    "        tmp_targets_weight[-decoder_padd_size:] = 0\n",
    "        target_weights.append(list(tmp_targets_weight))\n",
    "    return encoder_input, decoder_input, targets, target_weights"
   ]
  },
  {
   "cell_type": "code",
   "execution_count": 4,
   "metadata": {},
   "outputs": [],
   "source": [
    "def doclength(docs,sep=True):\n",
    "    max_document_length = 0\n",
    "    for doc in docs:\n",
    "        if sep:\n",
    "            words = doc.split()\n",
    "            document_length = len(words)\n",
    "        else:\n",
    "            document_length = len(doc)\n",
    "        if document_length > max_document_length:\n",
    "            max_document_length = document_length\n",
    "    return max_document_length"
   ]
  },
  {
   "cell_type": "code",
   "execution_count": 5,
   "metadata": {},
   "outputs": [],
   "source": [
    "def make_batch(encoder_inputs, decoder_inputs, targets, target_weights):\n",
    "    encoder_size = len(encoder_inputs[0])\n",
    "    decoder_size = len(decoder_inputs[0])\n",
    "    encoder_inputs, decoder_inputs, targets, target_weights = np.array(encoder_inputs), np.array(decoder_inputs), np.array(targets), np.array(target_weights)\n",
    "    result_encoder_inputs = []\n",
    "    result_decoder_inputs = []\n",
    "    result_targets = []\n",
    "    result_target_weights = []\n",
    "    for i in range(encoder_size):\n",
    "        result_encoder_inputs.append(encoder_inputs[:, i])\n",
    "    for j in range(decoder_size):\n",
    "        result_decoder_inputs.append(decoder_inputs[:, j])\n",
    "        result_targets.append(targets[:, j])\n",
    "        result_target_weights.append(target_weights[:, j])\n",
    "    \n",
    "    return result_encoder_inputs, result_decoder_inputs, result_targets, result_target_weights"
   ]
  },
  {
   "cell_type": "code",
   "execution_count": 6,
   "metadata": {},
   "outputs": [
    {
     "name": "stdout",
     "output_type": "stream",
     "text": [
      "100000\n",
      "title length= 99998 content length= 99998\n",
      "len ix_to_word 219538 len word_to_ix 593957\n",
      "contents number: 199996, voca numbers: 219538\n"
     ]
    }
   ],
   "source": [
    "import tensorflow as tf\n",
    "import numpy as np\n",
    "import os\n",
    "#import import_ipynb\n",
    "#from utils import loading,make_dict,make_suffle,doclength,make_batch\n",
    "#from test import load\n",
    "import time\n",
    "\n",
    "data_path = './testing_data.csv'\n",
    "title,content = loading(data_path,eng=False, num=True, punc=False)\n",
    "word_to_ix,ix_to_word = make_dict(title + content, minlength=0, maxlength=3,jamo_delete=True)\n"
   ]
  },
  {
   "cell_type": "code",
   "execution_count": 6,
   "metadata": {},
   "outputs": [],
   "source": [
    "class seq2seq_attention(object):\n",
    "    def __init__(self, multi, hidden_size, num_layers, forward_only,learning_rate, batch_size,vocab_size, encoder_size, decoder_size):\n",
    "\n",
    "        # variables\n",
    "        self.source_vocab_size = vocab_size\n",
    "        self.target_vocab_size = vocab_size\n",
    "        self.batch_size = batch_size\n",
    "        self.encoder_size = encoder_size\n",
    "        self.decoder_size = decoder_size\n",
    "        self.learning_rate = tf.Variable(float(learning_rate), trainable=False)\n",
    "        self.global_step = tf.Variable(0, trainable=False)\n",
    "\n",
    "        # networks\n",
    "        W = tf.Variable(tf.random.normal([hidden_size, vocab_size]))\n",
    "        #W = tf.Variable(tf.random_normal([hidden_size, vocab_size]))\n",
    "        #b = tf.Variable(tf.random_normal([vocab_size]))\n",
    "        b = tf.Variable(tf.random.normal([vocab_size]))\n",
    "        output_projection = (W, b)\n",
    "        #tf.placeholder(tf.int32, [batch_size]) \n",
    "        self.encoder_inputs = [tf.compat.v1.placeholder(tf.int32, [batch_size]) for _ in range(encoder_size)]  # 인덱스만 있는 데이터 (원핫 인코딩 미시행)\n",
    "        self.decoder_inputs = [tf.compat.v1.placeholder(tf.int32, [batch_size]) for _ in range(decoder_size)]\n",
    "        self.targets = [tf.compat.v1.placeholder(tf.int32, [batch_size]) for _ in range(decoder_size)]\n",
    "        self.target_weights = [tf.compat.v1.placeholder(tf.float32, [batch_size]) for _ in range(decoder_size)]\n",
    "\n",
    "        # models\n",
    "        if multi:\n",
    "            rnn_cells=[]\n",
    "            #warning two cells provided to MutltiRNNCell are the same object\n",
    "            for _ in range(num_layers):\n",
    "                #single_cell = tf.nn.rnn_cell.GRUCell(num_units=hidden_size)\n",
    "                #tf.compat.v1.nn.rnn_cell.LSTMCell\n",
    "                single_cell = tf.compat.v1.nn.rnn_cell.GRUCell(num_units=hidden_size)\n",
    "                rnn_cells.append(single_cell)\n",
    "                #tf.compat.v1.nn.rnn_cell.MultiRNNCell\n",
    "            cell = tf.compat.v1.nn.rnn_cell.MultiRNNCell(rnn_cells)\n",
    "        else:\n",
    "            cell = tf.compat.v1.nn.rnn_cell.GRUCell(num_units=hidden_size)\n",
    "            #cell = tf.keras.layers.LSTMCell(units=hidden_size)\n",
    "\n",
    "        if not forward_only:\n",
    "            #tf.nn.seq2seq.embedding_attention_seq2seq(\n",
    "            self.outputs, self.states = tf.contrib.legacy_seq2seq.embedding_attention_seq2seq(\n",
    "                self.encoder_inputs, self.decoder_inputs, cell,\n",
    "                num_encoder_symbols=vocab_size,\n",
    "                num_decoder_symbols=vocab_size,\n",
    "                embedding_size=hidden_size,\n",
    "                output_projection=output_projection,\n",
    "                feed_previous=False)\n",
    "\n",
    "            self.logits = [tf.matmul(output, output_projection[0]) + output_projection[1] for output in self.outputs]\n",
    "            self.loss = []\n",
    "            for logit, target, target_weight in zip(self.logits, self.targets, self.target_weights):\n",
    "                crossentropy = tf.nn.sparse_softmax_cross_entropy_with_logits(logits=logit, labels=target)\n",
    "                self.loss.append(crossentropy * target_weight)\n",
    "            self.cost = tf.add_n(self.loss)#tf.train.AdamOptimizer(learning_rate)\n",
    "            self.train_op = tf.compat.v1.train.AdamOptimizer(learning_rate).minimize(self.cost)\n",
    "\n",
    "\n",
    "        else:\n",
    "            self.outputs, self.states = tf.contrib.legacy_seq2seq.embedding_attention_seq2seq(\n",
    "                self.encoder_inputs, self.decoder_inputs, cell,\n",
    "                num_encoder_symbols=vocab_size,\n",
    "                num_decoder_symbols=vocab_size,\n",
    "                embedding_size=hidden_size,\n",
    "                output_projection=output_projection,\n",
    "                feed_previous=True)\n",
    "            self.logits = [tf.matmul(output, output_projection[0]) + output_projection[1] for output in self.outputs]\n",
    "\n",
    "    def step(self, session, encoderinputs, decoderinputs, targets, targetweights, forward_only):\n",
    "        input_feed = {}\n",
    "        for l in range(len(encoderinputs)):\n",
    "            input_feed[self.encoder_inputs[l].name] = encoderinputs[l]\n",
    "            for l in range(len(decoderinputs)):\n",
    "                input_feed[self.decoder_inputs[l].name] = decoderinputs[l]\n",
    "                input_feed[self.targets[l].name] = targets[l]\n",
    "                input_feed[self.target_weights[l].name] = targetweights[l]\n",
    "        if not forward_only:\n",
    "            output_feed = [self.train_op, self.cost]\n",
    "        else:\n",
    "            output_feed = []\n",
    "            for l in range(len(decoderinputs)):\n",
    "                output_feed.append(self.logits[l])\n",
    "        output = session.run(output_feed,input_feed)\n",
    "        if not forward_only:\n",
    "            return output[1] # loss\n",
    "        else:\n",
    "            return output[0:] # outputs"
   ]
  },
  {
   "cell_type": "code",
   "execution_count": 7,
   "metadata": {},
   "outputs": [],
   "source": [
    "import import_ipynb\n",
    "import tensorflow as tf\n",
    "import numpy as np\n",
    "import time\n",
    "import os\n",
    "import pickle\n",
    "\n",
    "import import_ipynb\n",
    "from normalizing import normalize\n",
    "import tensorflow as tf\n",
    "import numpy as np\n",
    "\n",
    "def make_3word(content):\n",
    "    raw_content=\"\"\n",
    "    for word in content.split():\n",
    "        if len(word) > 0:\n",
    "            normalizedword = word[:3]\n",
    "            tmp = []\n",
    "            for char in normalizedword:\n",
    "                if ord(char) < 12593 or ord(char) > 12643:\n",
    "                    tmp.append(char)\n",
    "            normalizedword = ''.join(char for char in tmp)\n",
    "            raw_content += normalizedword+\" \"\n",
    "    return raw_content\n",
    "\n",
    "def make_suffle2(content,word_to_ix,encoder_size):\n",
    "    tmp=[] \n",
    "    tmp.append(content)\n",
    "    content = np.array(tmp)\n",
    "    \n",
    "     \n",
    "    encoder_input=[]\n",
    "    \n",
    "    tmp_encoder_input=[word_to_ix[v] for idx,v in enumerate(content[0].split()) if idx < encoder_size and v in word_to_ix]\n",
    "    encoder_padd_size=max(encoder_size - len(tmp_encoder_input),0)\n",
    "    encoder_padd = [word_to_ix['<PAD>']] * encoder_padd_size\n",
    "    encoder_input.append(list(reversed(tmp_encoder_input+encoder_padd)))\n",
    "\n",
    "    return encoder_input"
   ]
  },
  {
   "cell_type": "code",
   "execution_count": 8,
   "metadata": {},
   "outputs": [],
   "source": [
    "def ml_headline(q2,args1):\n",
    "     while True:\n",
    "        config = tf.ConfigProto()\n",
    "        config.gpu_options.allow_growth = True\n",
    "        #sess = tf.compat.v1.Session()\n",
    "\n",
    "        multi = True\n",
    "        forward_only = False\n",
    "        hidden_size = 150\n",
    "        num_layers = 3\n",
    "        learning_rate = 0.001\n",
    "        encoder_size = 100\n",
    "\n",
    "        if not os.path.exists(\"mm/copy_model\"):\n",
    "            os.mkdir(\"mm/copy_model\")\n",
    "        else:\n",
    "            if os.path.exists(\"mm/copy_model/checkpoint\"):\n",
    "                old_model_checkpoint_path = open('mm/copy_model/checkpoint','r')\n",
    "                old_model_checkpoint_path = \"\".join([\"model/\",old_model_checkpoint_path.read().splitlines()[0].split('\"')[1]])\n",
    "\n",
    "        ########test#########################\n",
    "\n",
    "        if args1 == \"test\":\n",
    "            if old_model_checkpoint_path:\n",
    "\n",
    "                batch_size = 1\n",
    "                decoder_size = 19\n",
    "\n",
    "                with open(\"ix_to_word.pickle\", \"rb\") as f:\n",
    "                    ix_to_word = pickle.load(f)\n",
    "                with open(\"word_to_ix.pickle\", \"rb\") as t:\n",
    "                    word_to_ix = pickle.load(t)\n",
    "\n",
    "                end = 1\n",
    "                data=q2.get()\n",
    "\n",
    "                content=normalize(data[1])\n",
    "                print(\"content\",content)\n",
    "                content=make_3word(content)\n",
    "                vocab_size =len(ix_to_word)+1\n",
    "                encoderinputs=make_suffle2(content,word_to_ix,encoder_size=encoder_size) # padding\n",
    "                with tf.compat.v1.Session() as sess:\n",
    "\n",
    "                    print(\"continuing from previous trained model: \",old_model_checkpoint_path, \"...\")\n",
    "                    #saver.restore(sess, old_model_checkpoint_path)\n",
    "                    model = seq2seq_attention(multi=multi, hidden_size=hidden_size, num_layers=num_layers,\n",
    "                                learning_rate=learning_rate, batch_size=batch_size,\n",
    "                                vocab_size=vocab_size,\n",
    "                                encoder_size=encoder_size, decoder_size=decoder_size,\n",
    "                                forward_only=True)\n",
    "                    saver = tf.train.Saver(tf.all_variables())\n",
    "                    ckpt = tf.train.get_checkpoint_state(\"./mm/copy_model/\")\n",
    "                    saver.restore(sess, ckpt.model_checkpoint_path)\n",
    "                    sess.run(tf.all_variables())\n",
    "\n",
    "                    d=[]\n",
    "                    #print([0]*15)\n",
    "                    d.append([0]*15)\n",
    "                    #print(d)\n",
    "                    encoder_inputs, decoder_inputs, targets, target_weights = make_batch(encoderinputs[0:end],d,d,d)\n",
    "                    #print(encoder_inputs)\n",
    "\n",
    "                    output_logits = model.step(sess,encoder_inputs,decoder_inputs,targets,target_weights,True)\n",
    "                    predict = [np.argmax(logit,axis=1)[0] for logit in output_logits]\n",
    "                    predict = ' '.join(ix_to_word[ix] for ix in predict)\n",
    "                    print(predict)\n",
    "                    predict=predict.replace(\"<E>\",\"\")\n",
    "                    data.append(predict)\n",
    "                    db_update(data)\n",
    "\n",
    "                tf.reset_default_graph()\n",
    "\n",
    "        #######train################\n",
    "        elif args1 == \"train\":\n",
    "            batch_size = 16\n",
    "            decoder_size = doclength(title, sep=True)\n",
    "            print(decoder_size)\n",
    "            #decoder_size = util3.doclength(title, sep=True) # (Maximum) number of time steps in this batch\n",
    "            steps_per_checkpoint = 500\n",
    "\n",
    "            # transform data\n",
    "            encoderinputs, decoderinputs, targets_, targetweights = make_suffle(content, title, word_to_ix, encoder_size=encoder_size, decoder_size=decoder_size, shuffle=False)\n",
    "\n",
    "            with tf.compat.v1.Session(config=config) as sess:\n",
    "                model = seq2seq_attention(multi=multi, hidden_size=hidden_size, num_layers=num_layers,\n",
    "                            learning_rate=learning_rate, batch_size=batch_size,\n",
    "                            vocab_size=vocab_size,\n",
    "                            encoder_size=encoder_size, decoder_size=decoder_size,\n",
    "                            forward_only=False)\n",
    "\n",
    "                sess.run(global_variables_initializer())#global_variables_initializer()\n",
    "                saver = tf.compat.v1.train.Saver(tf.compat.v1.global_variables())\n",
    "                step_time, loss = 0.0, 0.0\n",
    "                current_step = 0\n",
    "                start = 0\n",
    "                end = batch_size\n",
    "                while current_step < 400001:\n",
    "\n",
    "                    if end > len(title):\n",
    "                        start = 0\n",
    "                        end = batch_size\n",
    "\n",
    "                    # Get a batch and make a step\n",
    "                    start_time = time.time()\n",
    "                    encoder_inputs, decoder_inputs, targets, target_weights = make_batch(encoderinputs[start:end],decoderinputs[start:end],targets_[start:end],targetweights[start:end])\n",
    "\n",
    "                    if current_step % steps_per_checkpoint == 0:\n",
    "                        for i in range(decoder_size - 2):\n",
    "                            decoder_inputs[i + 1] = np.array([word_to_ix['<PAD>']] * batch_size)\n",
    "                        output_logits = model.step(sess, encoder_inputs, decoder_inputs, targets, target_weights, True)\n",
    "                        predict = [np.argmax(logit, axis=1)[0] for logit in output_logits]\n",
    "                        predict = ' '.join(ix_to_word[ix] for ix in predict)\n",
    "                        real = [word[0] for word in targets]\n",
    "                        real = ' '.join(ix_to_word[ix][0] for ix in real)\n",
    "                        saver.save(sess, \"./mm/copy_model/model.ckpt\",global_step=current_step)\n",
    "                        print('\\n----\\n step : %s \\n time : %s \\n LOSS : %s \\n prediction : %s \\n edit result : %s \\n actual result : %s \\n----' %\n",
    "                              (current_step, step_time, loss, predict, real, title[start]))\n",
    "                        loss, step_time = 0.0, 0.0\n",
    "\n",
    "                    step_loss = model.step(sess, encoder_inputs, decoder_inputs, targets, target_weights, False)\n",
    "                    step_time += time.time() - start_time / steps_per_checkpoint\n",
    "                    loss += np.mean(step_loss) / steps_per_checkpoint\n",
    "                    current_step += 1\n",
    "                    start += batch_size\n",
    "                    end += batch_size\n"
   ]
  },
  {
   "cell_type": "code",
   "execution_count": 9,
   "metadata": {},
   "outputs": [],
   "source": [
    "from lexrankr import LexRank\n",
    "import random\n",
    "import requests\n",
    "import json\n",
    "from apscheduler.jobstores.base import JobLookupError\n",
    "from apscheduler.schedulers.background import BackgroundScheduler\n",
    "import math\n",
    "import copy\n",
    "import time\n",
    "from multiprocessing import Process, Queue\n",
    "import pandas as pd\n",
    "\n",
    "#-*- coding: utf-8 -*-\n",
    "def random_four_news(q1):\n",
    "    print(\"random_four_news start\")\n",
    "    articles = requests.get(url=\"http://34.84.147.192:8000/news/articles/?format=json&limit=1\").json()\n",
    "    count = articles['count']\n",
    "    print(count)\n",
    "\n",
    "    articles = requests.get(url=\"http://34.84.147.192:8000/news/articles/?format=json&limit=\" + str(count)).json()\n",
    "    d = pd.DataFrame(articles['results'])\n",
    "\n",
    "    df = pd.DataFrame(columns=['news_id', 'summary', 'cluster_id'])\n",
    "    df = d[['news_id', 'summary', 'cluster_id']]\n",
    "    cluster = requests.get(url=\"http://34.84.147.192:8000/news/clusters/\").json()\n",
    "    #cluster = df['cluster_id']\n",
    "    #print(cluster)\n",
    "    cluster_id = list([i[\"cluster_id\"] for i in cluster if i[\"cluster_id\"] != '07f269a8-3ae6-4994-abfd-e2cb2d4633f3'])\n",
    "    print(len(cluster_id))\n",
    "    #global cluster_len\n",
    "    #cluster_len=len(cluster_id)\n",
    "    df_summary=[]\n",
    "    tmp=[]\n",
    "    i=0\n",
    "    #먼저 cluster_id에 해당되는 애들 dict에 넣기\n",
    "    for cluster_id_1 in cluster_id:\n",
    "        print(\"x\",cluster_id_1)\n",
    "        df2 = df[df[\"cluster_id\"] == cluster_id_1]\n",
    "        df_news = df2['news_id'].tolist()\n",
    "        news_id = random.sample(df_news, 4)\n",
    "        for news in news_id:\n",
    "            df3 = df[df[\"news_id\"] == news]\n",
    "            df_summary += df3['summary'].tolist()\n",
    "        \n",
    "        tmp.append(cluster_id_1)\n",
    "        tmp.append(\" \".join(df_summary))\n",
    "        #print(\"TTTTTTTtmp\",tmp)\n",
    "        q1.put(tmp)\n",
    "        tmp=[]\n",
    "        df_summary=[]\n",
    "\n",
    "\n",
    "\n",
    "def summary(q1,q2):\n",
    "    while True:\n",
    "        print(\"smry start\")\n",
    "        multi_summary = q1.get()\n",
    "        #print(\"q1:\",q1.qsize())\n",
    "        #print(\"df\",multi_summary)\n",
    "        #print(multi_summary)\n",
    "        lexrank = LexRank()\n",
    "        #print(multi_summary[0])\n",
    "        lexrank.summarize(multi_summary[1])  # data (본문)가져와서 요약\n",
    "        summaries = lexrank.probe(3)  # 3줄요약, summaries 타입은 list\n",
    "        summaries = '. '.join(summaries)+'.'\n",
    "        print(\"multi-summary= \",summaries)\n",
    "        multi_summary[1] = summaries\n",
    "        #ml_headline(data,\"test\")\n",
    "        q2.put(multi_summary) # db에 저장되어야 하는 최종 결과\n",
    "            # 입력데이터가 이상한 값이어서 요약문이 안나올 때 에러처리 #입력데이터가 None으로 들어올때 에러처리\n",
    "        \n",
    "\n",
    "\n",
    "def db_update(data):\n",
    "    URL = \"http://34.84.147.192:8000/news/\"\n",
    "    clusterId = data[0]\n",
    "    summaryy=data[1].split('. ')\n",
    "    summaryy = \"\\n\\n\".join(summaryy)\n",
    "    print(data)\n",
    "    cluster = {\n",
    "        \"cluster_headline\": data[2],\n",
    "        \"cluster_summary\": summaryy\n",
    "    }\n",
    "    res = requests.put(url = URL + 'clusters/' + clusterId + '/',data=cluster)\n"
   ]
  },
  {
   "cell_type": "code",
   "execution_count": 10,
   "metadata": {},
   "outputs": [
    {
     "name": "stdout",
     "output_type": "stream",
     "text": [
      "random_four_news start\n",
      "smry start\n",
      "6993\n",
      "80\n",
      "x 230aff31-6830-40f3-bc85-83b75cef8c7c\n",
      "x 2e1e86b9-4113-4199-89cb-7ff3adc2a2e7\n"
     ]
    },
    {
     "name": "stderr",
     "output_type": "stream",
     "text": [
      "/home/iceia/.conda/envs/cap_mud/lib/python3.7/site-packages/konlpy/tag/_okt.py:16: UserWarning: \"Twitter\" has changed to \"Okt\" since KoNLPy v0.4.5.\n",
      "  warn('\"Twitter\" has changed to \"Okt\" since KoNLPy v0.4.5.')\n"
     ]
    },
    {
     "name": "stdout",
     "output_type": "stream",
     "text": [
      "x 6d441a4d-76df-441a-b467-ece5105131eb\n",
      "x bf48049c-1e26-47ae-9e19-6ac7c5c22456\n",
      "x 1096cbf2-c0fc-4f29-9419-0d0f1105f39b\n",
      "x 1f7f14c7-4371-46b9-9d9b-d1407064e8af\n",
      "x d934fa42-f108-49b5-b056-b2581e5ff5ce\n",
      "x eb40627f-4543-4932-a358-834cc346b57d\n",
      "x ecfb2254-29ad-4ea6-8e19-885f9a31be5d\n",
      "x 1d578c1d-7e13-4243-a31e-16c49f58cf21\n",
      "x 49a7cfa3-f1c8-453d-9409-3063786179d5\n",
      "x 5e696b96-32fa-428d-8a65-cd59767692f6\n",
      "x 79ceaaa1-2328-4ac3-a079-fa78eb088db9\n",
      "x e85dc65f-7dd4-4165-871a-be48df359c91\n",
      "x 358873cd-28ef-4c2a-9762-766ddd114e5d\n",
      "x 39a49388-9047-4d95-9ace-7db5fe6aabc6\n",
      "x 41b75ae6-e697-4b84-9119-eab32380b57f\n",
      "x 7c8bd95b-b84d-421f-bb1c-fe919fb4b3d4\n",
      "x e8c59e03-d0a4-4e96-b6eb-baa1553e4b93\n",
      "x 74e773b0-6978-4e57-967f-61767bebdc7a\n",
      "x 7f862705-f3f7-4e86-9d0d-dc9d0814eb06\n",
      "x 7e22de63-4037-4a22-af6d-e26f7e0f8c6e\n",
      "x cdb37079-e16e-485d-958a-fbc1bda0e052\n",
      "x db693c73-ad14-42cf-9ee5-46433c258f0e\n",
      "x 0551ac30-b1e3-48c6-b0c3-12e11ec57ed6\n",
      "x 2e05c927-aeb0-4b5f-9a3a-b24a28abf546\n",
      "x 9912334e-5408-4784-8c6a-f983d350e6d8\n",
      "x 9b6c491d-3498-4ff4-a0b6-c8866a8b194f\n",
      "x c5c56d83-888f-4558-a761-22c47d6288da\n",
      "x 217697e0-2f7a-4d16-ad02-7426b0b05af9\n",
      "x 62925a9c-bac0-4222-b987-52b75e926cf8\n",
      "x 76fa99b6-ccff-491c-8237-4eebe7f4a49e\n",
      "x 12dee872-2550-44b4-b2b3-b71aa682abf4\n",
      "x 5221a755-9a6d-43a7-9a04-cf7f6863ef64\n",
      "x 689815b1-f811-497f-9fd1-0ba87f91fcec\n",
      "x 8074bb16-18a5-426a-a7c5-513fa45c9cab\n",
      "x a3e3ec1a-2f7b-4285-a4b7-50fc11d4e9de\n",
      "x 3dffe373-19f2-44ef-ad91-eb85d227834c\n",
      "x 6b90fbb0-cdf8-4db5-92b7-07b4fa041dec\n",
      "x c36b73a0-26d6-4418-a83f-11be3237fd3b\n",
      "x c744b0e9-0902-4a0b-9adb-91d43107c6f5\n",
      "x 144d7345-9b9e-4cbd-a267-622f4ca47ccb\n",
      "x 32f8d0f2-1112-4169-8a06-b77badcb6c4b\n",
      "x 4941bf97-7fa4-4557-a60f-695991e0683b\n",
      "x 8658f748-40a0-4ef8-b314-07a87ee23c2f\n",
      "x 87b6fcde-99e1-4a5a-b32b-4733d7f02aae\n",
      "x d0a68418-55c6-4f74-b128-6a183140022d\n",
      "x e35bcab4-724c-4719-898d-901bfa14f59f\n",
      "x 6831c6cb-6ba1-42fc-88d9-5aead3c6e9b2\n",
      "x 8960c007-0447-49ac-b5d8-0f39129c9894\n",
      "x 9351c8b9-e7af-47a8-8262-13a2bf299502\n",
      "x a5658a52-e729-4c1a-b3d3-65c0886ba5bb\n",
      "x 0c8b3407-6ba4-4001-91f9-7c008f70944a\n",
      "x 565f6fd1-d47a-4ddf-ada4-7724a30f389b\n",
      "x 7bed3dbe-61d8-4491-8ae1-649d179eb3e8\n",
      "x 8a86f35b-2291-4129-a4ed-5431f27f51eb\n",
      "x a8b20037-d20c-4b79-ab9b-bb65f559f467\n",
      "x 92bea606-c8bc-4939-a79b-43deb97e18e6\n",
      "x a1987289-f436-4cac-a811-43aaa8e44994\n",
      "x fffc6444-3868-4a09-9250-6b4efc1e34c1\n",
      "x 417c5ded-6aa0-412b-84dd-e96abd7e1ce6\n",
      "x 5e1237c3-7287-466f-a67e-93ce75c3496b\n",
      "x 5e82adfc-1150-462f-ae31-dddf13a98557\n",
      "x 8ad72955-7a78-42b8-b4e6-c6458551f222\n",
      "x 1ee289e0-586f-4e93-9820-c2aa1a05ad07\n",
      "x 77d59279-4fe2-48e1-8f26-dbc470243b80\n",
      "x 8f79f8b1-0ab3-46d3-babe-492e50a54711\n",
      "x b8423349-2912-4a31-8bd2-df79c70f5eff\n",
      "x da52c27f-5f8e-4f7b-a457-8853d4df679a\n",
      "x 15b3cadc-3055-4494-98d8-c0a90970274d\n",
      "x 1cd49559-8c2d-4b40-adca-1628a134508e\n",
      "x 324950dd-3a34-4179-a4b1-d78cd17de840\n",
      "x 18cd1e56-e14e-4d9e-9673-de16f3dccb9e\n",
      "x 2a405375-cd8a-4921-b80f-00462ca5c347\n",
      "x 6b584892-5cd2-40cc-aec9-43bbf17c0c3d\n",
      "x cc7f5870-e5b4-4953-98ab-74e7b59a5415\n",
      "x 0267fb17-7706-4df6-84e1-e3fbc8427432\n",
      "x 03533936-f684-408e-aacc-0b4ba3af3cf7\n",
      "x 99624ffb-d730-4905-9b1b-78df4b5b9ae2\n",
      "x 9dd54c8a-0322-419f-9e16-a1b5ee6601ff\n",
      "multi-summary=  김정은의 ‘연말 데드라인’ 임박 북 미국 향해 도발 수위 높여 한·미정상 첩보 미리 공유 가능성 북한문제만 논의 ‘원포인트’ 통화 북한 국방과학원이 8일 조선중앙통신을 통해 전날 “서해위성발사장 동창리 장거리미사일실험장 에서 대단히 중대한 시험 실험 이 진행됐다”고 밝혔다. 트럼프 대통령 트윗은 오늘 새벽 0시쯤에 나왔는데 우리 시각으로 0시쯤에 나왔는데 전체적인 내용을 보면 김정은 위원장이 적대적 행동을 하지 않을 것이다라는 내용입니다. 트럼프 대통령은 김정은 위원장은 똑똑하고 또 자신과 적대적 행동을 하면 잃을 것도 많기 때문에 적대적 행동을 할 리가 없다라는 그런 취지로 설명을 한 것입니다.\n",
      "smry start\n"
     ]
    },
    {
     "name": "stderr",
     "output_type": "stream",
     "text": [
      "/home/iceia/.conda/envs/cap_mud/lib/python3.7/site-packages/konlpy/tag/_okt.py:16: UserWarning: \"Twitter\" has changed to \"Okt\" since KoNLPy v0.4.5.\n",
      "  warn('\"Twitter\" has changed to \"Okt\" since KoNLPy v0.4.5.')\n"
     ]
    },
    {
     "name": "stdout",
     "output_type": "stream",
     "text": [
      "content 김정은의 연말 데드라인 임박 북 미국 향해 도발 수위 높여 한 미정상 첩보 미리 공유 가능성 북한문제만 논의 원포인트 통화 북한 국방과학원이 8일 조선중앙통신을 통해 전날 서해위성발사장 동창리 장거리미사일실험장 에서 대단히 중대한 시험 실험 이 진행됐다 고 밝혔다 트럼프 대통령 트윗은 오늘 새벽 0시쯤에 나왔는데 우리 시각으로 0시쯤에 나왔는데 전체적인 내용을 보면 김정은 위원장이 적대적 행동을 하지 않을 것이다라는 내용입니다 트럼프 대통령은 김정은 위원장은 똑똑하고 또 자신과 적대적 행동을 하면 잃을 것도 많기 때문에 적대적 행동을 할 리가 없다라는 그런 취지로 설명을 한 것입니다\n",
      "continuing from previous trained model:  model/model.ckpt-249500 ...\n",
      "multi-summary=  SK인포섹의 보안전문가 그룹 이큐스트·EQST 이 올해 해킹사고 사례와 연구결과를 토대로 내년에 스마트 산업시설을 노리는 사이버 공격이 거세질 것이란 전망을 내놨다. 스마트 시설·랜섬웨어·IoT공격 등이 꼽혀 “새로운 ICT 기술은 보안 취약 요소부터 점검해야” SK인포섹 보안전문가그룹 이큐스트 EQST 가 예측한 2020년 사이버 위협 5대 전망 사진제공 SK인포섹 서울경제 SK인포섹은 9일 자사 보안전문가 그룹 이큐스트 EQST 가 올해 직접 맡았던 해킹사고 사례와 연구결과를 토대로 내년에 발생 가능성이 높은 주요 사이버 위협을 예측한 ‘2020년도 사이버 위협 전망’을 발표했다. 이큐스트는 내년 주요 사이버 위협으로 △스마트 산업시설을 노리는 사이버 공격 △다양한 방식을 결합한 대규모 랜섬웨어 공격 △사물인터넷 IoT 기기 공격으로 인한 기업 리스크 확산 △클라우드 대상 APT 표적 공격 △다크웹 해킹 정보를 활용한 2차 공격 등 총 다섯 가지를 주요 위협으로 꼽았다.\n",
      "smry start\n"
     ]
    },
    {
     "name": "stderr",
     "output_type": "stream",
     "text": [
      "/home/iceia/.conda/envs/cap_mud/lib/python3.7/site-packages/konlpy/tag/_okt.py:16: UserWarning: \"Twitter\" has changed to \"Okt\" since KoNLPy v0.4.5.\n",
      "  warn('\"Twitter\" has changed to \"Okt\" since KoNLPy v0.4.5.')\n"
     ]
    },
    {
     "name": "stdout",
     "output_type": "stream",
     "text": [
      "WARNING:tensorflow:From <ipython-input-6-ac6350f93d53>:32: GRUCell.__init__ (from tensorflow.python.ops.rnn_cell_impl) is deprecated and will be removed in a future version.\n",
      "Instructions for updating:\n",
      "This class is equivalent as tf.keras.layers.GRUCell, and will be replaced by that in Tensorflow 2.0.\n",
      "WARNING:tensorflow:From <ipython-input-6-ac6350f93d53>:35: MultiRNNCell.__init__ (from tensorflow.python.ops.rnn_cell_impl) is deprecated and will be removed in a future version.\n",
      "Instructions for updating:\n",
      "This class is equivalent as tf.keras.layers.StackedRNNCells, and will be replaced by that in Tensorflow 2.0.\n",
      "multi-summary=  LG복지재단은 지난 33년간 한결같이 가난하고 소외된 이웃들을 위한 무료급식봉사를 이어온 정희일 할머니 95 에게 LG 의인상 을 수여한다고 9일 밝혔다. LG복지재단은 지난 33년간 가난하고 소외된 이웃을 위해 무료 급식봉사를 이어온 정희일 할머니 95·사진 에게 ‘LG 의인상’을 수여키로 했다고 9일 밝혔다. 95세 고령에도 한결같은 봉사 실천으로 귀감 이웃 위한 선행행한 시민으로 의인상 대상 확대 33년째 무료급식소에서 봉사해 온 정희일 95 씨.ⓒSK하이닉스 LG복지재단은 지난 33년간 한결같이 가난하고 소외된 이웃들을 위한 무료급식봉사를 이어온 정희일 95 할머니에게 ‘LG 의인상’을 수여하기로 했다고 9일 밝혔다.\n",
      "smry start\n"
     ]
    },
    {
     "name": "stderr",
     "output_type": "stream",
     "text": [
      "/home/iceia/.conda/envs/cap_mud/lib/python3.7/site-packages/konlpy/tag/_okt.py:16: UserWarning: \"Twitter\" has changed to \"Okt\" since KoNLPy v0.4.5.\n",
      "  warn('\"Twitter\" has changed to \"Okt\" since KoNLPy v0.4.5.')\n"
     ]
    },
    {
     "name": "stdout",
     "output_type": "stream",
     "text": [
      "multi-summary=  고용노동부 관계자는 9일 연합뉴스와 통화에서 일본은 지난해 6월 연장근로의 한도를 월 45시간 연 360시간으로 제한하고 위반할 경우 6개월 이하의 징역 또는 30만엔이하의 벌금으로 처벌하도록 법을 개정했다 며 개정법이 대기업을 대상으로 올해 4월 시행됐고 내년 4월부터는 중소기업에도 적용된다 고 설명했다. 이명박 전 대통령의 사위인 조현범 한국타이어 대표가 협력업체에서 뒷돈을 받고 회사 자금을 빼돌린 혐의 등으로 재판에 넘겨졌습니다. 검찰은 지난 1월 국세청의 한국타이어의 탈세 의혹에 대한 고발 내용을 바탕으로 수사하는 과정에서 조 대표의 개인비리 혐의를 인지한 것으로 전해졌다.\n",
      "smry start\n"
     ]
    },
    {
     "name": "stderr",
     "output_type": "stream",
     "text": [
      "/home/iceia/.conda/envs/cap_mud/lib/python3.7/site-packages/konlpy/tag/_okt.py:16: UserWarning: \"Twitter\" has changed to \"Okt\" since KoNLPy v0.4.5.\n",
      "  warn('\"Twitter\" has changed to \"Okt\" since KoNLPy v0.4.5.')\n"
     ]
    },
    {
     "name": "stdout",
     "output_type": "stream",
     "text": [
      "WARNING:tensorflow:\n",
      "The TensorFlow contrib module will not be included in TensorFlow 2.0.\n",
      "For more information, please see:\n",
      "  * https://github.com/tensorflow/community/blob/master/rfcs/20180907-contrib-sunset.md\n",
      "  * https://github.com/tensorflow/addons\n",
      "  * https://github.com/tensorflow/io (for I/O related ops)\n",
      "If you depend on functionality not listed there, please file an issue.\n",
      "\n",
      "WARNING:tensorflow:From /home/iceia/.conda/envs/cap_mud/lib/python3.7/site-packages/tensorflow/contrib/legacy_seq2seq/python/ops/seq2seq.py:859: static_rnn (from tensorflow.python.ops.rnn) is deprecated and will be removed in a future version.\n",
      "Instructions for updating:\n",
      "Please use `keras.layers.RNN(cell, unroll=True)`, which is equivalent to this API\n",
      "multi-summary=  서울 뉴시스 이종철 기자 자유한국당 황교안 가운데 대표와 심재철 왼쪽 두번째 신임 원내대표 김재원 신임 정책위의장이 9일 서울 여의도 국회에서 열린 자유한국당 원내대표 선거가 끝난 후 기념촬영을 하고 있다. 다만 김재원 신임 정책위의장은 황교안 대표 측과 밀접한 관계를 갖고 있어 심재철 김재원 조가 ‘반황’이라고 단정짓기에는 무리가 있다는 해석도 나온다. 이에 강 수석은 지난 국회에서 심 원내대표와 제가 함께 일했었고 김재원 신임 정책위의장도 어려운 관계지만 술친구이기도 하다 며 김 정책위의장이 청와대 정무수석을 하실 때 제가 당시 야당 정책위의장 역할을 했던 적이 있어서 대화도 더 잘 되리라 본다 고 화답했다.\n",
      "smry start\n"
     ]
    },
    {
     "name": "stderr",
     "output_type": "stream",
     "text": [
      "/home/iceia/.conda/envs/cap_mud/lib/python3.7/site-packages/konlpy/tag/_okt.py:16: UserWarning: \"Twitter\" has changed to \"Okt\" since KoNLPy v0.4.5.\n",
      "  warn('\"Twitter\" has changed to \"Okt\" since KoNLPy v0.4.5.')\n"
     ]
    },
    {
     "name": "stdout",
     "output_type": "stream",
     "text": [
      "multi-summary=  인천대학교 인천대학교 제공 인천 연합뉴스 강종구 기자 한국어를 배우기 위해 인천대 어학당에 재학 중인 베트남 국적 어학 연수생이 대거 잠적한 것으로 나타나 출입국 당국이 실태 조사를 벌인다. 지난 11월 완성된 이 보고서를 보면 모의선거에 참여한 경험이 있는 학생들은 ‘모의선거를 해보니 미래에 투표권이 생겼을 때 투표에 꼭 참여하겠다는 생각이 들었다’는 물음에 94.3% 매우 그렇다 77.3% 그렇다 17.0% 의 학생이 긍정 답변을 내놨다. 응답 학생들 가운데 89.7%는 ‘모의선거를 해보니 선거의 중요성을 깨닫게 되었고 실제 선거에도 관심이 생겼다’고 답했다.\n",
      "smry start\n"
     ]
    },
    {
     "name": "stderr",
     "output_type": "stream",
     "text": [
      "/home/iceia/.conda/envs/cap_mud/lib/python3.7/site-packages/konlpy/tag/_okt.py:16: UserWarning: \"Twitter\" has changed to \"Okt\" since KoNLPy v0.4.5.\n",
      "  warn('\"Twitter\" has changed to \"Okt\" since KoNLPy v0.4.5.')\n"
     ]
    },
    {
     "name": "stdout",
     "output_type": "stream",
     "text": [
      "multi-summary=  한국경제TV 송민화 기자 한화시스템은 미국 캘리포니아에서 글로벌 스타트업 엑셀러레이터기업인 플러그 앤 플레이와 전략적 파트너십을 체결했다고 오늘 9일 밝혔다. 美 유력 스타트업 육성 기업과 전략적 파트너십 체결 디지털트랜스포메이션 강화…그룹 IT·SW 역량 지원도 ‘에어택시’ 개발 현지업체 2500만불 투자도 최종승인 헤럴드경제 유재훈 기자 한화시스템이 4차 산업혁명을 주도하고 있는 미국에서 미래 신사업을 찾는 발걸음이 바빠지고 있다. 한화시스템은 지난 6일 미국 캘리포니아에서 글로벌 스타트업 엑셀러레이터 기업인 플러그 앤 플레이 PLUG AND PLAY 와 전략적 파트너십을 체결했다고 9일 밝혔다.\n",
      "smry start\n"
     ]
    },
    {
     "name": "stderr",
     "output_type": "stream",
     "text": [
      "/home/iceia/.conda/envs/cap_mud/lib/python3.7/site-packages/konlpy/tag/_okt.py:16: UserWarning: \"Twitter\" has changed to \"Okt\" since KoNLPy v0.4.5.\n",
      "  warn('\"Twitter\" has changed to \"Okt\" since KoNLPy v0.4.5.')\n"
     ]
    },
    {
     "name": "stdout",
     "output_type": "stream",
     "text": [
      "WARNING:tensorflow:From /home/iceia/.conda/envs/cap_mud/lib/python3.7/site-packages/tensorflow/python/ops/init_ops.py:1251: calling VarianceScaling.__init__ (from tensorflow.python.ops.init_ops) with dtype is deprecated and will be removed in a future version.\n",
      "Instructions for updating:\n",
      "Call initializer instance with the dtype argument instead of passing it to the constructor\n",
      "WARNING:tensorflow:From /home/iceia/.conda/envs/cap_mud/lib/python3.7/site-packages/tensorflow/python/ops/rnn_cell_impl.py:564: calling Constant.__init__ (from tensorflow.python.ops.init_ops) with dtype is deprecated and will be removed in a future version.\n",
      "Instructions for updating:\n",
      "Call initializer instance with the dtype argument instead of passing it to the constructor\n",
      "WARNING:tensorflow:From /home/iceia/.conda/envs/cap_mud/lib/python3.7/site-packages/tensorflow/python/ops/rnn_cell_impl.py:574: calling Zeros.__init__ (from tensorflow.python.ops.init_ops) with dtype is deprecated and will be removed in a future version.\n",
      "Instructions for updating:\n",
      "Call initializer instance with the dtype argument instead of passing it to the constructor\n",
      "multi-summary=  업권 최초 블록체인 P2P 원리금 수취권 실서비스 안착 P2P 투자 서비스 취약점 개선 및 금융투자자 권리 강화 블록체인 ID 이니셜 도입 모바일로 출입증명 대체한다 태양광 데이터 수집 및 전북코인 운영 등 블록체인 사업 확대 NH농협은행이 블록체인 기술을 활용해 새로운 먹거리 발굴에 나서고 있다. 해당 ‘P2P 원리금 수취권 증서’ 서비스는 지난 4월 NH농협은행이 은행권 최초로 출시한 블록체인 기반 P2P 금융 서비스다. 블록체인 핀테크 활용사례 구축 9일 업계에 따르면 NH농협은행이 자체 개발한 블록체인 기반 개인간 P2P 금융 투자자 원리금 수취권 증서 서비스가 이달초 열린 과학기술정보통신부 주최 K ICT 클라우드 산업대상 에서 장관상을 수상했다.\n",
      "smry start\n"
     ]
    },
    {
     "name": "stderr",
     "output_type": "stream",
     "text": [
      "/home/iceia/.conda/envs/cap_mud/lib/python3.7/site-packages/konlpy/tag/_okt.py:16: UserWarning: \"Twitter\" has changed to \"Okt\" since KoNLPy v0.4.5.\n",
      "  warn('\"Twitter\" has changed to \"Okt\" since KoNLPy v0.4.5.')\n"
     ]
    },
    {
     "name": "stdout",
     "output_type": "stream",
     "text": [
      "multi-summary=  남우기 한국정보통신기술사회 회장은 기술간 융복합이 빠르게 진행되고 있는 산업환경에 국가기술자격제도가 빠르게 대응해야 한다 고 강조하며 현재 여러곳으로 분산돼 있는 정보통신 분야 국가기술자격 관리·운영의 일원화도 필요하다 고 제안했다. 조정윤 이사장은 이번 토론회를 통해 정보처리 종목 국가기술자격제도가 융복합 시대 국가기술자격제도의 역할과 변화의 필요성에 대한 공감대가 형성됐다 며 나아가 국가기술자격제도의 현장성과 활용성을 제고할 수 있는 실질적 개선안들이 발굴돼 값진 성과로 이어질 수 있기를 바란다 고 전했다. 연구팀은 기술경제성 분석의 신뢰도를 높이기 위해 전기화학반응시스템 분리정제시스템 유틸리티시스템 그리고 재순환시스템 등 공정설계에 필요한 모든 요소를 고려했다.\n"
     ]
    },
    {
     "name": "stderr",
     "output_type": "stream",
     "text": [
      "/home/iceia/.conda/envs/cap_mud/lib/python3.7/site-packages/konlpy/tag/_okt.py:16: UserWarning: \"Twitter\" has changed to \"Okt\" since KoNLPy v0.4.5.\n",
      "  warn('\"Twitter\" has changed to \"Okt\" since KoNLPy v0.4.5.')\n"
     ]
    },
    {
     "name": "stdout",
     "output_type": "stream",
     "text": [
      "smry start\n",
      "multi-summary=  딸 수능치는 날 중앙지검에서 조사받아…영혼 털리는 기분 9일 치러진 자유한국당 원내대표 경선에서 5선의 심재철 의원과 3선의 김재원 의원이 각각 원내대표와 정책위의장에 당선됐다. 김 의원은 이날 오전 국회에서 열린 당 원내대표·정책위의장 선거 의원총회에서 지난 2017 2018년 ‘국가정보원 자금 여론조사’관련 검찰 조사를 받을 때 극단적인 생각을 했다며 당시 이야기를 꺼냈다. 이날 ‘자유한국당 원내대표 및 정책위의장 선출을 위한 의원총회’ 결선투표에서 김 의원은 러닝메이트인 심재철 의원과 함께 106표 중 52표를 얻어 당선됐다.\n",
      "smry start\n"
     ]
    },
    {
     "name": "stderr",
     "output_type": "stream",
     "text": [
      "/home/iceia/.conda/envs/cap_mud/lib/python3.7/site-packages/konlpy/tag/_okt.py:16: UserWarning: \"Twitter\" has changed to \"Okt\" since KoNLPy v0.4.5.\n",
      "  warn('\"Twitter\" has changed to \"Okt\" since KoNLPy v0.4.5.')\n"
     ]
    },
    {
     "name": "stdout",
     "output_type": "stream",
     "text": [
      "multi-summary=  공동주택 2900가구·판매시설 조성 GS건설 정비사업 수주액 업계 3위로 헤럴드경제 양영경 기자 GS건설이 7300억원 규모 대전 유성구 장대B구역 재개발사업의 시공권을 따냈다. 대전 유성구 장대B구역 재개발사업 조감도 GS건설 장대B구역 재개발사업은 유성오일장 장터를 포함한 9만7213㎡ 부지에 지하 4층 지상 49층 9개동 규모로 공동주택 2900가구와 판매시설을 조성하는 사업이다. 신월2구역 주택재건축정비사업조합은 지난 7일 시공자 선정 총회를 열고 HDC현대산업개발을 시공사로 확정했다.\n",
      "smry start\n"
     ]
    },
    {
     "name": "stderr",
     "output_type": "stream",
     "text": [
      "/home/iceia/.conda/envs/cap_mud/lib/python3.7/site-packages/konlpy/tag/_okt.py:16: UserWarning: \"Twitter\" has changed to \"Okt\" since KoNLPy v0.4.5.\n",
      "  warn('\"Twitter\" has changed to \"Okt\" since KoNLPy v0.4.5.')\n"
     ]
    },
    {
     "name": "stdout",
     "output_type": "stream",
     "text": [
      "multi-summary=  이날 법무·검찰개혁위원회는 국민의 알권리 보장 검찰권 행사에 대한 민주적 통제 등 형사사법에 대한 국민 신뢰 제고를 위해 국회의원·판검사·장차관 등 관련 중요사건의 검찰 불기소결정문 공개 수사기록 등의 전자문서화 수사기록 등의 열람·등사범위 확대의 내용을 담은 10차 권고안을 발표했다. SUB TITLE START ㆍ대통령 등 4급 이상 연루 사건 ㆍ수사 기록 전자문서화 권고도 SUB TITLE END 법무부 산하 제2기 법무·검찰개혁위원회가 국회의원이나 판검사 등이 연루된 중요 사건의 불기소 결정문을 공개하라고 권고했다. 개혁위는 “수사실무에서는 정당한 사유 없이 고소·고발장에 대한 열람·등사마저 거부하는 경우가 있다”며 “불기소처분으로 종결된 사건도 피의자·피해자 등 사건관계인과 참고인에게 타인진술서류 타인제출서류 수사기관 내부문서 등에 대해 원칙적으로 열람·등사를 허용하도록 즉시 개정을 권고한다”고 했다.\n",
      "smry start\n"
     ]
    },
    {
     "name": "stderr",
     "output_type": "stream",
     "text": [
      "/home/iceia/.conda/envs/cap_mud/lib/python3.7/site-packages/konlpy/tag/_okt.py:16: UserWarning: \"Twitter\" has changed to \"Okt\" since KoNLPy v0.4.5.\n",
      "  warn('\"Twitter\" has changed to \"Okt\" since KoNLPy v0.4.5.')\n"
     ]
    },
    {
     "name": "stdout",
     "output_type": "stream",
     "text": [
      "multi-summary=  결렬됐다는 뜻 아니라 한국당과의 협상 남아있다 합의안 만들 수 있는 기반은 다 만들어놨다 천정배 대안신당 의원 뉴스1 © News1 임세영 기자 서울 뉴스1 최종무 기자 김진 기자 고위공직자범죄수사처 공수처 등 검찰개혁 법안을 논의하는 4 1 검찰개혁법 협의체 가 9일 잠정적인 활동 중단을 선언했다. 박주민 더불어민주당 의원 뉴스1 © News1 이종덕 기자 박주민 민주당 의원도 논의는 다해서 입장은 확인했고 한국당이 어떻게 나오는지를 보고 추후 일정을 잡자고 했다 고 말했다. 검찰은 지난달 5일 군 검찰과 공조해 국방부 내 고등군사법원에 있는 이 전 법원장 사무실과 경남 사천시에 위치한 M사 등을 압수수색해 관련 자료를 확보했다.\n",
      "smry start\n"
     ]
    },
    {
     "name": "stderr",
     "output_type": "stream",
     "text": [
      "/home/iceia/.conda/envs/cap_mud/lib/python3.7/site-packages/konlpy/tag/_okt.py:16: UserWarning: \"Twitter\" has changed to \"Okt\" since KoNLPy v0.4.5.\n",
      "  warn('\"Twitter\" has changed to \"Okt\" since KoNLPy v0.4.5.')\n"
     ]
    },
    {
     "name": "stdout",
     "output_type": "stream",
     "text": [
      "multi-summary=  내일 수도권은 종일 미세먼지 농도 매우나쁨 단계를 보이겠고요. 경남도 제공 경남도는 9일 오전 도정회의실에서 미세먼지를 다량 배출하는 발전업 제강업 관련 기업체와 ‘미세먼지 저감을 위한 자발적 환경협약’을 체결했다. 수도권은 매우 나쁨 제주를 제외한 나머지 지역은 나쁨 수준으로 예보됐습니다.\n",
      "smry start\n"
     ]
    },
    {
     "name": "stderr",
     "output_type": "stream",
     "text": [
      "/home/iceia/.conda/envs/cap_mud/lib/python3.7/site-packages/konlpy/tag/_okt.py:16: UserWarning: \"Twitter\" has changed to \"Okt\" since KoNLPy v0.4.5.\n",
      "  warn('\"Twitter\" has changed to \"Okt\" since KoNLPy v0.4.5.')\n"
     ]
    },
    {
     "name": "stdout",
     "output_type": "stream",
     "text": [
      "multi-summary=  유기준 한국당 원내대표 후보 지난 5일 협상을 백 번 한다고 해도 될 수 있는 것은 아니라고 생각합니다. 심재철 한국당 원내대표 후보 지난 5일 협상하기도 할 것이고 또 어떤 것들은 그게 안 되면 부딪히기도 할 것이고…. 2019.12.9 jeong yna.co.kr 서울 연합뉴스 김동호 김여솔 기자 더불어민주당 이인영 원내대표는 9일 내년도 정부 예산안과 패스트트랙 신속처리안건 법안의 본회의 처리와 관련해 자유한국당의 새 원내대표가 선출되면 최선을 다해 대화에 나서겠다 고 밝혔다.\n",
      "smry start\n"
     ]
    },
    {
     "name": "stderr",
     "output_type": "stream",
     "text": [
      "/home/iceia/.conda/envs/cap_mud/lib/python3.7/site-packages/konlpy/tag/_okt.py:16: UserWarning: \"Twitter\" has changed to \"Okt\" since KoNLPy v0.4.5.\n",
      "  warn('\"Twitter\" has changed to \"Okt\" since KoNLPy v0.4.5.')\n"
     ]
    },
    {
     "name": "stdout",
     "output_type": "stream",
     "text": [
      "multi-summary=  전자파 발생 우려 때문에 2020년 12월말까지만 시험방송...본방송국 부지 물색 중 서울신문 국가표준시보 송출 안테나 경기도 여주시 능서면에 위치한 국가표준시보 시험방송국에 설치된 장파안테나.표준과학연구원 제공 남한과 북한을 아우르는 한반도 전역에 가장 정확한 표준시를 제공하기 위한 ‘국가표준시보국’이 오는 11일부터 시험방송에 들어간다. 유대혁 표준과학연구원 시간표준센터장은 “이번 장파시험방송은 전파방해에 취약한 GPS의 의존도를 낮추고 유사시 즉각 한반도 전역에 활용 가능한 표준시각 보급망이 형성하는데 도움이 될 것”이라며 “국가표준시보국은 전력·통신·방송 등 정밀 연동이 필요한 국가 기반산업의 시각 동기화는 물론 기상 재난 등 공익 정보를 장파를 통해 제공하는 인프라로도 활용할 수 있다”고 말했다. 표준硏 국가표준시보국 시험방송 송출 개시 경기도 여주시 능서면에 위치한 국가표준시보 시험방송국 아시아경제 김철현 기자 한반도 전역에 가장 정확한 표준시를 제공하기 위한 국가표준시보국 이 시험방송을 시작한다.\n",
      "smry start\n"
     ]
    },
    {
     "name": "stderr",
     "output_type": "stream",
     "text": [
      "/home/iceia/.conda/envs/cap_mud/lib/python3.7/site-packages/konlpy/tag/_okt.py:16: UserWarning: \"Twitter\" has changed to \"Okt\" since KoNLPy v0.4.5.\n",
      "  warn('\"Twitter\" has changed to \"Okt\" since KoNLPy v0.4.5.')\n"
     ]
    },
    {
     "name": "stdout",
     "output_type": "stream",
     "text": [
      "multi-summary=  사진 스트리미 가상화폐 암호화폐 거래소 고팍스를 운영하는 블록체인 스타트업 스트리미가 80억원 규모의 시리즈A 투자를 유치했다고 9일 밝혔다. 가상화폐 거래소 고팍스를 운영하는 블록체인 스타트업 신생 벤처기업 스트리미가 80억원 규모의 시리즈A 투자 유치를 마무리했다고 9일 밝혔다. 이준행 스트리미 대표 © News1 서울 뉴스1 윤지현 인턴기자 암호화폐 거래사이트 고팍스를 운영하는 블록체인 스타트업 스트리미가 80억원 규모의 시리즈A 투자유치에 성공했다고 9일 밝혔다.\n",
      "smry start\n"
     ]
    },
    {
     "name": "stderr",
     "output_type": "stream",
     "text": [
      "/home/iceia/.conda/envs/cap_mud/lib/python3.7/site-packages/konlpy/tag/_okt.py:16: UserWarning: \"Twitter\" has changed to \"Okt\" since KoNLPy v0.4.5.\n",
      "  warn('\"Twitter\" has changed to \"Okt\" since KoNLPy v0.4.5.')\n"
     ]
    },
    {
     "name": "stdout",
     "output_type": "stream",
     "text": [
      "multi-summary=  한국경제TV 이지효 기자 KT는 지난 9일 한국프레스센터에서 열린 2019 대한민국 커뮤니케이션 대상에서 KT그룹 사내방송 KBN 센터 가 3개 부문을 수상했다고 밝혔다. 이 상은 사업능력과 원천기술 연구개발 R D 투자를 중심으로 심사가 이루어진다. 한화큐셀은 지속적인 연구개발 R D 과 투자를 통해 기술을 진화시키면서 세계시장을 견인해 나갔다.\n",
      "smry start\n"
     ]
    },
    {
     "name": "stderr",
     "output_type": "stream",
     "text": [
      "/home/iceia/.conda/envs/cap_mud/lib/python3.7/site-packages/konlpy/tag/_okt.py:16: UserWarning: \"Twitter\" has changed to \"Okt\" since KoNLPy v0.4.5.\n",
      "  warn('\"Twitter\" has changed to \"Okt\" since KoNLPy v0.4.5.')\n"
     ]
    },
    {
     "name": "stdout",
     "output_type": "stream",
     "text": [
      "multi-summary=  12일 베트남서 공개 예정 2020년형 첫 갤럭시A 4개 카메라 ‘인덕션’ 모양 배치 삼성전자가 오는 12일 베트남에서 공개할 갤럭시 A51 이미지 사진제공 샘모바일 서울경제 삼성전자 005930 가 오는 12일 동남아시아 최대 시장인 베트남에서 ‘갤럭시 A51’을 공개하며 2020년형 갤럭시 A 시리즈의 포문을 연다. 9일 삼성전자 대표 김기남 김현석 고동진 는 해운 업체인 MSC크루즈의 그란디오사호에 초대형 스마트 LED 사이니지를 공급했다고 밝혔다. 서울 뉴시스 삼성전자는 글로벌 해운 업체인 MSC 크루즈의 그란디오사 Grandiosa ’호에 초대형 스마트 LED 사이니지를 공급했다고 9일 밝혔다.\n",
      "smry start\n"
     ]
    },
    {
     "name": "stderr",
     "output_type": "stream",
     "text": [
      "/home/iceia/.conda/envs/cap_mud/lib/python3.7/site-packages/konlpy/tag/_okt.py:16: UserWarning: \"Twitter\" has changed to \"Okt\" since KoNLPy v0.4.5.\n",
      "  warn('\"Twitter\" has changed to \"Okt\" since KoNLPy v0.4.5.')\n"
     ]
    },
    {
     "name": "stdout",
     "output_type": "stream",
     "text": [
      "multi-summary=  우리나라 국민은 27살부터 노동소득이 소비보다 많아지는 흑자 인생에 진입해 41살에 소득의 정점을 찍고 59살부터 적자로 전환하는 것으로 나타났습니다. 통계청의 2016년 국민이전계정 자료에 나온 결과로 정점에 이르는 41살에는 노동소득이 3천209만 원에 이르는 것으로 집계됐습니다. 통계청 조사에서도 한국인은 태어나서 20대 초중반까지 쓰는 돈이 더 많은 적자 생활을 하다가 27살부터 흑자 인생을 사는 것으로 나왔습니다.\n",
      "smry start\n"
     ]
    },
    {
     "name": "stderr",
     "output_type": "stream",
     "text": [
      "/home/iceia/.conda/envs/cap_mud/lib/python3.7/site-packages/konlpy/tag/_okt.py:16: UserWarning: \"Twitter\" has changed to \"Okt\" since KoNLPy v0.4.5.\n",
      "  warn('\"Twitter\" has changed to \"Okt\" since KoNLPy v0.4.5.')\n"
     ]
    },
    {
     "name": "stdout",
     "output_type": "stream",
     "text": [
      "multi-summary=  재판매 및 DB 금지 수원 연합뉴스 우영식 기자 경기도는 9일 오전 도청 상황실에서 미8군 사령부와 한미협력협의회에 관한 양해각서 MOU 를 체결하고 공동 의장의 직급을 높였다고 밝혔다. 폭스뉴스 인터뷰…北 서해발사장 중대 시험 발표 전 녹화된듯 北 연이은 대미압박 고조 행보 속 자제 및 협상재개 촉구 관측 마크 에스퍼 미 국방장관 로이터 연합뉴스 워싱턴 연합뉴스 백나리 특파원 마크 에스퍼 미 국방장관은 북한과의 대화에 늘 열려있다고 말했다. 폭스뉴스가 8일 현지시간 오전 방송한 인터뷰에 따르면 에스퍼 장관은 북한의 장거리미사일 및 핵실험 재개 가능성과 관련한 질문을 받고 가정적으로 답변하지 않겠다 면서 대화는 늘 열려있다고 본다 고 말했다.\n",
      "smry start\n"
     ]
    },
    {
     "name": "stderr",
     "output_type": "stream",
     "text": [
      "/home/iceia/.conda/envs/cap_mud/lib/python3.7/site-packages/konlpy/tag/_okt.py:16: UserWarning: \"Twitter\" has changed to \"Okt\" since KoNLPy v0.4.5.\n",
      "  warn('\"Twitter\" has changed to \"Okt\" since KoNLPy v0.4.5.')\n"
     ]
    },
    {
     "name": "stdout",
     "output_type": "stream",
     "text": [
      "multi-summary=  그는 장관 후보자로 지명된 이후 검찰 개혁을 향한 국민의 기대와 요구가 더 높아졌다는 것을 확인할 수 있었다 며 사법개혁과 검찰개혁의 요체는 국민이 안심하는 것 국민을 편안하게 만드는 것이라고 생각한다 고 말했다. 한국당은 선거제·사법개혁 저지 입장 철회 않아 국민 열망인 정치·사법개혁 처리 늦어져 매우 유감 패스트트랙 올라탄 법안 임시국회서 처리 시도 서울 뉴시스 장세영 기자 9일 오전 서울 여의도 국회에서 열린 여야 4 1 선거법 협의체 회의에 참석한 김관영 왼쪽부터 바른미래당 의원 유성엽 대안신당 창당준비위원장 윤호중 더불어민주당 사무총장 윤소하 정의당 원내대표 박주현 민주평화당 의원. 당초 민주당 바른미래당 정의당 민주평화당 그리고 대안신당으로 구성된 4＋1 협의체는 이날 오후 본회의가 열리면 예산안과 패스트트랙 법안을 일괄 상정하는 방안을 논의해왔으나 문 의장과 교섭단체 3당 원내대표 회동으로 기류가 바뀐 것이다.\n",
      "smry start\n"
     ]
    },
    {
     "name": "stderr",
     "output_type": "stream",
     "text": [
      "/home/iceia/.conda/envs/cap_mud/lib/python3.7/site-packages/konlpy/tag/_okt.py:16: UserWarning: \"Twitter\" has changed to \"Okt\" since KoNLPy v0.4.5.\n",
      "  warn('\"Twitter\" has changed to \"Okt\" since KoNLPy v0.4.5.')\n"
     ]
    },
    {
     "name": "stdout",
     "output_type": "stream",
     "text": [
      "multi-summary=  한국당이 필리버스터를 철회하는 대신 여야는 패스트트랙 법안 상정을 보류하기로 했다. A씨는 지난 7월 말을 듣지 않는다면서 두 살에서 네살 사이 원생 세 명을 십분에서 20분 정도 방치한 혐의를 받습니다. 그렇게 알러지 생기는 거는 큰 것들… 그리고 알러지 생기는 건 본 적이 없어요… 최 경장이 의료 과실이라고 주장했지만 병원측은 실수를 인정하면서도 의료 과실은 아니라는 입장입니다.\n",
      "smry start\n"
     ]
    },
    {
     "name": "stderr",
     "output_type": "stream",
     "text": [
      "/home/iceia/.conda/envs/cap_mud/lib/python3.7/site-packages/konlpy/tag/_okt.py:16: UserWarning: \"Twitter\" has changed to \"Okt\" since KoNLPy v0.4.5.\n",
      "  warn('\"Twitter\" has changed to \"Okt\" since KoNLPy v0.4.5.')\n"
     ]
    },
    {
     "name": "stdout",
     "output_type": "stream",
     "text": [
      "multi-summary=  서울 연합뉴스 최윤정 기자 현대자동차그룹은 9일 사회복지공동모금회에 이웃돕기 성금으로 250억 원을 전달했다고 밝혔다. 이날 현대차그룹은 이웃돕기 성금으로 250억 원을 사회복지공동모금회 측에 전달했다. 현대차그룹은 9일 서울 중구에 위치한 사회복지공동모금회 회관에서 2020 나눔 캠페인 성금 전달식을 갖고 성금 250억 원을 전달했다고 밝혔다.\n",
      "smry start\n"
     ]
    },
    {
     "name": "stderr",
     "output_type": "stream",
     "text": [
      "/home/iceia/.conda/envs/cap_mud/lib/python3.7/site-packages/konlpy/tag/_okt.py:16: UserWarning: \"Twitter\" has changed to \"Okt\" since KoNLPy v0.4.5.\n",
      "  warn('\"Twitter\" has changed to \"Okt\" since KoNLPy v0.4.5.')\n"
     ]
    },
    {
     "name": "stdout",
     "output_type": "stream",
     "text": [
      "multi-summary=  한국은행이 9일 발표한 2019년 하반기 시스템리스크 서베이 결과 에 따르면 국내 금융기관 임직원과 금융·경제연구소 직원 대학교수 해외 금융기관 한국투자 담당자 92명이 미중 무역분쟁 74% 과 국내 경기둔화 지속 52% 글로벌 경기둔화 40% 가계부채 문제 40% 중국 금융·경제불안 39% 을 한국 금융시스템 주요 리스크로 선정했다. 또 미중 무역분쟁과 국내 경기둔화 지속 글로벌 경기둔화는 1년 이내 가계부채 문제와 중국 금융·경제 불안은 1 3년내 현재화할 가능성이 크다고 전망했다. 국내 경기둔화 지속과 미중 무역분쟁은 발생 가능성이 크고 글로벌 경기둔화와 중국 금융·경제 불안 가계부채 문제는 현실화 가능성이 상대적으로 작다고 진단했다.\n",
      "smry start\n"
     ]
    },
    {
     "name": "stderr",
     "output_type": "stream",
     "text": [
      "/home/iceia/.conda/envs/cap_mud/lib/python3.7/site-packages/konlpy/tag/_okt.py:16: UserWarning: \"Twitter\" has changed to \"Okt\" since KoNLPy v0.4.5.\n",
      "  warn('\"Twitter\" has changed to \"Okt\" since KoNLPy v0.4.5.')\n"
     ]
    },
    {
     "name": "stdout",
     "output_type": "stream",
     "text": [
      "multi-summary=  김영철 담화… 트럼프 매우 초조…다시 망령든 늙다리 로 불러야 할수도 트럼프에 대한 김정은 인식 달라질 수 있어 …대통령 직함 호칭 안해 놀라라고 하는 일인데 놀라지 않으면 안타까울 것 …적대행위 암시 서울 연합뉴스 김동현 기자 북한은 9일 김정은 북한 국무위원장이 적대적으로 행동하면 사실상 모든 것을 잃을 수 있다는 도널드 트럼프 미국 대통령의 경고에 강하게 반발했다. 김정은은 너무 영리하고 적대적 방식으로 행동하면 잃을 것이 너무 많다 는 트럼프 대통령의 지난 8일 트윗과 북한이 적대적으로 행동한다면 나는 놀랄 것 이라는 지난 7일 발언에 대한 반응이다. 북한은 김영철 위원장 담화를 통해 트럼프 대통령 발언에 반발하며 미국의 태도 변화가 없으면 이른바 새로운 길을 가겠다는 의지를 거듭 강조한 것으로 풀이됩니다.\n",
      "smry start\n"
     ]
    },
    {
     "name": "stderr",
     "output_type": "stream",
     "text": [
      "/home/iceia/.conda/envs/cap_mud/lib/python3.7/site-packages/konlpy/tag/_okt.py:16: UserWarning: \"Twitter\" has changed to \"Okt\" since KoNLPy v0.4.5.\n",
      "  warn('\"Twitter\" has changed to \"Okt\" since KoNLPy v0.4.5.')\n"
     ]
    },
    {
     "name": "stdout",
     "output_type": "stream",
     "text": [
      "multi-summary=  국민 눈높이에 다가서려는 당 쇄신의 출발 신호 文정권 독재 마각 드러내 민주주의 근간 흔들려 2004년 총선 등 과거 사례 통해 난관 이겨내자 공관위장 국민 추천 통해 믿을 수 있는 분으로 서울 뉴시스 이종철 기자 황교안 자유한국당 대표가 9일 오후 서울 여의도 국회에서 열린 총선기획단 회의에서 모두발언을 하고 있다. 뉴시스 한편 황 대표는 심재철 의원 5선 과 김재원 의원 3선 이 새 원내대표·정책위의장으로 선출된 것과 관련 “저는 원내대표와 또 새 정책위의장 그리고 여러분들과 함께 문재인 정권의 좌파폭정을 막아내고 총선 승리와 구국의 길을 함께 힘차게 열어가겠다”고 밝혔다. 황 대표는 “다시 대동단결해서 문재인 정권의 폭정을 심판하고 국민과 함께 승리하는 그날을 향해서 힘차게 달려가자”며 “고난의 길을 우리 원내대표 또 정책위의장 혼자 가시게 하지 말고 우리 모두 함께 그 고난의 짐을 나누어서 이제는 우리가 이기는 모습을 국민 앞에 보여드릴 수 있도록 모두 함께 하자”고 독려했다.\n",
      "smry start\n"
     ]
    },
    {
     "name": "stderr",
     "output_type": "stream",
     "text": [
      "/home/iceia/.conda/envs/cap_mud/lib/python3.7/site-packages/konlpy/tag/_okt.py:16: UserWarning: \"Twitter\" has changed to \"Okt\" since KoNLPy v0.4.5.\n",
      "  warn('\"Twitter\" has changed to \"Okt\" since KoNLPy v0.4.5.')\n"
     ]
    },
    {
     "name": "stdout",
     "output_type": "stream",
     "text": [
      "multi-summary=  9일 국민권익위원회가 발표한 2019년 공공기관 청렴도 측정 결과 광주·전남 시·도 교육청은 종합청렴도에서 전체 5등급 중 나란히 3등급을 받았다. 이는 지난해에 비해 2단계나 상승한 것으로 전북도는 이번 평가에서 외부청렴도 8.51점 1.36점 상승 내부청렴도 8.21점 0.37점 상승 정책고객평가 6.79점 0.14점 상승 과 부패사건이 발생하지 않아 모든 평가항목에서 골고루 전국 평균을 훨씬 웃도는 좋은 평가를 받은 것으로 나타났다. 도는 특히 민원과 공사 용역 보조금 분야에서 전북도의 행정서비스를 받은 민원인들에게 평가받은 외부청렴도가 7.15점에서 8.51점으로 대폭 상승해 도민들로부터 투명하고 깨끗한 전북도의 행정을 인정받았다는 점에서 그 의미를 더했음을 설명했다.\n",
      "smry start\n"
     ]
    },
    {
     "name": "stderr",
     "output_type": "stream",
     "text": [
      "/home/iceia/.conda/envs/cap_mud/lib/python3.7/site-packages/konlpy/tag/_okt.py:16: UserWarning: \"Twitter\" has changed to \"Okt\" since KoNLPy v0.4.5.\n",
      "  warn('\"Twitter\" has changed to \"Okt\" since KoNLPy v0.4.5.')\n"
     ]
    },
    {
     "name": "stdout",
     "output_type": "stream",
     "text": [
      "multi-summary=  서울경제 LG유플러스 032640 가 국토교통부 국토지리정보원과 함께 자율주행 차량의 위치를 정확하게 파악할 수 있는 ‘실시간 고정밀 측위 RTK ’ 기술 고도화를 위해 협력한다고 9일 밝혔다. 임진혁기자 liberal sedaily.com LG유플러스 직원이 ‘실시간 고정밀 측위’ 기술을 기반으로 자율주행 차량의 움직임을 파악하고 있다. 디지털데일리 권하영기자 LG유플러스는 국토교통부 국토지리정보원과 ‘고정밀 측위 RTK 서비스 활성화를 위한 양해각서 MOU ’를 체결하고 기술·서비스 협력 방안을 모색하기로 했다고 9일 밝혔다.\n",
      "smry start\n"
     ]
    },
    {
     "name": "stderr",
     "output_type": "stream",
     "text": [
      "/home/iceia/.conda/envs/cap_mud/lib/python3.7/site-packages/konlpy/tag/_okt.py:16: UserWarning: \"Twitter\" has changed to \"Okt\" since KoNLPy v0.4.5.\n",
      "  warn('\"Twitter\" has changed to \"Okt\" since KoNLPy v0.4.5.')\n"
     ]
    },
    {
     "name": "stdout",
     "output_type": "stream",
     "text": [
      "multi-summary=  9일 SK텔레콤과 통계청은 인구·가구 데이터 등 공공 빅데이터에 휴대폰 위치정보 등 모바일 빅데이터 를 결합하고 이를 SK텔레콤의 인공지능 빅데이터 분석기술로 도식화 한 유동인구 지도 시범 서비스 를 시작한다고 밝혔다. SK텔레콤 모바일 빅데이터 기반 유동인구 지도 시범 서비스.ⓒSK텔레콤 전국 시군구별 유동인구 분석…인력·예산 절감 기여 SK텔레콤은 통계청과 모바일 빅데이터 기반 유동인구 지도 시범 서비스를 시작한다고 9일 밝혔다. 아시아경제 구채은 기자 SK텔레콤과 통계청이 모바일 빅데이터 기반의 유동인구 지도 시범 서비스 를 시작한다고 9일 밝혔다.\n",
      "smry start\n"
     ]
    },
    {
     "name": "stderr",
     "output_type": "stream",
     "text": [
      "/home/iceia/.conda/envs/cap_mud/lib/python3.7/site-packages/konlpy/tag/_okt.py:16: UserWarning: \"Twitter\" has changed to \"Okt\" since KoNLPy v0.4.5.\n",
      "  warn('\"Twitter\" has changed to \"Okt\" since KoNLPy v0.4.5.')\n"
     ]
    },
    {
     "name": "stdout",
     "output_type": "stream",
     "text": [
      "multi-summary=  심사위원회는 엄정한 역사의식을 바탕으로 지식인과 언론인에게 먼저 성찰과 반성을 촉구하던 송 선생의 날 선 비판 정신을 심사위원들은 임 검사에게서 발견할 수 있었다 며 이 시대 성숙한 시민의식에 비추어 볼 때 수상자와 같은 검사의 존재는 이례적이기보다는 오히려 그 출현은 늦었고 그 수는 부족하다고 본다 고 말했다. 20%가 넘었던 고금리 이자비용이 4%대로 줄어 경제적 부담이 크게 경감됐고 매출도 점점 늘어나고 있어 A씨는 요즘 하루하루가 소중하고 즐겁기만 하다 경기신보는 이처럼 지난해 11월 전국 16개 지역신용보증재단 이하 지역신보 가운데 최초로 565억원의 채권소각을 실시한 후 올해 하반기까지 세차례에 걸쳐 총 920억원의 채권소각을 단행해 7638명 채무관계자의 빚을 탕감했다고 9일 밝혔다. 주시운 언론홍보담당관은 “이번 수상은 시민들의 진솔한 모습을 담은 이야기를 다양한 코너로 구성해 많은 시민들과 소통하고자 노력한 결과로 앞으로도 106만 고양시민에게 시정뿐만 아니라 문화 명소 인물 역사 생활정보 등 다양한 분야의 정보를 전달하기 위해 더욱 노력할 계획”이라고 전했다.\n",
      "smry start\n"
     ]
    },
    {
     "name": "stderr",
     "output_type": "stream",
     "text": [
      "/home/iceia/.conda/envs/cap_mud/lib/python3.7/site-packages/konlpy/tag/_okt.py:16: UserWarning: \"Twitter\" has changed to \"Okt\" since KoNLPy v0.4.5.\n",
      "  warn('\"Twitter\" has changed to \"Okt\" since KoNLPy v0.4.5.')\n"
     ]
    },
    {
     "name": "stdout",
     "output_type": "stream",
     "text": [
      "multi-summary=  엔에스는 파로스자산운용 주 및 특별관계자의 지분율이 6.12%에서 4.66%로 변동했다고 9일 공시했다. 코닉글로리는 정해종 및 특별관계자의 지분율이 5.04%에서 6.23%로 변동했다고 9일 공시했다. 에이티세미콘은 제이앤에이치테크 주 및 특별관계자의 지분율이 38.03%에서 36.8%로 변동했다고 9일 공시했다.\n",
      "smry start\n"
     ]
    },
    {
     "name": "stderr",
     "output_type": "stream",
     "text": [
      "/home/iceia/.conda/envs/cap_mud/lib/python3.7/site-packages/konlpy/tag/_okt.py:16: UserWarning: \"Twitter\" has changed to \"Okt\" since KoNLPy v0.4.5.\n",
      "  warn('\"Twitter\" has changed to \"Okt\" since KoNLPy v0.4.5.')\n"
     ]
    },
    {
     "name": "stdout",
     "output_type": "stream",
     "text": [
      "multi-summary=  국민은행 관계자는 이번 프로젝트가 장병들의 소원을 실현하는데 조금이나마 도움이 되길 바란다 며 앞으로도 국방부와 지속적인 협력을 통해 장병들의 꿈과 희망을 응원하는 행사로 더욱 발전시켜 나가겠다 고 말했다. 활동 기간은 2020년 1월 2일부터 2월 28일까지로 약 2개월이며 블록체인과 가상자산 투자에 관심이 있는 대학생 휴학생 일반인 누구나 지원 가능하다. 서포터즈에게 30만 원 상당 블록체인 포럼 일반 티켓 1매를 제공하며 매월 개인별 활동 내역에 따른 활동비 차등 지급 최우수 서포터즈 선정 후 인센티브 추가 지급 우수 활동자 지닥 인턴십 기회와 입사 우대 기념품 지급 등 다양한 활동 혜택이 제공된다.\n",
      "smry start\n"
     ]
    },
    {
     "name": "stderr",
     "output_type": "stream",
     "text": [
      "/home/iceia/.conda/envs/cap_mud/lib/python3.7/site-packages/konlpy/tag/_okt.py:16: UserWarning: \"Twitter\" has changed to \"Okt\" since KoNLPy v0.4.5.\n",
      "  warn('\"Twitter\" has changed to \"Okt\" since KoNLPy v0.4.5.')\n"
     ]
    },
    {
     "name": "stdout",
     "output_type": "stream",
     "text": [
      "multi-summary=  앞서 지난 10월 시민단체 서민민생대책위원회는 알선수재 혐의와 정치자금법 위반 혐의 등으로 이 전 구청장과 김 구청장 부부를 서울남부지검에 고발했습니다. 검찰은 이 전 구청장에게 정치자금법 위반 혐의 등을 적용한 것으로 알려졌다. 앞서 검찰은 이 전 구청장에 대해 정치자금법 위반 혐의 등을 적용해 구속영장을 청구했다.\n",
      "smry start\n"
     ]
    },
    {
     "name": "stderr",
     "output_type": "stream",
     "text": [
      "/home/iceia/.conda/envs/cap_mud/lib/python3.7/site-packages/konlpy/tag/_okt.py:16: UserWarning: \"Twitter\" has changed to \"Okt\" since KoNLPy v0.4.5.\n",
      "  warn('\"Twitter\" has changed to \"Okt\" since KoNLPy v0.4.5.')\n"
     ]
    },
    {
     "name": "stdout",
     "output_type": "stream",
     "text": [
      "multi-summary=  연합뉴스 김기현 전 울산시장 측근 비리 수사를 담당했던 경찰관 10여명이 검찰 소환 조사에 불응하자 검찰이 체포영장 청구 등 강제수사 방안까지 검토하고 있다. 김기현 前울산시장 측근 비리 정황 2년전 비리 의혹 처음으로 언급 임동호 비리 의혹 말한적 없다 검찰 조사 내용은 알리지 않아 청와대 하명 수사 의혹 사건을 수사 중인 검찰이 임동호 사진 더불어민주당 중앙당 전 최고위원을 소환해 조사하기로 했다. 김기현 전 울산시장 측근 비리 의혹 수사와 관련한 정황 조사 때문인 것으로 알려졌다.\n",
      "smry start\n"
     ]
    },
    {
     "name": "stderr",
     "output_type": "stream",
     "text": [
      "/home/iceia/.conda/envs/cap_mud/lib/python3.7/site-packages/konlpy/tag/_okt.py:16: UserWarning: \"Twitter\" has changed to \"Okt\" since KoNLPy v0.4.5.\n",
      "  warn('\"Twitter\" has changed to \"Okt\" since KoNLPy v0.4.5.')\n"
     ]
    },
    {
     "name": "stdout",
     "output_type": "stream",
     "text": [
      "multi-summary=  렌트카 기사 알선 허용범위 축소 법 조항 삭제해 달라 지디넷코리아 김민선 기자 apos타다금지법 apos이 국회 본회의 통과를 목전에 둔 가운데 타다 모회사인 쏘카의 이재웅 대표와 법안을 발의한 박홍근 의원 더불어민주당 이 서로 비판의 목소리를 높여가고 있다. 또 박홍근 의원은 “카풀 문제로 큰 갈등과 희생을 치르면서 도출한 사회적 대타협의 내용을 법안으로 마련한 것”이라면서 “이 법안이 조속히 처리되지 않아서 타다의 불법성 여부를 놓고 또다시 사회적 갈등이 첨예하게 고조될 것이 뻔한데 이를 정치권과 정부는 방기할 수는 없는 노릇이다”고 설명했다. 택시4단체는 이날 성명서에서 국회는 택시가족 희생으로 어렵게 상임위를 통과한 법안을 본회의에서 조속히 통과시킬 것을 요구한다 면서 만일 타다 측 억지주장으로 법안 통과가 무산되면 우리 택시가족은 지난 3월 사회적 대타협 을 무효화하고 100만 택시가족 총궐기로 그 책임을 물을 것 이라고 밝혔다.\n",
      "smry start\n"
     ]
    },
    {
     "name": "stderr",
     "output_type": "stream",
     "text": [
      "/home/iceia/.conda/envs/cap_mud/lib/python3.7/site-packages/konlpy/tag/_okt.py:16: UserWarning: \"Twitter\" has changed to \"Okt\" since KoNLPy v0.4.5.\n",
      "  warn('\"Twitter\" has changed to \"Okt\" since KoNLPy v0.4.5.')\n"
     ]
    },
    {
     "name": "stdout",
     "output_type": "stream",
     "text": [
      "multi-summary=  여론조사 전문기관 리얼미터가 9일 발표한 12월 1주차 여론조사 결과 YTN의뢰 지난 2 6일까지 전국 19세 이상 유권자 2508명을 대상 에 따르면 문 대통령의 국정수행 지지율은 11월4주차 주간집계 대비 0.1%포인트 내린 47.5% 매우 잘함 26.5% 잘하는 편 21.0% 로 집계됐다. 조 공동대표는 거짓 촛불이 조작한 가짜뉴스로 죄 없는 박 전 대통령을 불법 탄핵했다 며 반드시 역사의 심판을 받을 것 이라고 했다. 이어 박 전 대통령은 대한민국 역사상 최초의 여성 대통령이자 국민 과반 이상의 지지를 얻고 당선됐다 며 거짓 촛불세력은 여성이란 이유로 온갖 살인적 가짜뉴스를 만들어 국민을 선동했다 고 했다.\n",
      "smry start\n"
     ]
    },
    {
     "name": "stderr",
     "output_type": "stream",
     "text": [
      "/home/iceia/.conda/envs/cap_mud/lib/python3.7/site-packages/konlpy/tag/_okt.py:16: UserWarning: \"Twitter\" has changed to \"Okt\" since KoNLPy v0.4.5.\n",
      "  warn('\"Twitter\" has changed to \"Okt\" since KoNLPy v0.4.5.')\n"
     ]
    },
    {
     "name": "stdout",
     "output_type": "stream",
     "text": [
      "multi-summary=  표 거래원 상위 10 45 기준 한진중공업 이 시각 거래소에서 한진중공업 이외에도 이더블유케이 8.57% 큐리언트 5.16% 제이웨이 7.45% 일진홀딩스 10.24% 우원개발 5.21% 등이 상승세를 보이고 있다. 주체별 매매동향 전일 기관 대량 순매수 지난 한달을 기준으로 보면 기관이 362.1만주를 순매수한 반면 외국인은 223.8만주를 순매도했고 개인들도 138.2만주를 순매도했다. 투자자별 동향을 살펴보면 외국인이 홀로 매수 포지션을 취하고 있는 반면 개인과 기관은 동반 매도세를 보이고 있다.\n",
      "smry start\n"
     ]
    },
    {
     "name": "stderr",
     "output_type": "stream",
     "text": [
      "/home/iceia/.conda/envs/cap_mud/lib/python3.7/site-packages/konlpy/tag/_okt.py:16: UserWarning: \"Twitter\" has changed to \"Okt\" since KoNLPy v0.4.5.\n",
      "  warn('\"Twitter\" has changed to \"Okt\" since KoNLPy v0.4.5.')\n"
     ]
    },
    {
     "name": "stdout",
     "output_type": "stream",
     "text": [
      "multi-summary=  한국당 필리버스터 철회 조건 수사권 등 정기국회 상정 않기로 유치원3법 입장 달라 불씨 여전 파국은 피했지만… 여야 3당은 9일 자유한국당이 필리버스터 무제한토론 를 철회하면 선거제 개편과 고위공직자범죄수사처 설치 등 패스트트랙 신속처리안건 법안을 정기국회 내 상정하지 않기로 합의했다. 구체적 합의사항은 10일 본회의에서 내년도 예산안을 처리하고 한국당이 199개 안건에 신청한 필리버스터를 철회하면 패스트트랙법안을 정기국회 내에 상정하지 않는다 는 내용이다. 이인영 민주당 원내대표는 한국당이 11월 29일 신청한 필리버스터를 철회하는 것이 전제조건 이라며 유치원3법에 대한 필리버스터 철회도 당연하다고 생각한다 고 말했다.\n",
      "smry start\n"
     ]
    },
    {
     "name": "stderr",
     "output_type": "stream",
     "text": [
      "/home/iceia/.conda/envs/cap_mud/lib/python3.7/site-packages/konlpy/tag/_okt.py:16: UserWarning: \"Twitter\" has changed to \"Okt\" since KoNLPy v0.4.5.\n",
      "  warn('\"Twitter\" has changed to \"Okt\" since KoNLPy v0.4.5.')\n"
     ]
    },
    {
     "name": "stdout",
     "output_type": "stream",
     "text": [
      "multi-summary=  패스트트랙 예산안 국면 속 강력 투쟁과 적극 협상 병행 강조한 심재철 김재원 당선 미디어오늘 금준경 기자 자유한국당 새 원내대표에 심재철 의원 정책위의장에 김재원 의원이 선출됐다. 연합 헤럴드경제 이원율 기자 심재철 5선 의원이 자유한국당의 신임 원내대표로 9일 당선됐다. 사진 연합뉴스 자유한국당 신임 원내대표에 5선 심재철 의원 안양 동안구을·사진 이 9일 선출됐다.\n",
      "smry start\n"
     ]
    },
    {
     "name": "stderr",
     "output_type": "stream",
     "text": [
      "/home/iceia/.conda/envs/cap_mud/lib/python3.7/site-packages/konlpy/tag/_okt.py:16: UserWarning: \"Twitter\" has changed to \"Okt\" since KoNLPy v0.4.5.\n",
      "  warn('\"Twitter\" has changed to \"Okt\" since KoNLPy v0.4.5.')\n"
     ]
    },
    {
     "name": "stdout",
     "output_type": "stream",
     "text": [
      "multi-summary=  내정된 강 부사장은 내년 1분기 이사회와 주주총회를 거쳐 안랩 대표이사로 선임될 예정이다. 이와 관련 안랩 측은 현 권치중 대표의 임기는 내년 1분기까지다 라며 신임 대표는 내년 이사회와 주주총회를 거쳐 선임될 것이며 현재 공식적으로 확정된 바 없다 고 말했다. 케니 여 프로스트 앤 설리번 애널리스트는 “안랩은 멀티 운용체계 OS 멀티 클라우드 등 기업 환경 변화에 따른 보안 요구에 최적화한 엔드포인트 솔루션을 제공한다”면서 “복잡한 엔드포인트 환경을 단일 에이전트와 단일 관리 콘솔을 통해 효과적으로 보호할 수 있다”고 평가했다.\n",
      "smry start\n"
     ]
    },
    {
     "name": "stderr",
     "output_type": "stream",
     "text": [
      "/home/iceia/.conda/envs/cap_mud/lib/python3.7/site-packages/konlpy/tag/_okt.py:16: UserWarning: \"Twitter\" has changed to \"Okt\" since KoNLPy v0.4.5.\n",
      "  warn('\"Twitter\" has changed to \"Okt\" since KoNLPy v0.4.5.')\n"
     ]
    },
    {
     "name": "stdout",
     "output_type": "stream",
     "text": [
      "multi-summary=  카카오는 카카오뱅크 카카오페이 등을 통해 금융 사업을 확장하고 있는데 김 부회장은 금융과 IT 사업의 가교 역할을 할 전망이다. 내년 상반기 서울·수도권 주요 거점과 군부대 연결 안규진 카카오모빌리티 사업부문 전무 왼쪽 와 조성곤 인에이블다온소프트 대표가 병영 셔틀 서비스 지원을 위한 업무협약 을 체결하고 기념촬영을 하고 있다. 카카오모빌리티 더캠프 업무협약 체결 병영 셔틀 버스 운영해 군 장병 및 방문객 이동 편의 향상 안규진 왼쪽 카카오모빌리티 사업부분 전무와 조성곤 인에이블다온소프트 대표가 ‘병영 셔틀 서비스 지원을 위한 업무협약’을 체결하고 기념사진을 촬영하고 있다.\n",
      "smry start\n"
     ]
    },
    {
     "name": "stderr",
     "output_type": "stream",
     "text": [
      "/home/iceia/.conda/envs/cap_mud/lib/python3.7/site-packages/konlpy/tag/_okt.py:16: UserWarning: \"Twitter\" has changed to \"Okt\" since KoNLPy v0.4.5.\n",
      "  warn('\"Twitter\" has changed to \"Okt\" since KoNLPy v0.4.5.')\n"
     ]
    },
    {
     "name": "stdout",
     "output_type": "stream",
     "text": [
      "multi-summary=  디지털데일리 최민지기자 LG유플러스에 인수되는 CJ헬로는 ‘LG헬로비전’으로 사명을 변경하고 송구영 LG유플러스 홈‧미디어부문장 사진 을 대표로 내정한다. 머니투데이 김주현 기자 대표에 송구영 LG유플러스 홈·미디어 부문장 내정…24일 임시주총 LG유플러스로 인수 절차를 진행 중인 CJ헬로가 LG헬로비전으로 사명을 바꾼다. CJ헬로는 주총에서 송구영 LG유플러스 홈·미디어부문장 전무 을 사내이사로 선임한다.\n",
      "smry start\n"
     ]
    },
    {
     "name": "stderr",
     "output_type": "stream",
     "text": [
      "/home/iceia/.conda/envs/cap_mud/lib/python3.7/site-packages/konlpy/tag/_okt.py:16: UserWarning: \"Twitter\" has changed to \"Okt\" since KoNLPy v0.4.5.\n",
      "  warn('\"Twitter\" has changed to \"Okt\" since KoNLPy v0.4.5.')\n"
     ]
    },
    {
     "name": "stdout",
     "output_type": "stream",
     "text": [
      "multi-summary=  제주지방해양경찰청은 오늘 대성호의 베트남 선원으로 추정되는 시신을 제주대학교 병원에서 부검한 결과 사인을 화재사 로 추정했습니다. 9일 제주지방해양경찰청은 8일 인양된 시신 1구에 대해 제주대학교병원이 부검을 실시한 결과 치명적인 외상은 없으며 사인은 화재사 로 추정된다고 밝혔다. 대성호 실종자 수색 제주도사진기자회 공동취재단 9일 제주지방해양경찰청에 따르면 전날 오후 해저에 침몰한 대성호 선수 추정 물체로부터 약 44ｍ 떨어진 곳에서 수습한 시신의 지문을 채취해 확인한 결과 베트남 선원으로 신원이 특정됐다.\n",
      "smry start\n"
     ]
    },
    {
     "name": "stderr",
     "output_type": "stream",
     "text": [
      "/home/iceia/.conda/envs/cap_mud/lib/python3.7/site-packages/konlpy/tag/_okt.py:16: UserWarning: \"Twitter\" has changed to \"Okt\" since KoNLPy v0.4.5.\n",
      "  warn('\"Twitter\" has changed to \"Okt\" since KoNLPy v0.4.5.')\n"
     ]
    },
    {
     "name": "stdout",
     "output_type": "stream",
     "text": [
      "multi-summary=  거래소는 “리츠인프라·우선주 혼합지수를 활용한 ETP상품을 통해 리츠종목의 분산투자를 도모하고 최근 시장의 관심이 높아지고 있는 배당형 테마투자 수요를 충족할 것”이라며 “급변하는 국내외 투자트렌드를 고려하고 시장의 의견을 적극 반영하여 향후 다양한 테마형 지수 개발할 예정”이라고 말했다. 올리브영 관계자는 “SCM 분야에서 새로운 키워드로 떠오르고 있는 딥 러닝 기술을 활용한 수요 예측 시스템을 국내 유통업계 최초로 구현했다는 점에서 의미가 크다”며 “첨단 물류 기술 역량을 지속적으로 키워나가면서 앞으로 물류 혁신에 총력을 다할 것”이라고 말했다. 최용석 한국포스증권 플랫폼사업본부장은 “고객의 시선에서 손쉬운 온라인 자산관리를 구현하기 위해 로보어드바이저 맞춤형 큐레이션 사설인증 등 첨단기술을 도입했다”며 “지능형 UX로 화면을 설계해 누구나 쉽게 이용 가능하다는 것이 큰 장점”이라고 말했다.\n",
      "smry start\n"
     ]
    },
    {
     "name": "stderr",
     "output_type": "stream",
     "text": [
      "/home/iceia/.conda/envs/cap_mud/lib/python3.7/site-packages/konlpy/tag/_okt.py:16: UserWarning: \"Twitter\" has changed to \"Okt\" since KoNLPy v0.4.5.\n",
      "  warn('\"Twitter\" has changed to \"Okt\" since KoNLPy v0.4.5.')\n"
     ]
    },
    {
     "name": "stdout",
     "output_type": "stream",
     "text": [
      "multi-summary=  하지만 검찰은 당시 김 전 시장 측근 수사 경위를 확인하기 위해선 조사가 불가피하다고 보고 강제 구인 방안을 검토 중입니다. 기자 검찰은 김기현 전 시장의 측근과 가족을 수사한 울산경찰청 관계자 10여 명을 소환 조사하려고 시도 중입니다. 황 청장은 이날 오후 중구 선화동 대전시민대학 식장산홀에서 열린 검찰은 왜 고래고기를 돌려줬을까 라는 제목의 책을 소개하는 북콘서트에서 하명수사나 청와대의 선거개입 수사라고 명명을 하는데 이것은 검찰과 한국당 보수언론이 만들어낸 가공의 거짓 프레임 이라고 주장했다.\n",
      "smry start\n"
     ]
    },
    {
     "name": "stderr",
     "output_type": "stream",
     "text": [
      "/home/iceia/.conda/envs/cap_mud/lib/python3.7/site-packages/konlpy/tag/_okt.py:16: UserWarning: \"Twitter\" has changed to \"Okt\" since KoNLPy v0.4.5.\n",
      "  warn('\"Twitter\" has changed to \"Okt\" since KoNLPy v0.4.5.')\n"
     ]
    },
    {
     "name": "stdout",
     "output_type": "stream",
     "text": [
      "multi-summary=  세계 6번째 ‘그란디오사’호 갤러리아 천장 전체에 설치 삼성전자가 글로벌 해운업체인 MSC 크루즈의 ‘그란디오사 Grandiosa ’호에 초대형 스마트 LED 사이니지를 공급한다. 삼성전자 제공 세계에서 6번째로 큰 초대형 크루즈선 내부에 93m 길이에 달하는 삼성전자 스마트 발광다이오드 LED 사이니지가 설치됐다. 삼성전자는 글로벌 해운 업체 MSC 크루즈의 ‘그란디오사’호 내부 천장에 전체 면적 580㎡의 커브드 LED 사이니지를 설치했다고 9일 밝혔다.\n",
      "smry start\n"
     ]
    },
    {
     "name": "stderr",
     "output_type": "stream",
     "text": [
      "/home/iceia/.conda/envs/cap_mud/lib/python3.7/site-packages/konlpy/tag/_okt.py:16: UserWarning: \"Twitter\" has changed to \"Okt\" since KoNLPy v0.4.5.\n",
      "  warn('\"Twitter\" has changed to \"Okt\" since KoNLPy v0.4.5.')\n"
     ]
    },
    {
     "name": "stdout",
     "output_type": "stream",
     "text": [
      "multi-summary=  김 의원은 청와대 정무수석 재직 당시 20대 총선 여론조사 비용 명목으로 이병호 전 국정원장으로부터 특수활동비 5억 원을 받은 혐의로 기소됐으나 1·2심에서 무죄를 선고받고 대법원 판결을 기다리고 있다. 이인영 마지막까지 대화 끈 놓지 않겠다 이 대표는 9일 오전 국회 본청에서 열린 최고위원회의에서 게임의 룰인 선거법은 여야 합의가 최상이며 다른 개혁법안도 합의 처리가 우선이라고 생각해왔다 면서 더이상 기다릴 수 없어 오늘 본회의에 상정하고 처리할 예정이지만 최후의 순간까지 대화와 타협의 끈을 놓지 않겠다 고 말했다. 이 원내대표는 예산안 처리도 정기국회 기일 내 처리해야한다 면서 한국당 원내대표가 이런 약속들을 확약하고 오늘이라도 본회의 처리에 나선 다면 최선을 다해 대화에 임하고 협상으로 합의를 도출하겠다 고 전했다.\n",
      "smry start\n"
     ]
    },
    {
     "name": "stderr",
     "output_type": "stream",
     "text": [
      "/home/iceia/.conda/envs/cap_mud/lib/python3.7/site-packages/konlpy/tag/_okt.py:16: UserWarning: \"Twitter\" has changed to \"Okt\" since KoNLPy v0.4.5.\n",
      "  warn('\"Twitter\" has changed to \"Okt\" since KoNLPy v0.4.5.')\n"
     ]
    },
    {
     "name": "stdout",
     "output_type": "stream",
     "text": [
      "multi-summary=  기계硏 AI 기반 대피로 안내 시스템 개발 이미지 게티이미지뱅크 아시아경제 김철현 기자 인공지능 AI 을 기반으로 복잡한 지하철역에서 위급상황이 발생했을 때 신속하고 안전하게 대피할 수 있도록 안내하는 시스템이 개발됐다. 한형석 책임연구원은 지하철 화재 발생 시 피해를 줄일 수 있는 핵심은 승객이 골든타임 내 안전하게 대피하는 것 이라며 AI를 활용해 위기상황에 빠르게 대처하는 이 기술이 실생활에 적용돼 시민들의 안전한 삶을 구현에 기여하기를 기대한다 고 말했다. 한국기계연구원 제공 지하철역에서 위급상황이 발생했을 때 AI 인공지능 를 기반으로 상황에 맞게 가장 신속하고 안전하게 대피 경로를 안내하는 시스템이 개발됐다.\n",
      "smry start\n"
     ]
    },
    {
     "name": "stderr",
     "output_type": "stream",
     "text": [
      "/home/iceia/.conda/envs/cap_mud/lib/python3.7/site-packages/konlpy/tag/_okt.py:16: UserWarning: \"Twitter\" has changed to \"Okt\" since KoNLPy v0.4.5.\n",
      "  warn('\"Twitter\" has changed to \"Okt\" since KoNLPy v0.4.5.')\n"
     ]
    },
    {
     "name": "stdout",
     "output_type": "stream",
     "text": [
      "multi-summary=  예비후보자제도 도입 17일 입후보 안내설명회 개최 중앙선관위 준법선거 분위기 조성 위반행위 무관용 농협 제공 세종 이데일리 이진철 기자 제24대 농협중앙회장 선거가 내년 1월31일 실시된다. 정부 유턴법 개정·공포…내년 3월 시행 국·공유지 사용특례 신설 및 코트라로 지원창구 일원화 추진 유턴법 개정 주요내용 ⓒ산업통상자원부 그동안 제조업에 국한됐던 유턴기업 혜택이 내년 3월부터는 소프트웨어 업체 컴퓨터프로그래밍 등 정보통신과 지식서비스업으로 확대된다. 정부는 이번 개정으로 유턴기업 지원대상을 기존 제조업 외에 정보통신업·지식서비스업까지 확대해 유턴 지원 폭을 넓히고 새로운 유턴 수요 창출이 가능할 것으로 기대하고 있다.\n",
      "smry start\n"
     ]
    },
    {
     "name": "stderr",
     "output_type": "stream",
     "text": [
      "/home/iceia/.conda/envs/cap_mud/lib/python3.7/site-packages/konlpy/tag/_okt.py:16: UserWarning: \"Twitter\" has changed to \"Okt\" since KoNLPy v0.4.5.\n",
      "  warn('\"Twitter\" has changed to \"Okt\" since KoNLPy v0.4.5.')\n"
     ]
    },
    {
     "name": "stdout",
     "output_type": "stream",
     "text": [
      "multi-summary=  트럼프 대통령 트위터 캡쳐 김정은 똑똑하기 때문에 잘 알 것 더팩트ㅣ외교부 박재우 기자 도널드 트럼프 미국 대통령은 8일 북한에 대해 적대적인 행동을 하면 모든 것을 잃게 될 것 이라고 경고했다. 트럼프 대통령은 7일 백악관에서 기자들과 만난 자리에서도 “북한이 적대적으로 행동한다면 놀랄 것”이라며 “ 김 위원장이 내년에 내가 선거를 치른다는 걸 알고 있으며 미국 선거에 개입하기를 원치 않을 것”이라며 경고한바 있다. 트럼프 발언은 겁 먹었다는 방증…재앙적 후과 보기 싫거든 숙고해야 리수용 북한 노동당 국제담당 부위원장2019년 11월 7일 중국공산당 랴오닝성 서기를 단장으로 한 친선대표단과 담화하는 북한 리수용 노동당 부위원장 2019.11.8 연합뉴스 자료사진 서울 연합뉴스 김동현 기자 북한은 9일 김정은 국무위원장이 아직 연말 시한 이후 취할 입장을 밝히지 않은 점을 강조하며 도널드 트럼프 미국 대통령이 김 위원장의 심기를 건드릴 막말 을 중단해야 한다고 재차 경고했다.\n",
      "smry start\n"
     ]
    },
    {
     "name": "stderr",
     "output_type": "stream",
     "text": [
      "/home/iceia/.conda/envs/cap_mud/lib/python3.7/site-packages/konlpy/tag/_okt.py:16: UserWarning: \"Twitter\" has changed to \"Okt\" since KoNLPy v0.4.5.\n",
      "  warn('\"Twitter\" has changed to \"Okt\" since KoNLPy v0.4.5.')\n"
     ]
    },
    {
     "name": "stdout",
     "output_type": "stream",
     "text": [
      "multi-summary=  檢 삼성의 다스 미국 소송비 대납 관련 자료 제출 검찰 기존에 증거로 제출했던 송장과 동일 변호인 동일성 없어보여…증거 안 된다 반박 내달 8일 변론 마무리…내년 2월쯤 선고할 듯 이명박 전 대통령이 9일 서울고법에서 열린 항소심 속행공판에 출석하기 위해 법정으로 이동하고 있다. SUB TITLE START ㆍ징역 2년·1년6월…재판부 “그룹 차원 조직적 행동” ㆍ“법 따르면서 성장해야 국민 응원” 기업문화도 지적 SUB TITLE END 삼성바이오로직스 삼성바이오 분식회계 의혹 사건 관련 증거를 인멸한 혐의로 재판에 넘겨진 삼성전자 부사장이 1심에서 실형을 선고받았다. 이 부사장 등은 삼성바이오 분식회계 의혹에 대한 검찰 수사가 예상되던 지난해 5월부터 삼성전자 서초사옥에서 긴급대책회의를 소집해 삼성바이오와 자회사 삼성바이오에피스에 증거인멸을 지시한 혐의를 받는다.\n",
      "smry start\n"
     ]
    },
    {
     "name": "stderr",
     "output_type": "stream",
     "text": [
      "/home/iceia/.conda/envs/cap_mud/lib/python3.7/site-packages/konlpy/tag/_okt.py:16: UserWarning: \"Twitter\" has changed to \"Okt\" since KoNLPy v0.4.5.\n",
      "  warn('\"Twitter\" has changed to \"Okt\" since KoNLPy v0.4.5.')\n"
     ]
    },
    {
     "name": "stdout",
     "output_type": "stream",
     "text": [
      "multi-summary=  머니투데이 진경진 기자 아이폰11 프로 에어팟 프로 스타벅스 기프티콘 등의 경품 증정 P2P 개인간거래 금융 업체 8퍼센트 주식회사 에잇퍼센트 는 연말을 맞아 P2P 투자 위크 이벤트를 진행한다고 9일 밝혔다. 투자 의향만 전달한 단계 실제 투자 유치액은 감소 우리나라의 외국인직접투자 FDI 신고액이 5년 연속 200억 달러를 돌파했다. LG상사는 MPC를 통해 오만 무산담 반도에 120㎿급 가스 화력 발전소를 짓고 전력을 생산하는 민자발전 사업을 진행하고 있다.\n",
      "smry start\n"
     ]
    },
    {
     "name": "stderr",
     "output_type": "stream",
     "text": [
      "/home/iceia/.conda/envs/cap_mud/lib/python3.7/site-packages/konlpy/tag/_okt.py:16: UserWarning: \"Twitter\" has changed to \"Okt\" since KoNLPy v0.4.5.\n",
      "  warn('\"Twitter\" has changed to \"Okt\" since KoNLPy v0.4.5.')\n"
     ]
    },
    {
     "name": "stdout",
     "output_type": "stream",
     "text": [
      "multi-summary=  신약 새 트렌드 유전자 치료제 후보물질 도입 넘어 개발역량 확보 노바티스 美 벤처 11조 인수 등 바이오벤처 겨냥한 M A 활발 서울경제 글로벌제약사들이 미래 먹거리를 찾기 위해 인수합병 M A 에 적극적으로 나서고 있다. 본투글로벌센터와 치타이허시의 구체적인 협력방안은 △중국 그래핀 산업 한국 정보통신기술 ICT 융합을 통한 협력체계 구축 및 사업개발 △그래핀 소재 확보를 위한 한국 기업과 사물인터넷 IoT 및 하드웨어 HW 공동개발 △중국 현지 전문가 컨설팅 △중국 현지 로드쇼 투자유치 연계 등을 통한 기회 발굴 △중국 현지 정착에 필요한 각종 정보 및 인프라 제공 등이다. 김종갑 본투글로벌센터장은 “치타이허시 그래핀 연구소에 과학연구팀 파견을 시작으로 국내 혁신기술기업들의 적극적인 중국 진출이 이뤄질 수 있을 것”이라며 “중국 그래핀 산업과 한국 ICT 융합을 통한 국익 향상 및 그래핀 분야 기술 선도화를 이뤄낼 수 있을 것으로 기대된다”고 밝혔다.\n",
      "smry start\n"
     ]
    },
    {
     "name": "stderr",
     "output_type": "stream",
     "text": [
      "/home/iceia/.conda/envs/cap_mud/lib/python3.7/site-packages/konlpy/tag/_okt.py:16: UserWarning: \"Twitter\" has changed to \"Okt\" since KoNLPy v0.4.5.\n",
      "  warn('\"Twitter\" has changed to \"Okt\" since KoNLPy v0.4.5.')\n"
     ]
    },
    {
     "name": "stdout",
     "output_type": "stream",
     "text": [
      "multi-summary=  한국기자협회 제공 신임 한국기자협회장에 김동훈 한겨레신문 스포츠부장이 당선됐다. 김 부장은 내년 1월부터 2년 간 기자협회장으로 활동하게 된다. 한국기자협회 선거관리위원회는 전체 회원을 대상으로 휴대전화 문자 투표를 활용해 치러진 회장 선거에서 기호 3번 김동훈 후보가 2천586표를 득표 신임 협회장에 당선됐다고 9일 밝혔다.\n",
      "smry start\n"
     ]
    },
    {
     "name": "stderr",
     "output_type": "stream",
     "text": [
      "/home/iceia/.conda/envs/cap_mud/lib/python3.7/site-packages/konlpy/tag/_okt.py:16: UserWarning: \"Twitter\" has changed to \"Okt\" since KoNLPy v0.4.5.\n",
      "  warn('\"Twitter\" has changed to \"Okt\" since KoNLPy v0.4.5.')\n"
     ]
    },
    {
     "name": "stdout",
     "output_type": "stream",
     "text": [
      "multi-summary=  앵커 사실 그동안 여야가 가장 부딪혔던 건 지금 신속처리안건으로 진행된 선거제 개정안 공수처법 이런 건데 그러면 이 상황에서 이런 법안들은 앞으로 어떻게 될까요 기자 정확히 말씀드리면 선거법과 공수처설치법 등 패스트트랙 법안들은 모레 이후 임시국회로 미뤄놓은 상태입니다. 여야 4 1 수정안 도출·표결 방침…한국당 필리버스터 재시도 가능성 예산·패스트트랙 정국 일촉즉발 문희상 국회의장이 오는 9일과 10일 본회의를 열어 예산안과 민생 법안 패스트트랙 법안을 모두 상정하겠다는 뜻을 밝히고 민주당이 제1야당인 한국당이 빠진 4 1 협의체를 통해 예산안 민생 법안 패스트트랙 법안을 논의하는 가운데 12월 8일 오후 도로표지판 너머로 국회 본청이 보이는 모습 연합뉴스 자료사진 서울 연합뉴스 김동호 기자 국회는 9일 오후 본회의를 열어 내년도 정부 예산안과 패스트트랙 신속처리안건 에 오른 선거법 개정안 및 검찰개혁 법안 민생법안을 상정한다. 더불어민주당은 이날 오전 자유한국당을 제외한 4 1 더불어민주당·바른미래당·정의당·민주평화당 대안신당 협의체 가동을 이어가며 예산안과 패스트트랙 법안들에 대한 자체 수정안을 마련 본회의 표결 처리를 시도할 방침이다.\n",
      "smry start\n"
     ]
    },
    {
     "name": "stderr",
     "output_type": "stream",
     "text": [
      "/home/iceia/.conda/envs/cap_mud/lib/python3.7/site-packages/konlpy/tag/_okt.py:16: UserWarning: \"Twitter\" has changed to \"Okt\" since KoNLPy v0.4.5.\n",
      "  warn('\"Twitter\" has changed to \"Okt\" since KoNLPy v0.4.5.')\n"
     ]
    },
    {
     "name": "stdout",
     "output_type": "stream",
     "text": [
      "WARNING:tensorflow:From <ipython-input-8-ca340e462d92>:51: all_variables (from tensorflow.python.ops.variables) is deprecated and will be removed after 2017-03-02.\n",
      "Instructions for updating:\n",
      "Please use tf.global_variables instead.\n",
      "WARNING:tensorflow:From /home/iceia/.conda/envs/cap_mud/lib/python3.7/site-packages/tensorflow/python/training/saver.py:1276: checkpoint_exists (from tensorflow.python.training.checkpoint_management) is deprecated and will be removed in a future version.\n",
      "Instructions for updating:\n",
      "Use standard file APIs to check for files with this prefix.\n",
      "INFO:tensorflow:Restoring parameters from ./mm/copy_model/model.ckpt-249500\n",
      "multi-summary=  가민의 컨수머 제품군 영업 담당 부사장 댄 바텔 Den Bartel 은 “스타워즈와 마블 시리즈의 팬으로서 이번 한정판 스페셜 에디션을 선보이게 되어 매우 기쁘다”라고 말하며 “캐릭터들의 이야기를 가민의 혁신적인 스마트워치에 담아낸 이번 시리즈는 스타워즈와 마블 시리즈의 팬뿐만 아니라 모두의 소장욕구를 자극하는 완성도 높은 제품이다”라고 덧붙였다. 디즈니 관계자는 “스타워즈와 마블 시리즈의 아이코닉한 캐릭터들이 가민의 최첨단 GPS 스마트워치에 실감 나게 구현되어 매우 즐겁다”라고 전하며 “이번 가민과의 콜라보레이션을 통해 스타워즈와 마블 팬들이 자신이 좋아하는 캐릭터와 특별한 유대감을 갖게 되길 바란다”라고 말했다. 가민 레거시 시리즈 가민이 디즈니 스타워즈를 테마로 한 레거시 사가 시리즈와 마블 히어로를 모티브로 한 레거시 히어로 시리즈 한정판 스페셜 GPS 스마트워치를 국내 출시한다.\n",
      "smry start\n"
     ]
    },
    {
     "name": "stderr",
     "output_type": "stream",
     "text": [
      "/home/iceia/.conda/envs/cap_mud/lib/python3.7/site-packages/konlpy/tag/_okt.py:16: UserWarning: \"Twitter\" has changed to \"Okt\" since KoNLPy v0.4.5.\n",
      "  warn('\"Twitter\" has changed to \"Okt\" since KoNLPy v0.4.5.')\n"
     ]
    },
    {
     "name": "stdout",
     "output_type": "stream",
     "text": [
      "multi-summary=  김경수 경남지사와 천경득 청와대 선임행정관까지 이른바 텔레그램 대화방 의혹의 당사자들이 모두 조사를 마쳤는데요 여권 핵심 인사들을 줄줄이 조사한 검찰은 이제 조국 전 법무부 장관의 소환만 남겨두고 있습니다. 윤 실장은 김경수 경남도지사 천경득 청와대 행정관과 함께 유 전 부시장에 대한 감찰 무마 의혹의 핵심 인물로 지목돼 왔습니다. 핵심 인물들에 대한 조사가 마무리되면서 이제 직접 감찰 중단 결정을 내린 조국 전 장관에 대한 소환만 남은 상황입니다.\n",
      "smry start\n"
     ]
    },
    {
     "name": "stderr",
     "output_type": "stream",
     "text": [
      "/home/iceia/.conda/envs/cap_mud/lib/python3.7/site-packages/konlpy/tag/_okt.py:16: UserWarning: \"Twitter\" has changed to \"Okt\" since KoNLPy v0.4.5.\n",
      "  warn('\"Twitter\" has changed to \"Okt\" since KoNLPy v0.4.5.')\n"
     ]
    },
    {
     "name": "stdout",
     "output_type": "stream",
     "text": [
      "multi-summary=  0.86% 상승출발한 주가는 꾸준히 올라 오전 9시 45분 현재 전일대비 5.17% 수준인 8540원을 기록하고 있다. 한국경제TV 라이온봇 기자 명성티엔에스 오전부터 명성티엔에스 257370 가 강세를 보이고 있다. 그래프 명성티엔에스 일봉 차트 표 거래원 상위 10 33 기준 명성티엔에스 이 시각 거래소에서 명성티엔에스 이외에도 압타바이오 13.74% 일진디스플 10.79% 이더블유케이 11.02% 한류AI센터 10.47% 바이온 13.29% 등이 상승세를 보이고 있다.\n",
      "smry start\n"
     ]
    },
    {
     "name": "stderr",
     "output_type": "stream",
     "text": [
      "/home/iceia/.conda/envs/cap_mud/lib/python3.7/site-packages/konlpy/tag/_okt.py:16: UserWarning: \"Twitter\" has changed to \"Okt\" since KoNLPy v0.4.5.\n",
      "  warn('\"Twitter\" has changed to \"Okt\" since KoNLPy v0.4.5.')\n"
     ]
    },
    {
     "name": "stdout",
     "output_type": "stream",
     "text": [
      "multi-summary=  북한 국방과학원 대변인은 전날인 지난 8일 조선중앙통신을 통해 “2월 7일 오후 서해위성발사장 철산군 동창리 장거리미사일발사장 에서는 대단히 중대한 시험이 진행되었다”며 “이번에 진행한 중대한 시험의 결과는 머지않아 조선민주주의인민공화국의 전략적 지위를 또 한 번 변화시키는 데서 중요한 작용을 하게 될 것”이라고 발표했다. AP 연합뉴스 북한이 지난 7일 고체연료 엔진 연소시험을 한 것으로 추정되는 ‘서해 위성발사장’은 평안북도 철산군 동창리로 분석된다. 트위터 캡쳐 군 정보당국은 북한이 지난 7일 동창리 서해 위성발사장에서 진행한 ‘중대한 시험’을 액체연료를 사용한 고출력 엔진 시험으로 추정하는 것으로 9일 알려졌다.\n",
      "smry start\n"
     ]
    },
    {
     "name": "stderr",
     "output_type": "stream",
     "text": [
      "/home/iceia/.conda/envs/cap_mud/lib/python3.7/site-packages/konlpy/tag/_okt.py:16: UserWarning: \"Twitter\" has changed to \"Okt\" since KoNLPy v0.4.5.\n",
      "  warn('\"Twitter\" has changed to \"Okt\" since KoNLPy v0.4.5.')\n"
     ]
    },
    {
     "name": "stdout",
     "output_type": "stream",
     "text": [
      "multi-summary=  가입자 7 700만으로 급증 전망 美 반드시 승리 대규모 투자 中 중저가 보급으로 몸집 키우기 日은 육성 법률·5G올림픽 사활 韓도 최초 넘어 규제혁신 필요 서울경제 한국이 지난 4월 세계 최초 5세대 5G 상용화에 성공하며 선수를 잡았지만 글로벌 5G 시대가 본격적으로 열리는 내년부터는 330조원대 투자 계획을 앞세운 미국과 내년 가입자 2억명을 목표로 제시한 중국 ‘5G 올림픽’에 사활을 건 일본 등 각국이 약진하며 주도권 경쟁이 더 치열해질 전망이다. FSB 빅테크의 금융 서비스 전환 모니터링 필요해 구글 아마존 페이스북 애플 앱 AFP 뉴스1 서울 뉴스1 신기림 기자 세계 금융규제 기관들이 데이터 독과점을 무너뜨리기 위해 구글 알리바바를 비롯한 대형 정보기술 IT 업체들을 정조준하고 있다. 내년 국가정보화 사업 추진방향은 지능정보기술 투자 비중을 지속 확대하고 노후화된 정부 정보시스템을 차세대 시스템으로 본격 교체하는 것이 주된 내용이다.\n",
      "smry start\n"
     ]
    },
    {
     "name": "stderr",
     "output_type": "stream",
     "text": [
      "/home/iceia/.conda/envs/cap_mud/lib/python3.7/site-packages/konlpy/tag/_okt.py:16: UserWarning: \"Twitter\" has changed to \"Okt\" since KoNLPy v0.4.5.\n",
      "  warn('\"Twitter\" has changed to \"Okt\" since KoNLPy v0.4.5.')\n"
     ]
    },
    {
     "name": "stdout",
     "output_type": "stream",
     "text": [
      "multi-summary=  일각에서 추 후보자가 취임할 경우 오는 2020년 초 검찰 인사를 단행할 것이라는 관측을 내놓는 것에 대해서는 저 자신이 지명 받은 입장 이라며 현재는 청문회 준비 중이므로 적절한 시기에 말씀드리겠다 고 답했다. 추 후보자는 이날 오전 10시쯤 청문회 준비단이 입주한 서울 양천구 남부준법지원센터 보호관찰소 에 출근하면서 장관 후보자로 지명된 이후 검찰개혁을 향한 국민의 기대와 요구가 더 높아졌다는 것을 확인할 수 있었다. 취재진이 울산 고래고기 사건 과 관련한 검·경 갈등에 대한 생각 검찰 인사에 대한 전망 등도 물었나 추 후보자는 지명받은 후보자로 청문회를 준비하는 입장이어서 그런 문제는 그 청문회 단계 이후 적절한 시기에 말씀드리는 게 맞을 듯하다 고 했다.\n",
      "smry start\n"
     ]
    },
    {
     "name": "stderr",
     "output_type": "stream",
     "text": [
      "/home/iceia/.conda/envs/cap_mud/lib/python3.7/site-packages/konlpy/tag/_okt.py:16: UserWarning: \"Twitter\" has changed to \"Okt\" since KoNLPy v0.4.5.\n",
      "  warn('\"Twitter\" has changed to \"Okt\" since KoNLPy v0.4.5.')\n"
     ]
    },
    {
     "name": "stdout",
     "output_type": "stream",
     "text": [
      "multi-summary=  이나라 BGF리테일 신선식품팀 MD는 “최근 가격은 낮추고 실속을 높인 덕에 CU의 과일 전체 매출이 전년 대비 40%나 증가할 정도로 편의점 과일 수요가 높아지고 있다”며 “이러한 트렌드에 맞춰 계절마다 최상의 제철 과일을 지속적으로 도입해 고객 만족을 높이고 점포 매출 향상에도 기여할 것”이라고 말했다. 킹스베리는 충남 논산에서 개발된 국내 토종 과일로 일반 딸기보다 2배 이상 크고 당도가 높은 품종이다. 롯데칠성음료 관계자는 “깨수깡은 기존의 숙취해소음료들과는 달리 탄산을 넣어 차별화한 제품”이라며 “회식이나 송년회로 술자리가 많아지는 연말연시에 술 마신 다음 날 숙취를 깨수깡으로 개운하게 해소하길 바란다”고 말했다.\n",
      "smry start\n"
     ]
    },
    {
     "name": "stderr",
     "output_type": "stream",
     "text": [
      "/home/iceia/.conda/envs/cap_mud/lib/python3.7/site-packages/konlpy/tag/_okt.py:16: UserWarning: \"Twitter\" has changed to \"Okt\" since KoNLPy v0.4.5.\n",
      "  warn('\"Twitter\" has changed to \"Okt\" since KoNLPy v0.4.5.')\n"
     ]
    },
    {
     "name": "stdout",
     "output_type": "stream",
     "text": [
      "multi-summary=  강용석 변호사는 처음 김건모 성폭행 의혹 폭로 방송을 준비할 때부터 이런 일이 있지 않을까 우려를 했다 며 저는 김건모 씨에 대해 잘 모르지만 김용호 부장은 김건모 씨가 어떤 삶을 살았는지 많은 루트를 통해 들었다. 사진 가로세로연구소 캡처 김건모에 대한 폭로와 반박이 이어지던 상황에서 A 씨는 강용석 변호사 김세의 기자와 인터뷰에서 처음부터 돈을 요구한 적도 받은 적도 없다 며 진실하고 공개적인 사과와 방송활동 중단을 요구한다 고 밝혔다. 이날 A씨를 대신해 고소장을 제출하러 온 강용석 변호사는 김건모씨는 2016년 피해자를 강간했고 이후 어떠한 사과도 하지 않았다 며 피해자는 큰 고통에 시달리고 있다 고 말했다.\n",
      "smry start\n"
     ]
    },
    {
     "name": "stderr",
     "output_type": "stream",
     "text": [
      "/home/iceia/.conda/envs/cap_mud/lib/python3.7/site-packages/konlpy/tag/_okt.py:16: UserWarning: \"Twitter\" has changed to \"Okt\" since KoNLPy v0.4.5.\n",
      "  warn('\"Twitter\" has changed to \"Okt\" since KoNLPy v0.4.5.')\n"
     ]
    },
    {
     "name": "stdout",
     "output_type": "stream",
     "text": [
      "multi-summary=  안 전 대표의 측근 인사인 김도식 전 비서실장은 9일 기자들에게 메시지를 보내 “안 전 대표가 신당에 이달 중 합류할 예정이란 기사는 사실과 다르다”고 밝혔다. 8일 발기인대회 개최한 변혁 신당 박차 분당 기정사실화…바른 당적 정리해달라 김관영 오늘이라도 탈당계 제출하는게 도의 손학규 바른미래당 대표가 2일 오전 국회에서 열린 최고위원회의에서 의사봉을 두드리고 있다.ⓒ데일리안 박항구 기자 바른미래당 비당권파 모임인 변화와 혁신 변혁 이 8일 발기인대회를 열어 분당을 기정사실화했지만 손학규 바른미래당 대표의 고심은 더욱 깊어지고 있다. 손 대표는 변혁 소속 유승민 의원과 자유한국당 황교안 대표가 통화하며 보수통합에 대한 의견을 나눈 사실이 처음 알려졌을 때도 바른미래당을 부수고 나가겠다는 생각 말고 당적을 정리해달라 고 요구했다.\n",
      "smry start\n"
     ]
    },
    {
     "name": "stderr",
     "output_type": "stream",
     "text": [
      "/home/iceia/.conda/envs/cap_mud/lib/python3.7/site-packages/konlpy/tag/_okt.py:16: UserWarning: \"Twitter\" has changed to \"Okt\" since KoNLPy v0.4.5.\n",
      "  warn('\"Twitter\" has changed to \"Okt\" since KoNLPy v0.4.5.')\n"
     ]
    },
    {
     "name": "stdout",
     "output_type": "stream",
     "text": [
      "multi-summary=  자사고 출신 늘고 과학고는 줄어 2020학년도 서울대 수시 모집에서 일반계 고등학교 출신 합격자 비율이 절반인 것으로 나타났다. 고교 유형별로 보면 전체 합격자 가운데 일반고 출신 비율은 50%로 지난해 49.3% 에 비해 소폭 증가했다. 서울대에 따르면 2020학년도 수시모집 지원인원은 1만7988명으로 2019학년도 1만8957명 보다 줄었으나 총 선발인원은 2019학년도 2523명 보다 51명 늘어났다.\n",
      "smry start\n"
     ]
    },
    {
     "name": "stderr",
     "output_type": "stream",
     "text": [
      "/home/iceia/.conda/envs/cap_mud/lib/python3.7/site-packages/konlpy/tag/_okt.py:16: UserWarning: \"Twitter\" has changed to \"Okt\" since KoNLPy v0.4.5.\n",
      "  warn('\"Twitter\" has changed to \"Okt\" since KoNLPy v0.4.5.')\n"
     ]
    },
    {
     "name": "stdout",
     "output_type": "stream",
     "text": [
      "multi-summary=  넥슨지티와 넥슨레드는 성남시 분당구 중탑지역아동센터에 후원금 3000만원을 전달했다고 9일 밝혔다. 넥슨지티와 넥슨레드는 지난 2015년 중탑지역아동센터와 사회공헌 협약을 맺은 이후 지속적으로 후원금과 함께 컴퓨터 등 후원물품을 전달하고 있다. 중탑지역아동센터 이지숙 센터장은 “6년 동안 꾸준히 후원을 이어올 수 있도록 도움을 주신 양사 임직원분들께 진심으로 감사드린다”며 “보내주신 소중한 후원금은 아이들이 다양한 문화 체험과 창의적 활동을 할 수 있는데 잘 쓰도록 노력하겠다”고 밝혔다.\n",
      "smry start\n"
     ]
    },
    {
     "name": "stderr",
     "output_type": "stream",
     "text": [
      "/home/iceia/.conda/envs/cap_mud/lib/python3.7/site-packages/konlpy/tag/_okt.py:16: UserWarning: \"Twitter\" has changed to \"Okt\" since KoNLPy v0.4.5.\n",
      "  warn('\"Twitter\" has changed to \"Okt\" since KoNLPy v0.4.5.')\n"
     ]
    },
    {
     "name": "stdout",
     "output_type": "stream",
     "text": [
      "multi-summary=  파이낸셜뉴스 웅진코웨이 주 박찬정 상무와 주 유니테스트 김영근 수석연구원이 대한민국 엔지니어상 12월 수상자로 선정됐다고 9일 과학기술정보통신부와 한국산업기술진흥협회가 밝혔다. 대기업 수상자인 웅진코웨이 주 박찬정 상무는 미세먼지 저감을 포함한 공기청정 관련 핵심 기술 개발을 통한 제품 경쟁력 강화로 국내 시장 확대 및 해외 시장 공략에 기여한 공로가 인정돼 수상자로 선정됐다. 또한 중소기업 수상자인 주 유니테스트 김영근 수석연구원은 메모리 테스터 분야 장비의 기술력을 확보하고 해외 수출 판로를 개척 반도체 장비 산업 성장에 기여한 공로가 인정됐다.\n",
      "smry start\n"
     ]
    },
    {
     "name": "stderr",
     "output_type": "stream",
     "text": [
      "/home/iceia/.conda/envs/cap_mud/lib/python3.7/site-packages/konlpy/tag/_okt.py:16: UserWarning: \"Twitter\" has changed to \"Okt\" since KoNLPy v0.4.5.\n",
      "  warn('\"Twitter\" has changed to \"Okt\" since KoNLPy v0.4.5.')\n"
     ]
    },
    {
     "name": "stdout",
     "output_type": "stream",
     "text": [
      "multi-summary=  현대로템은 우유철 부회장이 대표이사 중심의 경영혁신 가속화를 위해 용퇴한다고 9일 밝혔다. 현대차그룹 올드보이 부회장 중 올해 첫 퇴임 우유철 부회장 이데일리 이소현 기자 우유철 현대로템 064350 부회장이 대표이사 중심의 경영혁신 가속화를 위해 용퇴한다. 사진 HDC현대산업개발 HDC현대산업개발은 경남 창원 신월2구역 재건축 사업을 수주했다고 9일 밝혔다.\n",
      "smry start\n"
     ]
    },
    {
     "name": "stderr",
     "output_type": "stream",
     "text": [
      "/home/iceia/.conda/envs/cap_mud/lib/python3.7/site-packages/konlpy/tag/_okt.py:16: UserWarning: \"Twitter\" has changed to \"Okt\" since KoNLPy v0.4.5.\n",
      "  warn('\"Twitter\" has changed to \"Okt\" since KoNLPy v0.4.5.')\n"
     ]
    },
    {
     "name": "stdout",
     "output_type": "stream",
     "text": [
      "multi-summary=  황 청장은 이날 오후 7시부터 1시간 30분 동안 대전 중구 대전시민대학 옛 충남도청사 식장산홀에서 자신의 저서 ‘검찰은 왜 고래고기를 돌려줬을까’ 출간 기념 북콘서트를 열었다. MobileAdNew center 황 청장은 패널과의 토론에서 “울산시장 측근 수사 때 검찰이 경찰의 압수수색 영장을 피하며 수사를 방해했다” “하명수사와 선거기획 수사론은 검찰과 보수 언론이 만든 거짓이다” “공수처가 설치돼 사법 권력이 쪼개져야 한다” 등 기존 주장을 되풀이했다. 그는 공수처는 괴물이 돼 버린 검찰 제도를 견제할 불가피한 수단 이라며 최근 검찰은 수사권을 무기로 오로지 검찰조직 이익만을 위해 수사하며 세상을 어지럽히고 있다 고 주장했다.\n",
      "smry start\n"
     ]
    },
    {
     "name": "stderr",
     "output_type": "stream",
     "text": [
      "/home/iceia/.conda/envs/cap_mud/lib/python3.7/site-packages/konlpy/tag/_okt.py:16: UserWarning: \"Twitter\" has changed to \"Okt\" since KoNLPy v0.4.5.\n",
      "  warn('\"Twitter\" has changed to \"Okt\" since KoNLPy v0.4.5.')\n"
     ]
    },
    {
     "name": "stdout",
     "output_type": "stream",
     "text": [
      "multi-summary=  종합만족도는 서비스 품질 만족도 상품 특성 만족도 호감도의 중요도 가중치 를 반영한 평균값으로 8개 배달서비스 가운데 페리카나가 3.79점으로 가장 높았다. 종합만족도를 보면 페리카나가 3.79점으로 1위였고 이어 처갓집양념치킨 3.77 네네치킨 3.73 호식이두마리치킨 3.71 굽네치킨 3.69 순서였다. 서비스 품질 만족도는 페리카나가 3.93점으로 1위였고 처갓집양념치킨이 3.89점으로 2위 네네치킨과 굽네치킨이 3.87점으로 그다음이었다.\n",
      "smry start\n"
     ]
    },
    {
     "name": "stderr",
     "output_type": "stream",
     "text": [
      "/home/iceia/.conda/envs/cap_mud/lib/python3.7/site-packages/konlpy/tag/_okt.py:16: UserWarning: \"Twitter\" has changed to \"Okt\" since KoNLPy v0.4.5.\n",
      "  warn('\"Twitter\" has changed to \"Okt\" since KoNLPy v0.4.5.')\n"
     ]
    },
    {
     "name": "stdout",
     "output_type": "stream",
     "text": [
      "multi-summary=  정춘숙 더불어민주당 원내대변인 사진 연합뉴스 헤럴드경제 더불어민주당은 9일 여야 3당 교섭단체 원내대표 합의 후 자유한국당이 의원총회에서 내년도 예산안에 대한 합의가 완료될 경우 필리버스터 무제한 토론을 통한 합법적 의사진행 방해 신청을 철회하겠다 고 방침을 정한 것에 대해 심각한 유감 이라며 반발했다. 심 원내대표는 이날 회동이 끝난 후 기자들과 만나 예산안은 내일 오전 10시 본회의를 열어 처리하기로 했다 며 지난번 본회의에 신청한 필리버스터는 한국당이 의원총회를 거쳐 철회할 예정 이라고 말했다. 이인영 더불어민주당·심재철 자유한국당·오신환 바른미래당 등 3당 원내대표는 이날 문희상 국회의장 주재로 국회의장실에서 만나 △2020년 예산안은 10일 본회의에 상정해 처리하고 △199개 민생법안에 대해 자유한국당이 신청한 필리버스터는 의원총회를 거쳐 철회하며 △패스트트랙에 올라간 법안은 이번 정기국회 안에 상정하기 않기로 큰 틀에서 합의했다.\n",
      "smry start\n"
     ]
    },
    {
     "name": "stderr",
     "output_type": "stream",
     "text": [
      "/home/iceia/.conda/envs/cap_mud/lib/python3.7/site-packages/konlpy/tag/_okt.py:16: UserWarning: \"Twitter\" has changed to \"Okt\" since KoNLPy v0.4.5.\n",
      "  warn('\"Twitter\" has changed to \"Okt\" since KoNLPy v0.4.5.')\n"
     ]
    },
    {
     "name": "stdout",
     "output_type": "stream",
     "text": [
      "multi-summary=  환경부는 10일 오전 6시부터 오후 9시까지 수도권과 충북에서 고농도 미세먼지 비상저감조치를 발령한다고 9일 밝혔다. 한겨레 자료사진 올겨울 들어 처음으로 수도권과 충북 지역에 미세먼지 위기경보 발령과 함께 비상저감조치가 시행된다. 환경부는 10일 아침 6시부터 오후 9시까지 서울·인천·경기 등 수도권과 충북 지역에 미세먼지 위기경보 ‘관심’ 단계를 발령하고 ‘위기관리 표준지침’에 따른 비상저감조치를 시행할 예정이라고 9일 밝혔다.\n",
      "smry start\n"
     ]
    },
    {
     "name": "stderr",
     "output_type": "stream",
     "text": [
      "/home/iceia/.conda/envs/cap_mud/lib/python3.7/site-packages/konlpy/tag/_okt.py:16: UserWarning: \"Twitter\" has changed to \"Okt\" since KoNLPy v0.4.5.\n",
      "  warn('\"Twitter\" has changed to \"Okt\" since KoNLPy v0.4.5.')\n"
     ]
    },
    {
     "name": "stdout",
     "output_type": "stream",
     "text": [
      "multi-summary=  신임 원내대표는 당선과 동시에 한국당을 제외한 여야 ‘4 1 협의체’ 더불어민주당·바른미래당·정의당·민주평화당 대안신당 가 강행 처리 움직임을 보이는 내년도 예산안과 패스트트랙에 오른 선거제 개혁안 및 검찰개혁 법안을 저지하기 위한 협상 등에 나서야 한다. 그는 회의 직후 기자들과 만난 자리에서도 시급한 민생법안은 빨리 처리해야 한다는 게 당의 일관된 입장 이라고 밝히고서 그걸 정략적으로 악용해 자꾸 다른 법들과 묶어서 더불어민주당과 그에 야합하는 정당들이 자신의 뜻을 이루기 위한 국회 운영을 하기 위해 노력하고 있다 고 비판했다. 黃 내년 총선 승리로 이끌어야...비상한 각오로 임해달라 오늘 오전 한국당 원내대표 경선 실시 자유한국당 황교안 대표가 9일 신임 원내대표 선출과 관련 신임 원내대표단은 패스트트랙 2대 악법을 저지하고 친문 3대 농단 과 관련해 강력한 대여 투쟁을 전개해야 한다 고 했다.\n",
      "smry start\n"
     ]
    },
    {
     "name": "stderr",
     "output_type": "stream",
     "text": [
      "/home/iceia/.conda/envs/cap_mud/lib/python3.7/site-packages/konlpy/tag/_okt.py:16: UserWarning: \"Twitter\" has changed to \"Okt\" since KoNLPy v0.4.5.\n",
      "  warn('\"Twitter\" has changed to \"Okt\" since KoNLPy v0.4.5.')\n"
     ]
    },
    {
     "name": "stdout",
     "output_type": "stream",
     "text": [
      "multi-summary=  서울 광화문 KT EAST 사옥.ⓒKT 5명 내외로 압축…“후보자 동의 받아 공개” 구현모·오성목·이동면 주요 내부 후보 언급 KT 차기 회장 유력 후보군의 명단이 오는 12일 공개된다. 김대유 KT 지배구조위원회 위원장은 “오늘 이사회서 그간 활동을 보고했고 차기 회장과 관련 보안을 지켜달라는 지시가 있었다”며 “12일 이사회를 열고 후보자 심사위원회를 구성해 후보자 동의를 받아 명단을 공개하기로 했다”고 말했다. 사내이사 중 1명인 황창규 현 회장은 최종 후보 선출 과정에 개입하지 않기로 했으며 또 다른 사내이사이자 차기 회장 후보군인 이동면 사장도 2 3명 후보군에 본인이 포함될 경우 회장 선출을 위한 이사회에 참석하지 않을 계획이다.\n",
      "smry start\n"
     ]
    },
    {
     "name": "stderr",
     "output_type": "stream",
     "text": [
      "/home/iceia/.conda/envs/cap_mud/lib/python3.7/site-packages/konlpy/tag/_okt.py:16: UserWarning: \"Twitter\" has changed to \"Okt\" since KoNLPy v0.4.5.\n",
      "  warn('\"Twitter\" has changed to \"Okt\" since KoNLPy v0.4.5.')\n"
     ]
    },
    {
     "name": "stdout",
     "output_type": "stream",
     "text": [
      "multi-summary=  KT 이사회는 오늘 9일 간담회를 열고 지배구조위원회로부터 회장 후보 심사과정에 대한 보고를 받았으며 이 자리에서 주요 후보군 명단을 설명한 것으로 전해졌습니다. KT 지배구조위원회는 오는 12일 이사회를 열어 회장 후보 심사대상자 숫자를 공개하고 본인 동의를 거쳐 동의를 한 사람에 한해 명단을 발표할 예정이라고 9일 밝혔다. 박 회장은 택시를 보호하려는 의도는 이해가 가지만 그렇다고 미래를 막아버리는 방법이 유일한 대안인가 라며 아무리 생각해도 납득이 안 간다 고 지적했다.\n",
      "smry start\n"
     ]
    },
    {
     "name": "stderr",
     "output_type": "stream",
     "text": [
      "/home/iceia/.conda/envs/cap_mud/lib/python3.7/site-packages/konlpy/tag/_okt.py:16: UserWarning: \"Twitter\" has changed to \"Okt\" since KoNLPy v0.4.5.\n",
      "  warn('\"Twitter\" has changed to \"Okt\" since KoNLPy v0.4.5.')\n"
     ]
    },
    {
     "name": "stdout",
     "output_type": "stream",
     "text": [
      "multi-summary=  그는 이후 진압군이 순천에 와 철도원들과 시민들을 철도운동장으로 불러모아 몸수색을 하며 14연대와 관련된 인사를 분류했다 며 머리를 짧게 깎꺼나 옷을 벗겼을때 군인이 입은 내복을 입은 사람은 반란군이라고 색출해 냈다 고 말했다. 2010년 이후 부산에서 승진한 경무관 5명은 각각 경찰대 3명 간부후보 2명이다. 제11회 부산고용대상 심사선정위원장과 부산형 착한기업 육성 및 일자리 창출 프로젝트사업 책임자인 박성익 경성대 교수는 해가 거듭될수록 부산고용대상에 대한 인지도가 높아지고 있으며 올해는 부산형 착한기업 현판 전달식과 함께 하게 돼 그 의미가 더욱 크다 고 평가했다.\n",
      "smry start\n"
     ]
    },
    {
     "name": "stderr",
     "output_type": "stream",
     "text": [
      "/home/iceia/.conda/envs/cap_mud/lib/python3.7/site-packages/konlpy/tag/_okt.py:16: UserWarning: \"Twitter\" has changed to \"Okt\" since KoNLPy v0.4.5.\n",
      "  warn('\"Twitter\" has changed to \"Okt\" since KoNLPy v0.4.5.')\n"
     ]
    },
    {
     "name": "stdout",
     "output_type": "stream",
     "text": [
      "multi-summary=  강남·서초·송파 강남권 3구도 신축 아파트 대비 노후 아파트 3.3㎡당 매매가격이 2015∼2018년 1.23∼1.26배를 유지하다가 올해 1.01배까지 가격 격차가 줄어든 것으로 나타났다. 이외에도 서울 내 아파트 가격은 2017까지 노후 아파트가 신축 아파트보다 거래 가격이 높았지만 작년부터 가격 역전 현상이 발생하더니 올해 그 격차가 더 벌어진 것으로 나타났다. 신규 아파트 대비 노후 아파트 3.3㎡당 매매거래가격은 2010년 1.60배에서 2014년 1.40배 2015년 1.34배로 내려가더니 2017년 1.18배 2018년 1.06배로 하락을 계속하다가 올해는 0.92배로 최저 수준을 기록했다.\n",
      "smry start\n"
     ]
    },
    {
     "name": "stderr",
     "output_type": "stream",
     "text": [
      "/home/iceia/.conda/envs/cap_mud/lib/python3.7/site-packages/konlpy/tag/_okt.py:16: UserWarning: \"Twitter\" has changed to \"Okt\" since KoNLPy v0.4.5.\n",
      "  warn('\"Twitter\" has changed to \"Okt\" since KoNLPy v0.4.5.')\n"
     ]
    },
    {
     "name": "stdout",
     "output_type": "stream",
     "text": [
      "multi-summary=  과학기술정보통신부 장관상 SK텔레콤 ‘5GX멀티뷰 서비스’ 한 번에 여러 화면 골라봐 ‘제19회 모바일기술대상’ 과학기술정보통신부 장관상은 SK텔레콤 ‘5GX멀티뷰 서비스’ 최성광 씨의 ‘별도의 가상현실 VR 기기가 필요 없는 모바일 VR 사용자 경험 제공 방식’ 위밋의 ‘위밋플레이스’에 돌아갔다. 세종텔레콤은 셀바스 AI의 음성인식 및 음성합성 솔루션을 통신 서비스에 적용하여 다양한 지능형 부가서비스를 제공할 예정이다. 양사는 다른 지역에도 레이저 골드를 상용화하기 위해 협력할 계획이다.\n",
      "smry start\n"
     ]
    },
    {
     "name": "stderr",
     "output_type": "stream",
     "text": [
      "/home/iceia/.conda/envs/cap_mud/lib/python3.7/site-packages/konlpy/tag/_okt.py:16: UserWarning: \"Twitter\" has changed to \"Okt\" since KoNLPy v0.4.5.\n",
      "  warn('\"Twitter\" has changed to \"Okt\" since KoNLPy v0.4.5.')\n"
     ]
    },
    {
     "name": "stdout",
     "output_type": "stream",
     "text": [
      "multi-summary=  연합뉴스 문재인 대통령은 9일 아일랜드 출신 록밴드 U2의 리더이자 사회운동가인 보노 본명 폴 데이비드 휴슨 를 만나 U2가 공연 중 평화와 통일의 메시지를 내준 데 대해 감사를 표했다. 문재인 대통령이 9일 청와대에서 예방한 록밴드인 U2 의 보컬이자 사회운동가 보노 왼쪽 접견에 앞서 인사하고 있다 연합뉴스 문재인 대통령이 9일 청와대에서 록밴드 U2 의 보컬 보노를 만나 공연에서 남북 평화 관련 메시지를 내준 것에 감사를 표시했다. 그 공연을 봤던 제 아내 말에 의하면 아주 대단한 공연이었다고 한다”며 “U2의 음악도 훌륭했고 고척 스카이돔을 가득 채운 4만 5000명 한국의 팬들이 U2의 노래를 따라 부르면서 아주 열광했다고 들었다”고 했다.\n",
      "smry start\n",
      "제빵기 콧노래 좁히는 시장 의 기반 현지 자동 설득 <E> <E> <E> <E> <E> <E>\n",
      "['230aff31-6830-40f3-bc85-83b75cef8c7c', '김정은의 ‘연말 데드라인’ 임박 북 미국 향해 도발 수위 높여 한·미정상 첩보 미리 공유 가능성 북한문제만 논의 ‘원포인트’ 통화 북한 국방과학원이 8일 조선중앙통신을 통해 전날 “서해위성발사장 동창리 장거리미사일실험장 에서 대단히 중대한 시험 실험 이 진행됐다”고 밝혔다. 트럼프 대통령 트윗은 오늘 새벽 0시쯤에 나왔는데 우리 시각으로 0시쯤에 나왔는데 전체적인 내용을 보면 김정은 위원장이 적대적 행동을 하지 않을 것이다라는 내용입니다. 트럼프 대통령은 김정은 위원장은 똑똑하고 또 자신과 적대적 행동을 하면 잃을 것도 많기 때문에 적대적 행동을 할 리가 없다라는 그런 취지로 설명을 한 것입니다.', '제빵기 콧노래 좁히는 시장 의 기반 현지 자동 설득      ']\n",
      "content SK인포섹의 보안전문가 그룹 이큐스트 EQST 이 올해 해킹사고 사례와 연구결과를 토대로 내년에 스마트 산업시설을 노리는 사이버 공격이 거세질 것이란 전망을 내놨다 스마트 시설 랜섬웨어 IoT공격 등이 꼽혀 새로운 ICT 기술은 보안 취약 요소부터 점검해야 SK인포섹 보안전문가그룹 이큐스트 EQST 가 예측한 2020년 사이버 위협 5대 전망 사진제공 SK인포섹 서울경제 SK인포섹은 9일 자사 보안전문가 그룹 이큐스트 EQST 가 올해 직접 맡았던 해킹사고 사례와 연구결과를 토대로 내년에 발생 가능성이 높은 주요 사이버 위협을 예측한 2020년도 사이버 위협 전망 을 발표했다 이큐스트는 내년 주요 사이버 위협으로 스마트 산업시설을 노리는 사이버 공격 다양한 방식을 결합한 대규모 랜섬웨어 공격 사물인터넷 IoT 기기 공격으로 인한 기업 리스크 확산 클라우드 대상 APT 표적 공격 다크웹 해킹 정보를 활용한 2차 공격 등 총 다섯 가지를 주요 위협으로 꼽았다\n",
      "continuing from previous trained model:  model/model.ckpt-249500 ...\n",
      "INFO:tensorflow:Restoring parameters from ./mm/copy_model/model.ckpt-249500\n",
      "내년 전문 4차산 트렌드 우리 화웨이 공식 <E> 20 <E> <E> <E> <E> <E> <E>\n",
      "['2e1e86b9-4113-4199-89cb-7ff3adc2a2e7', 'SK인포섹의 보안전문가 그룹 이큐스트·EQST 이 올해 해킹사고 사례와 연구결과를 토대로 내년에 스마트 산업시설을 노리는 사이버 공격이 거세질 것이란 전망을 내놨다. 스마트 시설·랜섬웨어·IoT공격 등이 꼽혀 “새로운 ICT 기술은 보안 취약 요소부터 점검해야” SK인포섹 보안전문가그룹 이큐스트 EQST 가 예측한 2020년 사이버 위협 5대 전망 사진제공 SK인포섹 서울경제 SK인포섹은 9일 자사 보안전문가 그룹 이큐스트 EQST 가 올해 직접 맡았던 해킹사고 사례와 연구결과를 토대로 내년에 발생 가능성이 높은 주요 사이버 위협을 예측한 ‘2020년도 사이버 위협 전망’을 발표했다. 이큐스트는 내년 주요 사이버 위협으로 △스마트 산업시설을 노리는 사이버 공격 △다양한 방식을 결합한 대규모 랜섬웨어 공격 △사물인터넷 IoT 기기 공격으로 인한 기업 리스크 확산 △클라우드 대상 APT 표적 공격 △다크웹 해킹 정보를 활용한 2차 공격 등 총 다섯 가지를 주요 위협으로 꼽았다.', '내년 전문 4차산 트렌드 우리 화웨이 공식  20      ']\n",
      "content LG복지재단은 지난 33년간 한결같이 가난하고 소외된 이웃들을 위한 무료급식봉사를 이어온 정희일 할머니 95 에게 LG 의인상 을 수여한다고 9일 밝혔다 LG복지재단은 지난 33년간 가난하고 소외된 이웃을 위해 무료 급식봉사를 이어온 정희일 할머니 95 사진 에게 LG 의인상 을 수여키로 했다고 9일 밝혔다 95세 고령에도 한결같은 봉사 실천으로 귀감 이웃 위한 선행행한 시민으로 의인상 대상 확대 33년째 무료급식소에서 봉사해 온 정희일 95 씨 SK하이닉스 LG복지재단은 지난 33년간 한결같이 가난하고 소외된 이웃들을 위한 무료급식봉사를 이어온 정희일 95 할머니에게 LG 의인상 을 수여하기로 했다고 9일 밝혔다\n",
      "continuing from previous trained model:  model/model.ckpt-249500 ...\n",
      "INFO:tensorflow:Restoring parameters from ./mm/copy_model/model.ckpt-249500\n",
      "농진청 지자체 7조4 기록한 원목 개선에 앞장 <E> 동반성 완전 <E> <E> <E> <E> <E>\n",
      "['6d441a4d-76df-441a-b467-ece5105131eb', 'LG복지재단은 지난 33년간 한결같이 가난하고 소외된 이웃들을 위한 무료급식봉사를 이어온 정희일 할머니 95 에게 LG 의인상 을 수여한다고 9일 밝혔다. LG복지재단은 지난 33년간 가난하고 소외된 이웃을 위해 무료 급식봉사를 이어온 정희일 할머니 95·사진 에게 ‘LG 의인상’을 수여키로 했다고 9일 밝혔다. 95세 고령에도 한결같은 봉사 실천으로 귀감 이웃 위한 선행행한 시민으로 의인상 대상 확대 33년째 무료급식소에서 봉사해 온 정희일 95 씨.ⓒSK하이닉스 LG복지재단은 지난 33년간 한결같이 가난하고 소외된 이웃들을 위한 무료급식봉사를 이어온 정희일 95 할머니에게 ‘LG 의인상’을 수여하기로 했다고 9일 밝혔다.', '농진청 지자체 7조4 기록한 원목 개선에 앞장  동반성 완전     ']\n",
      "content 고용노동부 관계자는 9일 연합뉴스와 통화에서 일본은 지난해 6월 연장근로의 한도를 월 45시간 연 360시간으로 제한하고 위반할 경우 6개월 이하의 징역 또는 30만엔이하의 벌금으로 처벌하도록 법을 개정했다 며 개정법이 대기업을 대상으로 올해 4월 시행됐고 내년 4월부터는 중소기업에도 적용된다 고 설명했다 이명박 전 대통령의 사위인 조현범 한국타이어 대표가 협력업체에서 뒷돈을 받고 회사 자금을 빼돌린 혐의 등으로 재판에 넘겨졌습니다 검찰은 지난 1월 국세청의 한국타이어의 탈세 의혹에 대한 고발 내용을 바탕으로 수사하는 과정에서 조 대표의 개인비리 혐의를 인지한 것으로 전해졌다\n",
      "continuing from previous trained model:  model/model.ckpt-249500 ...\n",
      "INFO:tensorflow:Restoring parameters from ./mm/copy_model/model.ckpt-249500\n",
      "대기업 공익법 13곳 일괄구 도입 <E> 공익법 퇴출 <E> <E> <E> <E> <E> <E> <E>\n",
      "['bf48049c-1e26-47ae-9e19-6ac7c5c22456', '고용노동부 관계자는 9일 연합뉴스와 통화에서 일본은 지난해 6월 연장근로의 한도를 월 45시간 연 360시간으로 제한하고 위반할 경우 6개월 이하의 징역 또는 30만엔이하의 벌금으로 처벌하도록 법을 개정했다 며 개정법이 대기업을 대상으로 올해 4월 시행됐고 내년 4월부터는 중소기업에도 적용된다 고 설명했다. 이명박 전 대통령의 사위인 조현범 한국타이어 대표가 협력업체에서 뒷돈을 받고 회사 자금을 빼돌린 혐의 등으로 재판에 넘겨졌습니다. 검찰은 지난 1월 국세청의 한국타이어의 탈세 의혹에 대한 고발 내용을 바탕으로 수사하는 과정에서 조 대표의 개인비리 혐의를 인지한 것으로 전해졌다.', '대기업 공익법 13곳 일괄구 도입  공익법 퇴출       ']\n",
      "content 서울 뉴시스 이종철 기자 자유한국당 황교안 가운데 대표와 심재철 왼쪽 두번째 신임 원내대표 김재원 신임 정책위의장이 9일 서울 여의도 국회에서 열린 자유한국당 원내대표 선거가 끝난 후 기념촬영을 하고 있다 다만 김재원 신임 정책위의장은 황교안 대표 측과 밀접한 관계를 갖고 있어 심재철 김재원 조가 반황 이라고 단정짓기에는 무리가 있다는 해석도 나온다 이에 강 수석은 지난 국회에서 심 원내대표와 제가 함께 일했었고 김재원 신임 정책위의장도 어려운 관계지만 술친구이기도 하다 며 김 정책위의장이 청와대 정무수석을 하실 때 제가 당시 야당 정책위의장 역할을 했던 적이 있어서 대화도 더 잘 되리라 본다 고 화답했다\n",
      "continuing from previous trained model:  model/model.ckpt-249500 ...\n",
      "INFO:tensorflow:Restoring parameters from ./mm/copy_model/model.ckpt-249500\n",
      "멘토 질병관 인재육 13 사망 <E> 문제 <E> <E> <E> <E> <E> <E> <E> <E>\n",
      "['1096cbf2-c0fc-4f29-9419-0d0f1105f39b', '서울 뉴시스 이종철 기자 자유한국당 황교안 가운데 대표와 심재철 왼쪽 두번째 신임 원내대표 김재원 신임 정책위의장이 9일 서울 여의도 국회에서 열린 자유한국당 원내대표 선거가 끝난 후 기념촬영을 하고 있다. 다만 김재원 신임 정책위의장은 황교안 대표 측과 밀접한 관계를 갖고 있어 심재철 김재원 조가 ‘반황’이라고 단정짓기에는 무리가 있다는 해석도 나온다. 이에 강 수석은 지난 국회에서 심 원내대표와 제가 함께 일했었고 김재원 신임 정책위의장도 어려운 관계지만 술친구이기도 하다 며 김 정책위의장이 청와대 정무수석을 하실 때 제가 당시 야당 정책위의장 역할을 했던 적이 있어서 대화도 더 잘 되리라 본다 고 화답했다.', '멘토 질병관 인재육 13 사망  문제        ']\n",
      "content 인천대학교 인천대학교 제공 인천 연합뉴스 강종구 기자 한국어를 배우기 위해 인천대 어학당에 재학 중인 베트남 국적 어학 연수생이 대거 잠적한 것으로 나타나 출입국 당국이 실태 조사를 벌인다 지난 11월 완성된 이 보고서를 보면 모의선거에 참여한 경험이 있는 학생들은 모의선거를 해보니 미래에 투표권이 생겼을 때 투표에 꼭 참여하겠다는 생각이 들었다 는 물음에 94 3 매우 그렇다 77 3 그렇다 17 0 의 학생이 긍정 답변을 내놨다 응답 학생들 가운데 89 7 는 모의선거를 해보니 선거의 중요성을 깨닫게 되었고 실제 선거에도 관심이 생겼다 고 답했다\n",
      "continuing from previous trained model:  model/model.ckpt-249500 ...\n",
      "INFO:tensorflow:Restoring parameters from ./mm/copy_model/model.ckpt-249500\n",
      "회계기 시행 금리역 금리역 인천 금리역 대주주 금리역 <E> <E> <E> <E> <E> <E> <E>\n",
      "['1f7f14c7-4371-46b9-9d9b-d1407064e8af', '인천대학교 인천대학교 제공 인천 연합뉴스 강종구 기자 한국어를 배우기 위해 인천대 어학당에 재학 중인 베트남 국적 어학 연수생이 대거 잠적한 것으로 나타나 출입국 당국이 실태 조사를 벌인다. 지난 11월 완성된 이 보고서를 보면 모의선거에 참여한 경험이 있는 학생들은 ‘모의선거를 해보니 미래에 투표권이 생겼을 때 투표에 꼭 참여하겠다는 생각이 들었다’는 물음에 94.3% 매우 그렇다 77.3% 그렇다 17.0% 의 학생이 긍정 답변을 내놨다. 응답 학생들 가운데 89.7%는 ‘모의선거를 해보니 선거의 중요성을 깨닫게 되었고 실제 선거에도 관심이 생겼다’고 답했다.', '회계기 시행 금리역 금리역 인천 금리역 대주주 금리역       ']\n",
      "content 한국경제TV 송민화 기자 한화시스템은 미국 캘리포니아에서 글로벌 스타트업 엑셀러레이터기업인 플러그 앤 플레이와 전략적 파트너십을 체결했다고 오늘 9일 밝혔다 유력 스타트업 육성 기업과 전략적 파트너십 체결 디지털트랜스포메이션 강화 그룹 IT SW 역량 지원도 에어택시 개발 현지업체 2500만불 투자도 최종승인 헤럴드경제 유재훈 기자 한화시스템이 4차 산업혁명을 주도하고 있는 미국에서 미래 신사업을 찾는 발걸음이 바빠지고 있다 한화시스템은 지난 6일 미국 캘리포니아에서 글로벌 스타트업 엑셀러레이터 기업인 플러그 앤 플레이 PLUG AND PLAY 와 전략적 파트너십을 체결했다고 9일 밝혔다\n",
      "continuing from previous trained model:  model/model.ckpt-249500 ...\n",
      "INFO:tensorflow:Restoring parameters from ./mm/copy_model/model.ckpt-249500\n",
      "네이버 등 스타트 사상 첫 규모 500 <E> <E> <E> <E> <E> <E> <E> <E>\n",
      "['d934fa42-f108-49b5-b056-b2581e5ff5ce', '한국경제TV 송민화 기자 한화시스템은 미국 캘리포니아에서 글로벌 스타트업 엑셀러레이터기업인 플러그 앤 플레이와 전략적 파트너십을 체결했다고 오늘 9일 밝혔다. 美 유력 스타트업 육성 기업과 전략적 파트너십 체결 디지털트랜스포메이션 강화…그룹 IT·SW 역량 지원도 ‘에어택시’ 개발 현지업체 2500만불 투자도 최종승인 헤럴드경제 유재훈 기자 한화시스템이 4차 산업혁명을 주도하고 있는 미국에서 미래 신사업을 찾는 발걸음이 바빠지고 있다. 한화시스템은 지난 6일 미국 캘리포니아에서 글로벌 스타트업 엑셀러레이터 기업인 플러그 앤 플레이 PLUG AND PLAY 와 전략적 파트너십을 체결했다고 9일 밝혔다.', '네이버 등 스타트 사상 첫 규모 500        ']\n",
      "content 업권 최초 블록체인 P2P 원리금 수취권 실서비스 안착 P2P 투자 서비스 취약점 개선 및 금융투자자 권리 강화 블록체인 ID 이니셜 도입 모바일로 출입증명 대체한다 태양광 데이터 수집 및 전북코인 운영 등 블록체인 사업 확대 NH농협은행이 블록체인 기술을 활용해 새로운 먹거리 발굴에 나서고 있다 해당 P2P 원리금 수취권 증서 서비스는 지난 4월 NH농협은행이 은행권 최초로 출시한 블록체인 기반 P2P 금융 서비스다 블록체인 핀테크 활용사례 구축 9일 업계에 따르면 NH농협은행이 자체 개발한 블록체인 기반 개인간 P2P 금융 투자자 원리금 수취권 증서 서비스가 이달초 열린 과학기술정보통신부 주최 K ICT 클라우드 산업대상 에서 장관상을 수상했다\n",
      "continuing from previous trained model:  model/model.ckpt-249500 ...\n",
      "INFO:tensorflow:Restoring parameters from ./mm/copy_model/model.ckpt-249500\n",
      "블록체 플랫폼 공시 웹 보안솔 안전망 것 <E> 투자 <E> <E> <E> <E> <E> <E>\n",
      "['eb40627f-4543-4932-a358-834cc346b57d', '업권 최초 블록체인 P2P 원리금 수취권 실서비스 안착 P2P 투자 서비스 취약점 개선 및 금융투자자 권리 강화 블록체인 ID 이니셜 도입 모바일로 출입증명 대체한다 태양광 데이터 수집 및 전북코인 운영 등 블록체인 사업 확대 NH농협은행이 블록체인 기술을 활용해 새로운 먹거리 발굴에 나서고 있다. 해당 ‘P2P 원리금 수취권 증서’ 서비스는 지난 4월 NH농협은행이 은행권 최초로 출시한 블록체인 기반 P2P 금융 서비스다. 블록체인 핀테크 활용사례 구축 9일 업계에 따르면 NH농협은행이 자체 개발한 블록체인 기반 개인간 P2P 금융 투자자 원리금 수취권 증서 서비스가 이달초 열린 과학기술정보통신부 주최 K ICT 클라우드 산업대상 에서 장관상을 수상했다.', '블록체 플랫폼 공시 웹 보안솔 안전망 것  투자      ']\n",
      "content 남우기 한국정보통신기술사회 회장은 기술간 융복합이 빠르게 진행되고 있는 산업환경에 국가기술자격제도가 빠르게 대응해야 한다 고 강조하며 현재 여러곳으로 분산돼 있는 정보통신 분야 국가기술자격 관리 운영의 일원화도 필요하다 고 제안했다 조정윤 이사장은 이번 토론회를 통해 정보처리 종목 국가기술자격제도가 융복합 시대 국가기술자격제도의 역할과 변화의 필요성에 대한 공감대가 형성됐다 며 나아가 국가기술자격제도의 현장성과 활용성을 제고할 수 있는 실질적 개선안들이 발굴돼 값진 성과로 이어질 수 있기를 바란다 고 전했다 연구팀은 기술경제성 분석의 신뢰도를 높이기 위해 전기화학반응시스템 분리정제시스템 유틸리티시스템 그리고 재순환시스템 등 공정설계에 필요한 모든 요소를 고려했다\n",
      "continuing from previous trained model:  model/model.ckpt-249500 ...\n",
      "INFO:tensorflow:Restoring parameters from ./mm/copy_model/model.ckpt-249500\n",
      "기업금 제고 해외 렌털 가세 <E> 공간 이끈다 <E> 브랜드 육성 <E> 축제 <E> <E>\n",
      "['ecfb2254-29ad-4ea6-8e19-885f9a31be5d', '남우기 한국정보통신기술사회 회장은 기술간 융복합이 빠르게 진행되고 있는 산업환경에 국가기술자격제도가 빠르게 대응해야 한다 고 강조하며 현재 여러곳으로 분산돼 있는 정보통신 분야 국가기술자격 관리·운영의 일원화도 필요하다 고 제안했다. 조정윤 이사장은 이번 토론회를 통해 정보처리 종목 국가기술자격제도가 융복합 시대 국가기술자격제도의 역할과 변화의 필요성에 대한 공감대가 형성됐다 며 나아가 국가기술자격제도의 현장성과 활용성을 제고할 수 있는 실질적 개선안들이 발굴돼 값진 성과로 이어질 수 있기를 바란다 고 전했다. 연구팀은 기술경제성 분석의 신뢰도를 높이기 위해 전기화학반응시스템 분리정제시스템 유틸리티시스템 그리고 재순환시스템 등 공정설계에 필요한 모든 요소를 고려했다.', '기업금 제고 해외 렌털 가세  공간 이끈다  브랜드 육성  축제  ']\n",
      "content 딸 수능치는 날 중앙지검에서 조사받아 영혼 털리는 기분 9일 치러진 자유한국당 원내대표 경선에서 5선의 심재철 의원과 3선의 김재원 의원이 각각 원내대표와 정책위의장에 당선됐다 김 의원은 이날 오전 국회에서 열린 당 원내대표 정책위의장 선거 의원총회에서 지난 2017 2018년 국가정보원 자금 여론조사 관련 검찰 조사를 받을 때 극단적인 생각을 했다며 당시 이야기를 꺼냈다 이날 자유한국당 원내대표 및 정책위의장 선출을 위한 의원총회 결선투표에서 김 의원은 러닝메이트인 심재철 의원과 함께 106표 중 52표를 얻어 당선됐다\n",
      "continuing from previous trained model:  model/model.ckpt-249500 ...\n",
      "INFO:tensorflow:Restoring parameters from ./mm/copy_model/model.ckpt-249500\n",
      "이슈진 평촌동 작은 최고금 그림의 관건 <E> 강릉선 타보니 <E> <E> <E> <E> <E> <E>\n",
      "['1d578c1d-7e13-4243-a31e-16c49f58cf21', '딸 수능치는 날 중앙지검에서 조사받아…영혼 털리는 기분 9일 치러진 자유한국당 원내대표 경선에서 5선의 심재철 의원과 3선의 김재원 의원이 각각 원내대표와 정책위의장에 당선됐다. 김 의원은 이날 오전 국회에서 열린 당 원내대표·정책위의장 선거 의원총회에서 지난 2017 2018년 ‘국가정보원 자금 여론조사’관련 검찰 조사를 받을 때 극단적인 생각을 했다며 당시 이야기를 꺼냈다. 이날 ‘자유한국당 원내대표 및 정책위의장 선출을 위한 의원총회’ 결선투표에서 김 의원은 러닝메이트인 심재철 의원과 함께 106표 중 52표를 얻어 당선됐다.', '이슈진 평촌동 작은 최고금 그림의 관건  강릉선 타보니      ']\n",
      "content 공동주택 2900가구 판매시설 조성 GS건설 정비사업 수주액 업계 3위로 헤럴드경제 양영경 기자 GS건설이 7300억원 규모 대전 유성구 장대B구역 재개발사업의 시공권을 따냈다 대전 유성구 장대B구역 재개발사업 조감도 GS건설 장대B구역 재개발사업은 유성오일장 장터를 포함한 9만7213 부지에 지하 4층 지상 49층 9개동 규모로 공동주택 2900가구와 판매시설을 조성하는 사업이다 신월2구역 주택재건축정비사업조합은 지난 7일 시공자 선정 총회를 열고 HDC현대산업개발을 시공사로 확정했다\n",
      "continuing from previous trained model:  model/model.ckpt-249500 ...\n",
      "INFO:tensorflow:Restoring parameters from ./mm/copy_model/model.ckpt-249500\n",
      "화훼농 개정안 확충 시행 본보기 꼬여버 최고치 <E> <E> <E> <E> <E> <E> <E> <E>\n",
      "['49a7cfa3-f1c8-453d-9409-3063786179d5', '공동주택 2900가구·판매시설 조성 GS건설 정비사업 수주액 업계 3위로 헤럴드경제 양영경 기자 GS건설이 7300억원 규모 대전 유성구 장대B구역 재개발사업의 시공권을 따냈다. 대전 유성구 장대B구역 재개발사업 조감도 GS건설 장대B구역 재개발사업은 유성오일장 장터를 포함한 9만7213㎡ 부지에 지하 4층 지상 49층 9개동 규모로 공동주택 2900가구와 판매시설을 조성하는 사업이다. 신월2구역 주택재건축정비사업조합은 지난 7일 시공자 선정 총회를 열고 HDC현대산업개발을 시공사로 확정했다.', '화훼농 개정안 확충 시행 본보기 꼬여버 최고치        ']\n",
      "content 이날 법무 검찰개혁위원회는 국민의 알권리 보장 검찰권 행사에 대한 민주적 통제 등 형사사법에 대한 국민 신뢰 제고를 위해 국회의원 판검사 장차관 등 관련 중요사건의 검찰 불기소결정문 공개 수사기록 등의 전자문서화 수사기록 등의 열람 등사범위 확대의 내용을 담은 10차 권고안을 발표했다 SUB TITLE START 대통령 등 4급 이상 연루 사건 수사 기록 전자문서화 권고도 SUB TITLE END 법무부 산하 제2기 법무 검찰개혁위원회가 국회의원이나 판검사 등이 연루된 중요 사건의 불기소 결정문을 공개하라고 권고했다 개혁위는 수사실무에서는 정당한 사유 없이 고소 고발장에 대한 열람 등사마저 거부하는 경우가 있다 며 불기소처분으로 종결된 사건도 피의자 피해자 등 사건관계인과 참고인에게 타인진술서류 타인제출서류 수사기관 내부문서 등에 대해 원칙적으로 열람 등사를 허용하도록 즉시 개정을 권고한다 고 했다\n",
      "continuing from previous trained model:  model/model.ckpt-249500 ...\n",
      "INFO:tensorflow:Restoring parameters from ./mm/copy_model/model.ckpt-249500\n",
      "산업부 로펌 중기부 도시재 한마당 주택 피해 확정 <E> 농가 혁신방 발표 <E> 84 <E>\n",
      "['5e696b96-32fa-428d-8a65-cd59767692f6', '이날 법무·검찰개혁위원회는 국민의 알권리 보장 검찰권 행사에 대한 민주적 통제 등 형사사법에 대한 국민 신뢰 제고를 위해 국회의원·판검사·장차관 등 관련 중요사건의 검찰 불기소결정문 공개 수사기록 등의 전자문서화 수사기록 등의 열람·등사범위 확대의 내용을 담은 10차 권고안을 발표했다. SUB TITLE START ㆍ대통령 등 4급 이상 연루 사건 ㆍ수사 기록 전자문서화 권고도 SUB TITLE END 법무부 산하 제2기 법무·검찰개혁위원회가 국회의원이나 판검사 등이 연루된 중요 사건의 불기소 결정문을 공개하라고 권고했다. 개혁위는 “수사실무에서는 정당한 사유 없이 고소·고발장에 대한 열람·등사마저 거부하는 경우가 있다”며 “불기소처분으로 종결된 사건도 피의자·피해자 등 사건관계인과 참고인에게 타인진술서류 타인제출서류 수사기관 내부문서 등에 대해 원칙적으로 열람·등사를 허용하도록 즉시 개정을 권고한다”고 했다.', '산업부 로펌 중기부 도시재 한마당 주택 피해 확정  농가 혁신방 발표  84 ']\n",
      "content 결렬됐다는 뜻 아니라 한국당과의 협상 남아있다 합의안 만들 수 있는 기반은 다 만들어놨다 천정배 대안신당 의원 뉴스1 News1 임세영 기자 서울 뉴스1 최종무 기자 김진 기자 고위공직자범죄수사처 공수처 등 검찰개혁 법안을 논의하는 4 1 검찰개혁법 협의체 가 9일 잠정적인 활동 중단을 선언했다 박주민 더불어민주당 의원 뉴스1 News1 이종덕 기자 박주민 민주당 의원도 논의는 다해서 입장은 확인했고 한국당이 어떻게 나오는지를 보고 추후 일정을 잡자고 했다 고 말했다 검찰은 지난달 5일 군 검찰과 공조해 국방부 내 고등군사법원에 있는 이 전 법원장 사무실과 경남 사천시에 위치한 M사 등을 압수수색해 관련 자료를 확보했다\n",
      "continuing from previous trained model:  model/model.ckpt-249500 ...\n",
      "INFO:tensorflow:Restoring parameters from ./mm/copy_model/model.ckpt-249500\n",
      "부실 국가 빠진 계약해 적극 훼손 <E> 점주 <E> 가슴 <E> <E> <E> <E> <E>\n",
      "['79ceaaa1-2328-4ac3-a079-fa78eb088db9', '결렬됐다는 뜻 아니라 한국당과의 협상 남아있다 합의안 만들 수 있는 기반은 다 만들어놨다 천정배 대안신당 의원 뉴스1 © News1 임세영 기자 서울 뉴스1 최종무 기자 김진 기자 고위공직자범죄수사처 공수처 등 검찰개혁 법안을 논의하는 4 1 검찰개혁법 협의체 가 9일 잠정적인 활동 중단을 선언했다. 박주민 더불어민주당 의원 뉴스1 © News1 이종덕 기자 박주민 민주당 의원도 논의는 다해서 입장은 확인했고 한국당이 어떻게 나오는지를 보고 추후 일정을 잡자고 했다 고 말했다. 검찰은 지난달 5일 군 검찰과 공조해 국방부 내 고등군사법원에 있는 이 전 법원장 사무실과 경남 사천시에 위치한 M사 등을 압수수색해 관련 자료를 확보했다.', '부실 국가 빠진 계약해 적극 훼손  점주  가슴     ']\n",
      "content 내일 수도권은 종일 미세먼지 농도 매우나쁨 단계를 보이겠고요 경남도 제공 경남도는 9일 오전 도정회의실에서 미세먼지를 다량 배출하는 발전업 제강업 관련 기업체와 미세먼지 저감을 위한 자발적 환경협약 을 체결했다 수도권은 매우 나쁨 제주를 제외한 나머지 지역은 나쁨 수준으로 예보됐습니다\n",
      "continuing from previous trained model:  model/model.ckpt-249500 ...\n",
      "INFO:tensorflow:Restoring parameters from ./mm/copy_model/model.ckpt-249500\n",
      "정부 개정 안정적 1월 항공기 전환 완료 <E> 공익법 중동 선정 <E> 관건 <E> 80\n",
      "['e85dc65f-7dd4-4165-871a-be48df359c91', '내일 수도권은 종일 미세먼지 농도 매우나쁨 단계를 보이겠고요. 경남도 제공 경남도는 9일 오전 도정회의실에서 미세먼지를 다량 배출하는 발전업 제강업 관련 기업체와 ‘미세먼지 저감을 위한 자발적 환경협약’을 체결했다. 수도권은 매우 나쁨 제주를 제외한 나머지 지역은 나쁨 수준으로 예보됐습니다.', '정부 개정 안정적 1월 항공기 전환 완료  공익법 중동 선정  관건  80']\n",
      "content 유기준 한국당 원내대표 후보 지난 5일 협상을 백 번 한다고 해도 될 수 있는 것은 아니라고 생각합니다 심재철 한국당 원내대표 후보 지난 5일 협상하기도 할 것이고 또 어떤 것들은 그게 안 되면 부딪히기도 할 것이고 2019 12 9 jeong yna co kr 서울 연합뉴스 김동호 김여솔 기자 더불어민주당 이인영 원내대표는 9일 내년도 정부 예산안과 패스트트랙 신속처리안건 법안의 본회의 처리와 관련해 자유한국당의 새 원내대표가 선출되면 최선을 다해 대화에 나서겠다 고 밝혔다\n",
      "continuing from previous trained model:  model/model.ckpt-249500 ...\n",
      "INFO:tensorflow:Restoring parameters from ./mm/copy_model/model.ckpt-249500\n",
      "이재용 부회장 오너 한국당 충분히 빈번 참패 마약성 조제액 봉사로 허위경 <E> <E> <E> <E>\n",
      "['358873cd-28ef-4c2a-9762-766ddd114e5d', '유기준 한국당 원내대표 후보 지난 5일 협상을 백 번 한다고 해도 될 수 있는 것은 아니라고 생각합니다. 심재철 한국당 원내대표 후보 지난 5일 협상하기도 할 것이고 또 어떤 것들은 그게 안 되면 부딪히기도 할 것이고…. 2019.12.9 jeong yna.co.kr 서울 연합뉴스 김동호 김여솔 기자 더불어민주당 이인영 원내대표는 9일 내년도 정부 예산안과 패스트트랙 신속처리안건 법안의 본회의 처리와 관련해 자유한국당의 새 원내대표가 선출되면 최선을 다해 대화에 나서겠다 고 밝혔다.', '이재용 부회장 오너 한국당 충분히 빈번 참패 마약성 조제액 봉사로 허위경    ']\n",
      "content 전자파 발생 우려 때문에 2020년 12월말까지만 시험방송 본방송국 부지 물색 중 서울신문 국가표준시보 송출 안테나 경기도 여주시 능서면에 위치한 국가표준시보 시험방송국에 설치된 장파안테나 표준과학연구원 제공 남한과 북한을 아우르는 한반도 전역에 가장 정확한 표준시를 제공하기 위한 국가표준시보국 이 오는 11일부터 시험방송에 들어간다 유대혁 표준과학연구원 시간표준센터장은 이번 장파시험방송은 전파방해에 취약한 GPS의 의존도를 낮추고 유사시 즉각 한반도 전역에 활용 가능한 표준시각 보급망이 형성하는데 도움이 될 것 이라며 국가표준시보국은 전력 통신 방송 등 정밀 연동이 필요한 국가 기반산업의 시각 동기화는 물론 기상 재난 등 공익 정보를 장파를 통해 제공하는 인프라로도 활용할 수 있다 고 말했다 표준 국가표준시보국 시험방송 송출 개시 경기도 여주시 능서면에 위치한 국가표준시보 시험방송국 아시아경제 김철현 기자 한반도 전역에 가장 정확한 표준시를 제공하기 위한 국가표준시보국 이 시험방송을 시작한다\n",
      "continuing from previous trained model:  model/model.ckpt-249500 ...\n",
      "INFO:tensorflow:Restoring parameters from ./mm/copy_model/model.ckpt-249500\n",
      "일몰 대한전 본격 현대제 수소에 현대엔 203 1시간 단축 <E> <E> <E> <E> <E> <E>\n",
      "['39a49388-9047-4d95-9ace-7db5fe6aabc6', '전자파 발생 우려 때문에 2020년 12월말까지만 시험방송...본방송국 부지 물색 중 서울신문 국가표준시보 송출 안테나 경기도 여주시 능서면에 위치한 국가표준시보 시험방송국에 설치된 장파안테나.표준과학연구원 제공 남한과 북한을 아우르는 한반도 전역에 가장 정확한 표준시를 제공하기 위한 ‘국가표준시보국’이 오는 11일부터 시험방송에 들어간다. 유대혁 표준과학연구원 시간표준센터장은 “이번 장파시험방송은 전파방해에 취약한 GPS의 의존도를 낮추고 유사시 즉각 한반도 전역에 활용 가능한 표준시각 보급망이 형성하는데 도움이 될 것”이라며 “국가표준시보국은 전력·통신·방송 등 정밀 연동이 필요한 국가 기반산업의 시각 동기화는 물론 기상 재난 등 공익 정보를 장파를 통해 제공하는 인프라로도 활용할 수 있다”고 말했다. 표준硏 국가표준시보국 시험방송 송출 개시 경기도 여주시 능서면에 위치한 국가표준시보 시험방송국 아시아경제 김철현 기자 한반도 전역에 가장 정확한 표준시를 제공하기 위한 국가표준시보국 이 시험방송을 시작한다.', '일몰 대한전 본격 현대제 수소에 현대엔 203 1시간 단축      ']\n",
      "content 사진 스트리미 가상화폐 암호화폐 거래소 고팍스를 운영하는 블록체인 스타트업 스트리미가 80억원 규모의 시리즈A 투자를 유치했다고 9일 밝혔다 가상화폐 거래소 고팍스를 운영하는 블록체인 스타트업 신생 벤처기업 스트리미가 80억원 규모의 시리즈A 투자 유치를 마무리했다고 9일 밝혔다 이준행 스트리미 대표 News1 서울 뉴스1 윤지현 인턴기자 암호화폐 거래사이트 고팍스를 운영하는 블록체인 스타트업 스트리미가 80억원 규모의 시리즈A 투자유치에 성공했다고 9일 밝혔다\n",
      "continuing from previous trained model:  model/model.ckpt-249500 ...\n",
      "INFO:tensorflow:Restoring parameters from ./mm/copy_model/model.ckpt-249500\n",
      "글로스 암호화 거래소 확장 에 4억 바둑 <E> 첫 달성 <E> 신설 <E> 등 <E>\n",
      "['41b75ae6-e697-4b84-9119-eab32380b57f', '사진 스트리미 가상화폐 암호화폐 거래소 고팍스를 운영하는 블록체인 스타트업 스트리미가 80억원 규모의 시리즈A 투자를 유치했다고 9일 밝혔다. 가상화폐 거래소 고팍스를 운영하는 블록체인 스타트업 신생 벤처기업 스트리미가 80억원 규모의 시리즈A 투자 유치를 마무리했다고 9일 밝혔다. 이준행 스트리미 대표 © News1 서울 뉴스1 윤지현 인턴기자 암호화폐 거래사이트 고팍스를 운영하는 블록체인 스타트업 스트리미가 80억원 규모의 시리즈A 투자유치에 성공했다고 9일 밝혔다.', '글로스 암호화 거래소 확장 에 4억 바둑  첫 달성  신설  등 ']\n",
      "content 한국경제TV 이지효 기자 KT는 지난 9일 한국프레스센터에서 열린 2019 대한민국 커뮤니케이션 대상에서 KT그룹 사내방송 KBN 센터 가 3개 부문을 수상했다고 밝혔다 이 상은 사업능력과 원천기술 연구개발 R D 투자를 중심으로 심사가 이루어진다 한화큐셀은 지속적인 연구개발 R D 과 투자를 통해 기술을 진화시키면서 세계시장을 견인해 나갔다\n",
      "continuing from previous trained model:  model/model.ckpt-249500 ...\n",
      "INFO:tensorflow:Restoring parameters from ./mm/copy_model/model.ckpt-249500\n",
      "14회 대한민 대한민 소비자 대상 시상식 개최 <E> 표창 수상 <E> 이뤄져 <E> 릴레이 돋보여\n",
      "['7c8bd95b-b84d-421f-bb1c-fe919fb4b3d4', '한국경제TV 이지효 기자 KT는 지난 9일 한국프레스센터에서 열린 2019 대한민국 커뮤니케이션 대상에서 KT그룹 사내방송 KBN 센터 가 3개 부문을 수상했다고 밝혔다. 이 상은 사업능력과 원천기술 연구개발 R D 투자를 중심으로 심사가 이루어진다. 한화큐셀은 지속적인 연구개발 R D 과 투자를 통해 기술을 진화시키면서 세계시장을 견인해 나갔다.', '14회 대한민 대한민 소비자 대상 시상식 개최  표창 수상  이뤄져  릴레이 돋보여']\n",
      "content 12일 베트남서 공개 예정 2020년형 첫 갤럭시A 4개 카메라 인덕션 모양 배치 삼성전자가 오는 12일 베트남에서 공개할 갤럭시 A51 이미지 사진제공 샘모바일 서울경제 삼성전자 005930 가 오는 12일 동남아시아 최대 시장인 베트남에서 갤럭시 A51 을 공개하며 2020년형 갤럭시 A 시리즈의 포문을 연다 9일 삼성전자 대표 김기남 김현석 고동진 는 해운 업체인 MSC크루즈의 그란디오사호에 초대형 스마트 LED 사이니지를 공급했다고 밝혔다 서울 뉴시스 삼성전자는 글로벌 해운 업체인 MSC 크루즈의 그란디오사 Grandiosa 호에 초대형 스마트 LED 사이니지를 공급했다고 9일 밝혔다\n",
      "continuing from previous trained model:  model/model.ckpt-249500 ...\n",
      "INFO:tensorflow:Restoring parameters from ./mm/copy_model/model.ckpt-249500\n",
      "201 갤럭시 120 삼성 스마트 전략회 개최 <E> 발표 <E> <E> <E> <E> <E> <E>\n",
      "['e8c59e03-d0a4-4e96-b6eb-baa1553e4b93', '12일 베트남서 공개 예정 2020년형 첫 갤럭시A 4개 카메라 ‘인덕션’ 모양 배치 삼성전자가 오는 12일 베트남에서 공개할 갤럭시 A51 이미지 사진제공 샘모바일 서울경제 삼성전자 005930 가 오는 12일 동남아시아 최대 시장인 베트남에서 ‘갤럭시 A51’을 공개하며 2020년형 갤럭시 A 시리즈의 포문을 연다. 9일 삼성전자 대표 김기남 김현석 고동진 는 해운 업체인 MSC크루즈의 그란디오사호에 초대형 스마트 LED 사이니지를 공급했다고 밝혔다. 서울 뉴시스 삼성전자는 글로벌 해운 업체인 MSC 크루즈의 그란디오사 Grandiosa ’호에 초대형 스마트 LED 사이니지를 공급했다고 9일 밝혔다.', '201 갤럭시 120 삼성 스마트 전략회 개최  발표      ']\n",
      "content 우리나라 국민은 27살부터 노동소득이 소비보다 많아지는 흑자 인생에 진입해 41살에 소득의 정점을 찍고 59살부터 적자로 전환하는 것으로 나타났습니다 통계청의 2016년 국민이전계정 자료에 나온 결과로 정점에 이르는 41살에는 노동소득이 3천209만 원에 이르는 것으로 집계됐습니다 통계청 조사에서도 한국인은 태어나서 20대 초중반까지 쓰는 돈이 더 많은 적자 생활을 하다가 27살부터 흑자 인생을 사는 것으로 나왔습니다\n",
      "continuing from previous trained model:  model/model.ckpt-249500 ...\n",
      "INFO:tensorflow:Restoring parameters from ./mm/copy_model/model.ckpt-249500\n",
      "포항지 1호기 올해 과 폐쇄 <E> 보험 <E> 매장서 판매 <E> <E> <E> <E> <E>\n",
      "['74e773b0-6978-4e57-967f-61767bebdc7a', '우리나라 국민은 27살부터 노동소득이 소비보다 많아지는 흑자 인생에 진입해 41살에 소득의 정점을 찍고 59살부터 적자로 전환하는 것으로 나타났습니다. 통계청의 2016년 국민이전계정 자료에 나온 결과로 정점에 이르는 41살에는 노동소득이 3천209만 원에 이르는 것으로 집계됐습니다. 통계청 조사에서도 한국인은 태어나서 20대 초중반까지 쓰는 돈이 더 많은 적자 생활을 하다가 27살부터 흑자 인생을 사는 것으로 나왔습니다.', '포항지 1호기 올해 과 폐쇄  보험  매장서 판매     ']\n",
      "content 재판매 및 DB 금지 수원 연합뉴스 우영식 기자 경기도는 9일 오전 도청 상황실에서 미8군 사령부와 한미협력협의회에 관한 양해각서 MOU 를 체결하고 공동 의장의 직급을 높였다고 밝혔다 폭스뉴스 인터뷰 서해발사장 중대 시험 발표 전 녹화된듯 연이은 대미압박 고조 행보 속 자제 및 협상재개 촉구 관측 마크 에스퍼 미 국방장관 로이터 연합뉴스 워싱턴 연합뉴스 백나리 특파원 마크 에스퍼 미 국방장관은 북한과의 대화에 늘 열려있다고 말했다 폭스뉴스가 8일 현지시간 오전 방송한 인터뷰에 따르면 에스퍼 장관은 북한의 장거리미사일 및 핵실험 재개 가능성과 관련한 질문을 받고 가정적으로 답변하지 않겠다 면서 대화는 늘 열려있다고 본다 고 말했다\n",
      "continuing from previous trained model:  model/model.ckpt-249500 ...\n",
      "INFO:tensorflow:Restoring parameters from ./mm/copy_model/model.ckpt-249500\n",
      "정부 뉴딜 판 금융사 대책 책임은 투자자 <E> <E> <E> <E> <E> <E> <E> <E>\n",
      "['7f862705-f3f7-4e86-9d0d-dc9d0814eb06', '재판매 및 DB 금지 수원 연합뉴스 우영식 기자 경기도는 9일 오전 도청 상황실에서 미8군 사령부와 한미협력협의회에 관한 양해각서 MOU 를 체결하고 공동 의장의 직급을 높였다고 밝혔다. 폭스뉴스 인터뷰…北 서해발사장 중대 시험 발표 전 녹화된듯 北 연이은 대미압박 고조 행보 속 자제 및 협상재개 촉구 관측 마크 에스퍼 미 국방장관 로이터 연합뉴스 워싱턴 연합뉴스 백나리 특파원 마크 에스퍼 미 국방장관은 북한과의 대화에 늘 열려있다고 말했다. 폭스뉴스가 8일 현지시간 오전 방송한 인터뷰에 따르면 에스퍼 장관은 북한의 장거리미사일 및 핵실험 재개 가능성과 관련한 질문을 받고 가정적으로 답변하지 않겠다 면서 대화는 늘 열려있다고 본다 고 말했다.', '정부 뉴딜 판 금융사 대책 책임은 투자자        ']\n",
      "content 그는 장관 후보자로 지명된 이후 검찰 개혁을 향한 국민의 기대와 요구가 더 높아졌다는 것을 확인할 수 있었다 며 사법개혁과 검찰개혁의 요체는 국민이 안심하는 것 국민을 편안하게 만드는 것이라고 생각한다 고 말했다 한국당은 선거제 사법개혁 저지 입장 철회 않아 국민 열망인 정치 사법개혁 처리 늦어져 매우 유감 패스트트랙 올라탄 법안 임시국회서 처리 시도 서울 뉴시스 장세영 기자 9일 오전 서울 여의도 국회에서 열린 여야 4 1 선거법 협의체 회의에 참석한 김관영 왼쪽부터 바른미래당 의원 유성엽 대안신당 창당준비위원장 윤호중 더불어민주당 사무총장 윤소하 정의당 원내대표 박주현 민주평화당 의원 당초 민주당 바른미래당 정의당 민주평화당 그리고 대안신당으로 구성된 4 1 협의체는 이날 오후 본회의가 열리면 예산안과 패스트트랙 법안을 일괄 상정하는 방안을 논의해왔으나 문 의장과 교섭단체 3당 원내대표 회동으로 기류가 바뀐 것이다\n",
      "continuing from previous trained model:  model/model.ckpt-249500 ...\n",
      "INFO:tensorflow:Restoring parameters from ./mm/copy_model/model.ckpt-249500\n",
      "트러스 감액 청와대 국민 분위기 돋보이 포럼서 월세도 핵심사 마련 <E> 직원 진행 <E> 완성\n",
      "['7e22de63-4037-4a22-af6d-e26f7e0f8c6e', '그는 장관 후보자로 지명된 이후 검찰 개혁을 향한 국민의 기대와 요구가 더 높아졌다는 것을 확인할 수 있었다 며 사법개혁과 검찰개혁의 요체는 국민이 안심하는 것 국민을 편안하게 만드는 것이라고 생각한다 고 말했다. 한국당은 선거제·사법개혁 저지 입장 철회 않아 국민 열망인 정치·사법개혁 처리 늦어져 매우 유감 패스트트랙 올라탄 법안 임시국회서 처리 시도 서울 뉴시스 장세영 기자 9일 오전 서울 여의도 국회에서 열린 여야 4 1 선거법 협의체 회의에 참석한 김관영 왼쪽부터 바른미래당 의원 유성엽 대안신당 창당준비위원장 윤호중 더불어민주당 사무총장 윤소하 정의당 원내대표 박주현 민주평화당 의원. 당초 민주당 바른미래당 정의당 민주평화당 그리고 대안신당으로 구성된 4＋1 협의체는 이날 오후 본회의가 열리면 예산안과 패스트트랙 법안을 일괄 상정하는 방안을 논의해왔으나 문 의장과 교섭단체 3당 원내대표 회동으로 기류가 바뀐 것이다.', '트러스 감액 청와대 국민 분위기 돋보이 포럼서 월세도 핵심사 마련  직원 진행  완성']\n",
      "content 한국당이 필리버스터를 철회하는 대신 여야는 패스트트랙 법안 상정을 보류하기로 했다 A씨는 지난 7월 말을 듣지 않는다면서 두 살에서 네살 사이 원생 세 명을 십분에서 20분 정도 방치한 혐의를 받습니다 그렇게 알러지 생기는 거는 큰 것들 그리고 알러지 생기는 건 본 적이 없어요 최 경장이 의료 과실이라고 주장했지만 병원측은 실수를 인정하면서도 의료 과실은 아니라는 입장입니다\n",
      "continuing from previous trained model:  model/model.ckpt-249500 ...\n",
      "INFO:tensorflow:Restoring parameters from ./mm/copy_model/model.ckpt-249500\n",
      "금융위 파산에 의혹에 법무부 등 조사 대부업 규제 필요 <E> 집은 <E> 제2의 <E> <E>\n",
      "['cdb37079-e16e-485d-958a-fbc1bda0e052', '한국당이 필리버스터를 철회하는 대신 여야는 패스트트랙 법안 상정을 보류하기로 했다. A씨는 지난 7월 말을 듣지 않는다면서 두 살에서 네살 사이 원생 세 명을 십분에서 20분 정도 방치한 혐의를 받습니다. 그렇게 알러지 생기는 거는 큰 것들… 그리고 알러지 생기는 건 본 적이 없어요… 최 경장이 의료 과실이라고 주장했지만 병원측은 실수를 인정하면서도 의료 과실은 아니라는 입장입니다.', '금융위 파산에 의혹에 법무부 등 조사 대부업 규제 필요  집은  제2의  ']\n",
      "content 서울 연합뉴스 최윤정 기자 현대자동차그룹은 9일 사회복지공동모금회에 이웃돕기 성금으로 250억 원을 전달했다고 밝혔다 이날 현대차그룹은 이웃돕기 성금으로 250억 원을 사회복지공동모금회 측에 전달했다 현대차그룹은 9일 서울 중구에 위치한 사회복지공동모금회 회관에서 2020 나눔 캠페인 성금 전달식을 갖고 성금 250억 원을 전달했다고 밝혔다\n",
      "continuing from previous trained model:  model/model.ckpt-249500 ...\n",
      "INFO:tensorflow:Restoring parameters from ./mm/copy_model/model.ckpt-249500\n",
      "이노 주유소 현장경 엔젤스 2터미 <E> <E> 50 돌파 <E> <E> <E> <E> <E> <E>\n",
      "['db693c73-ad14-42cf-9ee5-46433c258f0e', '서울 연합뉴스 최윤정 기자 현대자동차그룹은 9일 사회복지공동모금회에 이웃돕기 성금으로 250억 원을 전달했다고 밝혔다. 이날 현대차그룹은 이웃돕기 성금으로 250억 원을 사회복지공동모금회 측에 전달했다. 현대차그룹은 9일 서울 중구에 위치한 사회복지공동모금회 회관에서 2020 나눔 캠페인 성금 전달식을 갖고 성금 250억 원을 전달했다고 밝혔다.', '이노 주유소 현장경 엔젤스 2터미   50 돌파      ']\n",
      "content 한국은행이 9일 발표한 2019년 하반기 시스템리스크 서베이 결과 에 따르면 국내 금융기관 임직원과 금융 경제연구소 직원 대학교수 해외 금융기관 한국투자 담당자 92명이 미중 무역분쟁 74 과 국내 경기둔화 지속 52 글로벌 경기둔화 40 가계부채 문제 40 중국 금융 경제불안 39 을 한국 금융시스템 주요 리스크로 선정했다 또 미중 무역분쟁과 국내 경기둔화 지속 글로벌 경기둔화는 1년 이내 가계부채 문제와 중국 금융 경제 불안은 1 3년내 현재화할 가능성이 크다고 전망했다 국내 경기둔화 지속과 미중 무역분쟁은 발생 가능성이 크고 글로벌 경기둔화와 중국 금융 경제 불안 가계부채 문제는 현실화 가능성이 상대적으로 작다고 진단했다\n",
      "continuing from previous trained model:  model/model.ckpt-249500 ...\n",
      "INFO:tensorflow:Restoring parameters from ./mm/copy_model/model.ckpt-249500\n",
      "가스공 202 한국 1조원 투입 <E> 시장 전망 <E> <E> <E> <E> <E> <E> <E>\n",
      "['0551ac30-b1e3-48c6-b0c3-12e11ec57ed6', '한국은행이 9일 발표한 2019년 하반기 시스템리스크 서베이 결과 에 따르면 국내 금융기관 임직원과 금융·경제연구소 직원 대학교수 해외 금융기관 한국투자 담당자 92명이 미중 무역분쟁 74% 과 국내 경기둔화 지속 52% 글로벌 경기둔화 40% 가계부채 문제 40% 중국 금융·경제불안 39% 을 한국 금융시스템 주요 리스크로 선정했다. 또 미중 무역분쟁과 국내 경기둔화 지속 글로벌 경기둔화는 1년 이내 가계부채 문제와 중국 금융·경제 불안은 1 3년내 현재화할 가능성이 크다고 전망했다. 국내 경기둔화 지속과 미중 무역분쟁은 발생 가능성이 크고 글로벌 경기둔화와 중국 금융·경제 불안 가계부채 문제는 현실화 가능성이 상대적으로 작다고 진단했다.', '가스공 202 한국 1조원 투입  시장 전망       ']\n",
      "content 김영철 담화 트럼프 매우 초조 다시 망령든 늙다리 로 불러야 할수도 트럼프에 대한 김정은 인식 달라질 수 있어 대통령 직함 호칭 안해 놀라라고 하는 일인데 놀라지 않으면 안타까울 것 적대행위 암시 서울 연합뉴스 김동현 기자 북한은 9일 김정은 북한 국무위원장이 적대적으로 행동하면 사실상 모든 것을 잃을 수 있다는 도널드 트럼프 미국 대통령의 경고에 강하게 반발했다 김정은은 너무 영리하고 적대적 방식으로 행동하면 잃을 것이 너무 많다 는 트럼프 대통령의 지난 8일 트윗과 북한이 적대적으로 행동한다면 나는 놀랄 것 이라는 지난 7일 발언에 대한 반응이다 북한은 김영철 위원장 담화를 통해 트럼프 대통령 발언에 반발하며 미국의 태도 변화가 없으면 이른바 새로운 길을 가겠다는 의지를 거듭 강조한 것으로 풀이됩니다\n",
      "continuing from previous trained model:  model/model.ckpt-249500 ...\n",
      "INFO:tensorflow:Restoring parameters from ./mm/copy_model/model.ckpt-249500\n",
      "회계법 무서류 민자 아이콘 정오 <E> 껑충 <E> 부담 <E> <E> <E> <E> <E> <E>\n",
      "['2e05c927-aeb0-4b5f-9a3a-b24a28abf546', '김영철 담화… 트럼프 매우 초조…다시 망령든 늙다리 로 불러야 할수도 트럼프에 대한 김정은 인식 달라질 수 있어 …대통령 직함 호칭 안해 놀라라고 하는 일인데 놀라지 않으면 안타까울 것 …적대행위 암시 서울 연합뉴스 김동현 기자 북한은 9일 김정은 북한 국무위원장이 적대적으로 행동하면 사실상 모든 것을 잃을 수 있다는 도널드 트럼프 미국 대통령의 경고에 강하게 반발했다. 김정은은 너무 영리하고 적대적 방식으로 행동하면 잃을 것이 너무 많다 는 트럼프 대통령의 지난 8일 트윗과 북한이 적대적으로 행동한다면 나는 놀랄 것 이라는 지난 7일 발언에 대한 반응이다. 북한은 김영철 위원장 담화를 통해 트럼프 대통령 발언에 반발하며 미국의 태도 변화가 없으면 이른바 새로운 길을 가겠다는 의지를 거듭 강조한 것으로 풀이됩니다.', '회계법 무서류 민자 아이콘 정오  껑충  부담      ']\n",
      "content 국민 눈높이에 다가서려는 당 쇄신의 출발 신호 정권 독재 마각 드러내 민주주의 근간 흔들려 2004년 총선 등 과거 사례 통해 난관 이겨내자 공관위장 국민 추천 통해 믿을 수 있는 분으로 서울 뉴시스 이종철 기자 황교안 자유한국당 대표가 9일 오후 서울 여의도 국회에서 열린 총선기획단 회의에서 모두발언을 하고 있다 뉴시스 한편 황 대표는 심재철 의원 5선 과 김재원 의원 3선 이 새 원내대표 정책위의장으로 선출된 것과 관련 저는 원내대표와 또 새 정책위의장 그리고 여러분들과 함께 문재인 정권의 좌파폭정을 막아내고 총선 승리와 구국의 길을 함께 힘차게 열어가겠다 고 밝혔다 황 대표는 다시 대동단결해서 문재인 정권의 폭정을 심판하고 국민과 함께 승리하는 그날을 향해서 힘차게 달려가자 며 고난의 길을 우리 원내대표 또 정책위의장 혼자 가시게 하지 말고 우리 모두 함께 그 고난의 짐을 나누어서 이제는 우리가 이기는 모습을 국민 앞에 보여드릴 수 있도록 모두 함께 하자 고 독려했다\n",
      "continuing from previous trained model:  model/model.ckpt-249500 ...\n",
      "INFO:tensorflow:Restoring parameters from ./mm/copy_model/model.ckpt-249500\n",
      "박능후 기자들 입맛대 주사제 방송 주사제 형 작동하 개발 <E> 개발 <E> 개발 <E> 개발\n",
      "['9912334e-5408-4784-8c6a-f983d350e6d8', '국민 눈높이에 다가서려는 당 쇄신의 출발 신호 文정권 독재 마각 드러내 민주주의 근간 흔들려 2004년 총선 등 과거 사례 통해 난관 이겨내자 공관위장 국민 추천 통해 믿을 수 있는 분으로 서울 뉴시스 이종철 기자 황교안 자유한국당 대표가 9일 오후 서울 여의도 국회에서 열린 총선기획단 회의에서 모두발언을 하고 있다. 뉴시스 한편 황 대표는 심재철 의원 5선 과 김재원 의원 3선 이 새 원내대표·정책위의장으로 선출된 것과 관련 “저는 원내대표와 또 새 정책위의장 그리고 여러분들과 함께 문재인 정권의 좌파폭정을 막아내고 총선 승리와 구국의 길을 함께 힘차게 열어가겠다”고 밝혔다. 황 대표는 “다시 대동단결해서 문재인 정권의 폭정을 심판하고 국민과 함께 승리하는 그날을 향해서 힘차게 달려가자”며 “고난의 길을 우리 원내대표 또 정책위의장 혼자 가시게 하지 말고 우리 모두 함께 그 고난의 짐을 나누어서 이제는 우리가 이기는 모습을 국민 앞에 보여드릴 수 있도록 모두 함께 하자”고 독려했다.', '박능후 기자들 입맛대 주사제 방송 주사제 형 작동하 개발  개발  개발  개발']\n",
      "content 9일 국민권익위원회가 발표한 2019년 공공기관 청렴도 측정 결과 광주 전남 시 도 교육청은 종합청렴도에서 전체 5등급 중 나란히 3등급을 받았다 이는 지난해에 비해 2단계나 상승한 것으로 전북도는 이번 평가에서 외부청렴도 8 51점 1 36점 상승 내부청렴도 8 21점 0 37점 상승 정책고객평가 6 79점 0 14점 상승 과 부패사건이 발생하지 않아 모든 평가항목에서 골고루 전국 평균을 훨씬 웃도는 좋은 평가를 받은 것으로 나타났다 도는 특히 민원과 공사 용역 보조금 분야에서 전북도의 행정서비스를 받은 민원인들에게 평가받은 외부청렴도가 7 15점에서 8 51점으로 대폭 상승해 도민들로부터 투명하고 깨끗한 전북도의 행정을 인정받았다는 점에서 그 의미를 더했음을 설명했다\n",
      "continuing from previous trained model:  model/model.ckpt-249500 ...\n",
      "INFO:tensorflow:Restoring parameters from ./mm/copy_model/model.ckpt-249500\n",
      "10년 분양가 공공기 청렴도 8년 연속 껑충 <E> 늘고 <E> <E> <E> <E> <E> <E>\n",
      "['9b6c491d-3498-4ff4-a0b6-c8866a8b194f', '9일 국민권익위원회가 발표한 2019년 공공기관 청렴도 측정 결과 광주·전남 시·도 교육청은 종합청렴도에서 전체 5등급 중 나란히 3등급을 받았다. 이는 지난해에 비해 2단계나 상승한 것으로 전북도는 이번 평가에서 외부청렴도 8.51점 1.36점 상승 내부청렴도 8.21점 0.37점 상승 정책고객평가 6.79점 0.14점 상승 과 부패사건이 발생하지 않아 모든 평가항목에서 골고루 전국 평균을 훨씬 웃도는 좋은 평가를 받은 것으로 나타났다. 도는 특히 민원과 공사 용역 보조금 분야에서 전북도의 행정서비스를 받은 민원인들에게 평가받은 외부청렴도가 7.15점에서 8.51점으로 대폭 상승해 도민들로부터 투명하고 깨끗한 전북도의 행정을 인정받았다는 점에서 그 의미를 더했음을 설명했다.', '10년 분양가 공공기 청렴도 8년 연속 껑충  늘고      ']\n",
      "content 서울경제 LG유플러스 032640 가 국토교통부 국토지리정보원과 함께 자율주행 차량의 위치를 정확하게 파악할 수 있는 실시간 고정밀 측위 RTK 기술 고도화를 위해 협력한다고 9일 밝혔다 임진혁기자 liberal sedaily com LG유플러스 직원이 실시간 고정밀 측위 기술을 기반으로 자율주행 차량의 움직임을 파악하고 있다 디지털데일리 권하영기자 LG유플러스는 국토교통부 국토지리정보원과 고정밀 측위 RTK 서비스 활성화를 위한 양해각서 MOU 를 체결하고 기술 서비스 협력 방안을 모색하기로 했다고 9일 밝혔다\n",
      "continuing from previous trained model:  model/model.ckpt-249500 ...\n",
      "INFO:tensorflow:Restoring parameters from ./mm/copy_model/model.ckpt-249500\n",
      "활용한 용산공 조성 협력 <E> <E> 조성 <E> <E> <E> <E> <E> <E> <E> <E>\n",
      "['c5c56d83-888f-4558-a761-22c47d6288da', '서울경제 LG유플러스 032640 가 국토교통부 국토지리정보원과 함께 자율주행 차량의 위치를 정확하게 파악할 수 있는 ‘실시간 고정밀 측위 RTK ’ 기술 고도화를 위해 협력한다고 9일 밝혔다. 임진혁기자 liberal sedaily.com LG유플러스 직원이 ‘실시간 고정밀 측위’ 기술을 기반으로 자율주행 차량의 움직임을 파악하고 있다. 디지털데일리 권하영기자 LG유플러스는 국토교통부 국토지리정보원과 ‘고정밀 측위 RTK 서비스 활성화를 위한 양해각서 MOU ’를 체결하고 기술·서비스 협력 방안을 모색하기로 했다고 9일 밝혔다.', '활용한 용산공 조성 협력   조성        ']\n",
      "content 9일 SK텔레콤과 통계청은 인구 가구 데이터 등 공공 빅데이터에 휴대폰 위치정보 등 모바일 빅데이터 를 결합하고 이를 SK텔레콤의 인공지능 빅데이터 분석기술로 도식화 한 유동인구 지도 시범 서비스 를 시작한다고 밝혔다 SK텔레콤 모바일 빅데이터 기반 유동인구 지도 시범 서비스 SK텔레콤 전국 시군구별 유동인구 분석 인력 예산 절감 기여 SK텔레콤은 통계청과 모바일 빅데이터 기반 유동인구 지도 시범 서비스를 시작한다고 9일 밝혔다 아시아경제 구채은 기자 SK텔레콤과 통계청이 모바일 빅데이터 기반의 유동인구 지도 시범 서비스 를 시작한다고 9일 밝혔다\n",
      "continuing from previous trained model:  model/model.ckpt-249500 ...\n",
      "INFO:tensorflow:Restoring parameters from ./mm/copy_model/model.ckpt-249500\n",
      "첨단 공공데 빅데이 심리 어떻게 나쁨 <E> 컨소시 우수기 선정 <E> 창업 공유 <E> <E>\n",
      "['217697e0-2f7a-4d16-ad02-7426b0b05af9', '9일 SK텔레콤과 통계청은 인구·가구 데이터 등 공공 빅데이터에 휴대폰 위치정보 등 모바일 빅데이터 를 결합하고 이를 SK텔레콤의 인공지능 빅데이터 분석기술로 도식화 한 유동인구 지도 시범 서비스 를 시작한다고 밝혔다. SK텔레콤 모바일 빅데이터 기반 유동인구 지도 시범 서비스.ⓒSK텔레콤 전국 시군구별 유동인구 분석…인력·예산 절감 기여 SK텔레콤은 통계청과 모바일 빅데이터 기반 유동인구 지도 시범 서비스를 시작한다고 9일 밝혔다. 아시아경제 구채은 기자 SK텔레콤과 통계청이 모바일 빅데이터 기반의 유동인구 지도 시범 서비스 를 시작한다고 9일 밝혔다.', '첨단 공공데 빅데이 심리 어떻게 나쁨  컨소시 우수기 선정  창업 공유  ']\n",
      "content 심사위원회는 엄정한 역사의식을 바탕으로 지식인과 언론인에게 먼저 성찰과 반성을 촉구하던 송 선생의 날 선 비판 정신을 심사위원들은 임 검사에게서 발견할 수 있었다 며 이 시대 성숙한 시민의식에 비추어 볼 때 수상자와 같은 검사의 존재는 이례적이기보다는 오히려 그 출현은 늦었고 그 수는 부족하다고 본다 고 말했다 20 가 넘었던 고금리 이자비용이 4 대로 줄어 경제적 부담이 크게 경감됐고 매출도 점점 늘어나고 있어 A씨는 요즘 하루하루가 소중하고 즐겁기만 하다 경기신보는 이처럼 지난해 11월 전국 16개 지역신용보증재단 이하 지역신보 가운데 최초로 565억원의 채권소각을 실시한 후 올해 하반기까지 세차례에 걸쳐 총 920억원의 채권소각을 단행해 7638명 채무관계자의 빚을 탕감했다고 9일 밝혔다 주시운 언론홍보담당관은 이번 수상은 시민들의 진솔한 모습을 담은 이야기를 다양한 코너로 구성해 많은 시민들과 소통하고자 노력한 결과로 앞으로도 106만 고양시민에게 시정뿐만 아니라 문화 명소 인물 역사 생활정보 등 다양한 분야의 정보를 전달하기 위해 더욱 노력할 계획 이라고 전했다\n",
      "continuing from previous trained model:  model/model.ckpt-249500 ...\n",
      "INFO:tensorflow:Restoring parameters from ./mm/copy_model/model.ckpt-249500\n",
      "공무원 성과금 56 대신 동구바 착즙기 오픈 <E> <E> 만들어 <E> <E> <E> <E> <E>\n",
      "['62925a9c-bac0-4222-b987-52b75e926cf8', '심사위원회는 엄정한 역사의식을 바탕으로 지식인과 언론인에게 먼저 성찰과 반성을 촉구하던 송 선생의 날 선 비판 정신을 심사위원들은 임 검사에게서 발견할 수 있었다 며 이 시대 성숙한 시민의식에 비추어 볼 때 수상자와 같은 검사의 존재는 이례적이기보다는 오히려 그 출현은 늦었고 그 수는 부족하다고 본다 고 말했다. 20%가 넘었던 고금리 이자비용이 4%대로 줄어 경제적 부담이 크게 경감됐고 매출도 점점 늘어나고 있어 A씨는 요즘 하루하루가 소중하고 즐겁기만 하다 경기신보는 이처럼 지난해 11월 전국 16개 지역신용보증재단 이하 지역신보 가운데 최초로 565억원의 채권소각을 실시한 후 올해 하반기까지 세차례에 걸쳐 총 920억원의 채권소각을 단행해 7638명 채무관계자의 빚을 탕감했다고 9일 밝혔다. 주시운 언론홍보담당관은 “이번 수상은 시민들의 진솔한 모습을 담은 이야기를 다양한 코너로 구성해 많은 시민들과 소통하고자 노력한 결과로 앞으로도 106만 고양시민에게 시정뿐만 아니라 문화 명소 인물 역사 생활정보 등 다양한 분야의 정보를 전달하기 위해 더욱 노력할 계획”이라고 전했다.', '공무원 성과금 56 대신 동구바 착즙기 오픈   만들어     ']\n",
      "content 엔에스는 파로스자산운용 주 및 특별관계자의 지분율이 6 12 에서 4 66 로 변동했다고 9일 공시했다 코닉글로리는 정해종 및 특별관계자의 지분율이 5 04 에서 6 23 로 변동했다고 9일 공시했다 에이티세미콘은 제이앤에이치테크 주 및 특별관계자의 지분율이 38 03 에서 36 8 로 변동했다고 9일 공시했다\n",
      "continuing from previous trained model:  model/model.ckpt-249500 ...\n",
      "INFO:tensorflow:Restoring parameters from ./mm/copy_model/model.ckpt-249500\n",
      "엔화 현대제 당진제 매수 동반 매수 <E> 14 6 <E> <E> <E> <E> <E> <E>\n",
      "['76fa99b6-ccff-491c-8237-4eebe7f4a49e', '엔에스는 파로스자산운용 주 및 특별관계자의 지분율이 6.12%에서 4.66%로 변동했다고 9일 공시했다. 코닉글로리는 정해종 및 특별관계자의 지분율이 5.04%에서 6.23%로 변동했다고 9일 공시했다. 에이티세미콘은 제이앤에이치테크 주 및 특별관계자의 지분율이 38.03%에서 36.8%로 변동했다고 9일 공시했다.', '엔화 현대제 당진제 매수 동반 매수  14 6      ']\n",
      "content 국민은행 관계자는 이번 프로젝트가 장병들의 소원을 실현하는데 조금이나마 도움이 되길 바란다 며 앞으로도 국방부와 지속적인 협력을 통해 장병들의 꿈과 희망을 응원하는 행사로 더욱 발전시켜 나가겠다 고 말했다 활동 기간은 2020년 1월 2일부터 2월 28일까지로 약 2개월이며 블록체인과 가상자산 투자에 관심이 있는 대학생 휴학생 일반인 누구나 지원 가능하다 서포터즈에게 30만 원 상당 블록체인 포럼 일반 티켓 1매를 제공하며 매월 개인별 활동 내역에 따른 활동비 차등 지급 최우수 서포터즈 선정 후 인센티브 추가 지급 우수 활동자 지닥 인턴십 기회와 입사 우대 기념품 지급 등 다양한 활동 혜택이 제공된다\n",
      "continuing from previous trained model:  model/model.ckpt-249500 ...\n",
      "INFO:tensorflow:Restoring parameters from ./mm/copy_model/model.ckpt-249500\n",
      "국민 보험 재해 임대료 살리기 구속기 <E> 6곳 내놔 <E> 분산 설명회 <E> <E> <E>\n",
      "['12dee872-2550-44b4-b2b3-b71aa682abf4', '국민은행 관계자는 이번 프로젝트가 장병들의 소원을 실현하는데 조금이나마 도움이 되길 바란다 며 앞으로도 국방부와 지속적인 협력을 통해 장병들의 꿈과 희망을 응원하는 행사로 더욱 발전시켜 나가겠다 고 말했다. 활동 기간은 2020년 1월 2일부터 2월 28일까지로 약 2개월이며 블록체인과 가상자산 투자에 관심이 있는 대학생 휴학생 일반인 누구나 지원 가능하다. 서포터즈에게 30만 원 상당 블록체인 포럼 일반 티켓 1매를 제공하며 매월 개인별 활동 내역에 따른 활동비 차등 지급 최우수 서포터즈 선정 후 인센티브 추가 지급 우수 활동자 지닥 인턴십 기회와 입사 우대 기념품 지급 등 다양한 활동 혜택이 제공된다.', '국민 보험 재해 임대료 살리기 구속기  6곳 내놔  분산 설명회   ']\n",
      "content 앞서 지난 10월 시민단체 서민민생대책위원회는 알선수재 혐의와 정치자금법 위반 혐의 등으로 이 전 구청장과 김 구청장 부부를 서울남부지검에 고발했습니다 검찰은 이 전 구청장에게 정치자금법 위반 혐의 등을 적용한 것으로 알려졌다 앞서 검찰은 이 전 구청장에 대해 정치자금법 위반 혐의 등을 적용해 구속영장을 청구했다\n",
      "continuing from previous trained model:  model/model.ckpt-249500 ...\n",
      "INFO:tensorflow:Restoring parameters from ./mm/copy_model/model.ckpt-249500\n",
      "김성준 한주 동양 라파크 제빵기 무분별 입주 <E> 44 <E> <E> <E> <E> <E> <E>\n",
      "['5221a755-9a6d-43a7-9a04-cf7f6863ef64', '앞서 지난 10월 시민단체 서민민생대책위원회는 알선수재 혐의와 정치자금법 위반 혐의 등으로 이 전 구청장과 김 구청장 부부를 서울남부지검에 고발했습니다. 검찰은 이 전 구청장에게 정치자금법 위반 혐의 등을 적용한 것으로 알려졌다. 앞서 검찰은 이 전 구청장에 대해 정치자금법 위반 혐의 등을 적용해 구속영장을 청구했다.', '김성준 한주 동양 라파크 제빵기 무분별 입주  44      ']\n",
      "content 연합뉴스 김기현 전 울산시장 측근 비리 수사를 담당했던 경찰관 10여명이 검찰 소환 조사에 불응하자 검찰이 체포영장 청구 등 강제수사 방안까지 검토하고 있다 김기현 울산시장 측근 비리 정황 2년전 비리 의혹 처음으로 언급 임동호 비리 의혹 말한적 없다 검찰 조사 내용은 알리지 않아 청와대 하명 수사 의혹 사건을 수사 중인 검찰이 임동호 사진 더불어민주당 중앙당 전 최고위원을 소환해 조사하기로 했다 김기현 전 울산시장 측근 비리 의혹 수사와 관련한 정황 조사 때문인 것으로 알려졌다\n",
      "continuing from previous trained model:  model/model.ckpt-249500 ...\n",
      "INFO:tensorflow:Restoring parameters from ./mm/copy_model/model.ckpt-249500\n",
      "원주 부동산 본사에 거래 유학생 결정 100 홈피 새만금 <E> 도입 <E> <E> <E> <E>\n",
      "['689815b1-f811-497f-9fd1-0ba87f91fcec', '연합뉴스 김기현 전 울산시장 측근 비리 수사를 담당했던 경찰관 10여명이 검찰 소환 조사에 불응하자 검찰이 체포영장 청구 등 강제수사 방안까지 검토하고 있다. 김기현 前울산시장 측근 비리 정황 2년전 비리 의혹 처음으로 언급 임동호 비리 의혹 말한적 없다 검찰 조사 내용은 알리지 않아 청와대 하명 수사 의혹 사건을 수사 중인 검찰이 임동호 사진 더불어민주당 중앙당 전 최고위원을 소환해 조사하기로 했다. 김기현 전 울산시장 측근 비리 의혹 수사와 관련한 정황 조사 때문인 것으로 알려졌다.', '원주 부동산 본사에 거래 유학생 결정 100 홈피 새만금  도입    ']\n",
      "content 렌트카 기사 알선 허용범위 축소 법 조항 삭제해 달라 지디넷코리아 김민선 기자 apos타다금지법 apos이 국회 본회의 통과를 목전에 둔 가운데 타다 모회사인 쏘카의 이재웅 대표와 법안을 발의한 박홍근 의원 더불어민주당 이 서로 비판의 목소리를 높여가고 있다 또 박홍근 의원은 카풀 문제로 큰 갈등과 희생을 치르면서 도출한 사회적 대타협의 내용을 법안으로 마련한 것 이라면서 이 법안이 조속히 처리되지 않아서 타다의 불법성 여부를 놓고 또다시 사회적 갈등이 첨예하게 고조될 것이 뻔한데 이를 정치권과 정부는 방기할 수는 없는 노릇이다 고 설명했다 택시4단체는 이날 성명서에서 국회는 택시가족 희생으로 어렵게 상임위를 통과한 법안을 본회의에서 조속히 통과시킬 것을 요구한다 면서 만일 타다 측 억지주장으로 법안 통과가 무산되면 우리 택시가족은 지난 3월 사회적 대타협 을 무효화하고 100만 택시가족 총궐기로 그 책임을 물을 것 이라고 밝혔다\n",
      "continuing from previous trained model:  model/model.ckpt-249500 ...\n",
      "INFO:tensorflow:Restoring parameters from ./mm/copy_model/model.ckpt-249500\n",
      "칼럼 세무서 이틀째 확인 <E> 이용 <E> <E> <E> <E> <E> <E> <E> <E> <E>\n",
      "['8074bb16-18a5-426a-a7c5-513fa45c9cab', '렌트카 기사 알선 허용범위 축소 법 조항 삭제해 달라 지디넷코리아 김민선 기자 apos타다금지법 apos이 국회 본회의 통과를 목전에 둔 가운데 타다 모회사인 쏘카의 이재웅 대표와 법안을 발의한 박홍근 의원 더불어민주당 이 서로 비판의 목소리를 높여가고 있다. 또 박홍근 의원은 “카풀 문제로 큰 갈등과 희생을 치르면서 도출한 사회적 대타협의 내용을 법안으로 마련한 것”이라면서 “이 법안이 조속히 처리되지 않아서 타다의 불법성 여부를 놓고 또다시 사회적 갈등이 첨예하게 고조될 것이 뻔한데 이를 정치권과 정부는 방기할 수는 없는 노릇이다”고 설명했다. 택시4단체는 이날 성명서에서 국회는 택시가족 희생으로 어렵게 상임위를 통과한 법안을 본회의에서 조속히 통과시킬 것을 요구한다 면서 만일 타다 측 억지주장으로 법안 통과가 무산되면 우리 택시가족은 지난 3월 사회적 대타협 을 무효화하고 100만 택시가족 총궐기로 그 책임을 물을 것 이라고 밝혔다.', '칼럼 세무서 이틀째 확인  이용         ']\n",
      "content 여론조사 전문기관 리얼미터가 9일 발표한 12월 1주차 여론조사 결과 YTN의뢰 지난 2 6일까지 전국 19세 이상 유권자 2508명을 대상 에 따르면 문 대통령의 국정수행 지지율은 11월4주차 주간집계 대비 0 1 포인트 내린 47 5 매우 잘함 26 5 잘하는 편 21 0 로 집계됐다 조 공동대표는 거짓 촛불이 조작한 가짜뉴스로 죄 없는 박 전 대통령을 불법 탄핵했다 며 반드시 역사의 심판을 받을 것 이라고 했다 이어 박 전 대통령은 대한민국 역사상 최초의 여성 대통령이자 국민 과반 이상의 지지를 얻고 당선됐다 며 거짓 촛불세력은 여성이란 이유로 온갖 살인적 가짜뉴스를 만들어 국민을 선동했다 고 했다\n",
      "continuing from previous trained model:  model/model.ckpt-249500 ...\n",
      "INFO:tensorflow:Restoring parameters from ./mm/copy_model/model.ckpt-249500\n",
      "대학생 기존 저금리 문턱에 기업 경고 <E> 걸림돌 <E> 걸림돌 <E> 효과 <E> <E> <E>\n",
      "['a3e3ec1a-2f7b-4285-a4b7-50fc11d4e9de', '여론조사 전문기관 리얼미터가 9일 발표한 12월 1주차 여론조사 결과 YTN의뢰 지난 2 6일까지 전국 19세 이상 유권자 2508명을 대상 에 따르면 문 대통령의 국정수행 지지율은 11월4주차 주간집계 대비 0.1%포인트 내린 47.5% 매우 잘함 26.5% 잘하는 편 21.0% 로 집계됐다. 조 공동대표는 거짓 촛불이 조작한 가짜뉴스로 죄 없는 박 전 대통령을 불법 탄핵했다 며 반드시 역사의 심판을 받을 것 이라고 했다. 이어 박 전 대통령은 대한민국 역사상 최초의 여성 대통령이자 국민 과반 이상의 지지를 얻고 당선됐다 며 거짓 촛불세력은 여성이란 이유로 온갖 살인적 가짜뉴스를 만들어 국민을 선동했다 고 했다.', '대학생 기존 저금리 문턱에 기업 경고  걸림돌  걸림돌  효과   ']\n",
      "content 표 거래원 상위 10 45 기준 한진중공업 이 시각 거래소에서 한진중공업 이외에도 이더블유케이 8 57 큐리언트 5 16 제이웨이 7 45 일진홀딩스 10 24 우원개발 5 21 등이 상승세를 보이고 있다 주체별 매매동향 전일 기관 대량 순매수 지난 한달을 기준으로 보면 기관이 362 1만주를 순매수한 반면 외국인은 223 8만주를 순매도했고 개인들도 138 2만주를 순매도했다 투자자별 동향을 살펴보면 외국인이 홀로 매수 포지션을 취하고 있는 반면 개인과 기관은 동반 매도세를 보이고 있다\n",
      "continuing from previous trained model:  model/model.ckpt-249500 ...\n",
      "INFO:tensorflow:Restoring parameters from ./mm/copy_model/model.ckpt-249500\n",
      "증시 전일대 가는 98 기록 <E> 44 <E> <E> <E> <E> <E> <E> <E> <E>\n",
      "['3dffe373-19f2-44ef-ad91-eb85d227834c', '표 거래원 상위 10 45 기준 한진중공업 이 시각 거래소에서 한진중공업 이외에도 이더블유케이 8.57% 큐리언트 5.16% 제이웨이 7.45% 일진홀딩스 10.24% 우원개발 5.21% 등이 상승세를 보이고 있다. 주체별 매매동향 전일 기관 대량 순매수 지난 한달을 기준으로 보면 기관이 362.1만주를 순매수한 반면 외국인은 223.8만주를 순매도했고 개인들도 138.2만주를 순매도했다. 투자자별 동향을 살펴보면 외국인이 홀로 매수 포지션을 취하고 있는 반면 개인과 기관은 동반 매도세를 보이고 있다.', '증시 전일대 가는 98 기록  44        ']\n",
      "content 한국당 필리버스터 철회 조건 수사권 등 정기국회 상정 않기로 유치원3법 입장 달라 불씨 여전 파국은 피했지만 여야 3당은 9일 자유한국당이 필리버스터 무제한토론 를 철회하면 선거제 개편과 고위공직자범죄수사처 설치 등 패스트트랙 신속처리안건 법안을 정기국회 내 상정하지 않기로 합의했다 구체적 합의사항은 10일 본회의에서 내년도 예산안을 처리하고 한국당이 199개 안건에 신청한 필리버스터를 철회하면 패스트트랙법안을 정기국회 내에 상정하지 않는다 는 내용이다 이인영 민주당 원내대표는 한국당이 11월 29일 신청한 필리버스터를 철회하는 것이 전제조건 이라며 유치원3법에 대한 필리버스터 철회도 당연하다고 생각한다 고 말했다\n",
      "continuing from previous trained model:  model/model.ckpt-249500 ...\n",
      "INFO:tensorflow:Restoring parameters from ./mm/copy_model/model.ckpt-249500\n",
      "부총리 열풍 위한 1년 간 홈웨어 팀장 <E> 통계 <E> <E> <E> <E> <E> <E>\n",
      "['6b90fbb0-cdf8-4db5-92b7-07b4fa041dec', '한국당 필리버스터 철회 조건 수사권 등 정기국회 상정 않기로 유치원3법 입장 달라 불씨 여전 파국은 피했지만… 여야 3당은 9일 자유한국당이 필리버스터 무제한토론 를 철회하면 선거제 개편과 고위공직자범죄수사처 설치 등 패스트트랙 신속처리안건 법안을 정기국회 내 상정하지 않기로 합의했다. 구체적 합의사항은 10일 본회의에서 내년도 예산안을 처리하고 한국당이 199개 안건에 신청한 필리버스터를 철회하면 패스트트랙법안을 정기국회 내에 상정하지 않는다 는 내용이다. 이인영 민주당 원내대표는 한국당이 11월 29일 신청한 필리버스터를 철회하는 것이 전제조건 이라며 유치원3법에 대한 필리버스터 철회도 당연하다고 생각한다 고 말했다.', '부총리 열풍 위한 1년 간 홈웨어 팀장  통계      ']\n",
      "content 패스트트랙 예산안 국면 속 강력 투쟁과 적극 협상 병행 강조한 심재철 김재원 당선 미디어오늘 금준경 기자 자유한국당 새 원내대표에 심재철 의원 정책위의장에 김재원 의원이 선출됐다 연합 헤럴드경제 이원율 기자 심재철 5선 의원이 자유한국당의 신임 원내대표로 9일 당선됐다 사진 연합뉴스 자유한국당 신임 원내대표에 5선 심재철 의원 안양 동안구을 사진 이 9일 선출됐다\n",
      "continuing from previous trained model:  model/model.ckpt-249500 ...\n",
      "INFO:tensorflow:Restoring parameters from ./mm/copy_model/model.ckpt-249500\n",
      "85 서울외 추모공 마천 서비스 공개 <E> 운영 <E> <E> <E> <E> <E> <E> <E>\n",
      "['c36b73a0-26d6-4418-a83f-11be3237fd3b', '패스트트랙 예산안 국면 속 강력 투쟁과 적극 협상 병행 강조한 심재철 김재원 당선 미디어오늘 금준경 기자 자유한국당 새 원내대표에 심재철 의원 정책위의장에 김재원 의원이 선출됐다. 연합 헤럴드경제 이원율 기자 심재철 5선 의원이 자유한국당의 신임 원내대표로 9일 당선됐다. 사진 연합뉴스 자유한국당 신임 원내대표에 5선 심재철 의원 안양 동안구을·사진 이 9일 선출됐다.', '85 서울외 추모공 마천 서비스 공개  운영       ']\n",
      "content 내정된 강 부사장은 내년 1분기 이사회와 주주총회를 거쳐 안랩 대표이사로 선임될 예정이다 이와 관련 안랩 측은 현 권치중 대표의 임기는 내년 1분기까지다 라며 신임 대표는 내년 이사회와 주주총회를 거쳐 선임될 것이며 현재 공식적으로 확정된 바 없다 고 말했다 케니 여 프로스트 앤 설리번 애널리스트는 안랩은 멀티 운용체계 OS 멀티 클라우드 등 기업 환경 변화에 따른 보안 요구에 최적화한 엔드포인트 솔루션을 제공한다 면서 복잡한 엔드포인트 환경을 단일 에이전트와 단일 관리 콘솔을 통해 효과적으로 보호할 수 있다 고 평가했다\n",
      "continuing from previous trained model:  model/model.ckpt-249500 ...\n",
      "INFO:tensorflow:Restoring parameters from ./mm/copy_model/model.ckpt-249500\n",
      "한화투 세무 43 07 초읽기 인플레 오를 것 <E> 신상필 <E> <E> <E> <E> <E>\n",
      "['c744b0e9-0902-4a0b-9adb-91d43107c6f5', '내정된 강 부사장은 내년 1분기 이사회와 주주총회를 거쳐 안랩 대표이사로 선임될 예정이다. 이와 관련 안랩 측은 현 권치중 대표의 임기는 내년 1분기까지다 라며 신임 대표는 내년 이사회와 주주총회를 거쳐 선임될 것이며 현재 공식적으로 확정된 바 없다 고 말했다. 케니 여 프로스트 앤 설리번 애널리스트는 “안랩은 멀티 운용체계 OS 멀티 클라우드 등 기업 환경 변화에 따른 보안 요구에 최적화한 엔드포인트 솔루션을 제공한다”면서 “복잡한 엔드포인트 환경을 단일 에이전트와 단일 관리 콘솔을 통해 효과적으로 보호할 수 있다”고 평가했다.', '한화투 세무 43 07 초읽기 인플레 오를 것  신상필     ']\n",
      "content 카카오는 카카오뱅크 카카오페이 등을 통해 금융 사업을 확장하고 있는데 김 부회장은 금융과 IT 사업의 가교 역할을 할 전망이다 내년 상반기 서울 수도권 주요 거점과 군부대 연결 안규진 카카오모빌리티 사업부문 전무 왼쪽 와 조성곤 인에이블다온소프트 대표가 병영 셔틀 서비스 지원을 위한 업무협약 을 체결하고 기념촬영을 하고 있다 카카오모빌리티 더캠프 업무협약 체결 병영 셔틀 버스 운영해 군 장병 및 방문객 이동 편의 향상 안규진 왼쪽 카카오모빌리티 사업부분 전무와 조성곤 인에이블다온소프트 대표가 병영 셔틀 서비스 지원을 위한 업무협약 을 체결하고 기념사진을 촬영하고 있다\n",
      "continuing from previous trained model:  model/model.ckpt-249500 ...\n",
      "INFO:tensorflow:Restoring parameters from ./mm/copy_model/model.ckpt-249500\n",
      "공정한 주주친 전문업 개편 <E> 760 만든다 <E> 만난다 <E> 강조 <E> 개발 <E> <E>\n",
      "['144d7345-9b9e-4cbd-a267-622f4ca47ccb', '카카오는 카카오뱅크 카카오페이 등을 통해 금융 사업을 확장하고 있는데 김 부회장은 금융과 IT 사업의 가교 역할을 할 전망이다. 내년 상반기 서울·수도권 주요 거점과 군부대 연결 안규진 카카오모빌리티 사업부문 전무 왼쪽 와 조성곤 인에이블다온소프트 대표가 병영 셔틀 서비스 지원을 위한 업무협약 을 체결하고 기념촬영을 하고 있다. 카카오모빌리티 더캠프 업무협약 체결 병영 셔틀 버스 운영해 군 장병 및 방문객 이동 편의 향상 안규진 왼쪽 카카오모빌리티 사업부분 전무와 조성곤 인에이블다온소프트 대표가 ‘병영 셔틀 서비스 지원을 위한 업무협약’을 체결하고 기념사진을 촬영하고 있다.', '공정한 주주친 전문업 개편  760 만든다  만난다  강조  개발  ']\n",
      "content 디지털데일리 최민지기자 LG유플러스에 인수되는 CJ헬로는 LG헬로비전 으로 사명을 변경하고 송구영 LG유플러스 홈 미디어부문장 사진 을 대표로 내정한다 머니투데이 김주현 기자 대표에 송구영 LG유플러스 홈 미디어 부문장 내정 24일 임시주총 LG유플러스로 인수 절차를 진행 중인 CJ헬로가 LG헬로비전으로 사명을 바꾼다 CJ헬로는 주총에서 송구영 LG유플러스 홈 미디어부문장 전무 을 사내이사로 선임한다\n",
      "continuing from previous trained model:  model/model.ckpt-249500 ...\n",
      "INFO:tensorflow:Restoring parameters from ./mm/copy_model/model.ckpt-249500\n",
      "연말 광고대 프로그 폭스 라이브 이끌 발탁 추천 <E> 확대 <E> <E> <E> <E> <E>\n",
      "['32f8d0f2-1112-4169-8a06-b77badcb6c4b', '디지털데일리 최민지기자 LG유플러스에 인수되는 CJ헬로는 ‘LG헬로비전’으로 사명을 변경하고 송구영 LG유플러스 홈‧미디어부문장 사진 을 대표로 내정한다. 머니투데이 김주현 기자 대표에 송구영 LG유플러스 홈·미디어 부문장 내정…24일 임시주총 LG유플러스로 인수 절차를 진행 중인 CJ헬로가 LG헬로비전으로 사명을 바꾼다. CJ헬로는 주총에서 송구영 LG유플러스 홈·미디어부문장 전무 을 사내이사로 선임한다.', '연말 광고대 프로그 폭스 라이브 이끌 발탁 추천  확대     ']\n",
      "content 제주지방해양경찰청은 오늘 대성호의 베트남 선원으로 추정되는 시신을 제주대학교 병원에서 부검한 결과 사인을 화재사 로 추정했습니다 9일 제주지방해양경찰청은 8일 인양된 시신 1구에 대해 제주대학교병원이 부검을 실시한 결과 치명적인 외상은 없으며 사인은 화재사 로 추정된다고 밝혔다 대성호 실종자 수색 제주도사진기자회 공동취재단 9일 제주지방해양경찰청에 따르면 전날 오후 해저에 침몰한 대성호 선수 추정 물체로부터 약 44 떨어진 곳에서 수습한 시신의 지문을 채취해 확인한 결과 베트남 선원으로 신원이 특정됐다\n",
      "continuing from previous trained model:  model/model.ckpt-249500 ...\n",
      "INFO:tensorflow:Restoring parameters from ./mm/copy_model/model.ckpt-249500\n",
      "올해 마지막 담합 도우미 우리투 사장 금투협 회장의 <E> <E> <E> <E> <E> <E> <E>\n",
      "['4941bf97-7fa4-4557-a60f-695991e0683b', '제주지방해양경찰청은 오늘 대성호의 베트남 선원으로 추정되는 시신을 제주대학교 병원에서 부검한 결과 사인을 화재사 로 추정했습니다. 9일 제주지방해양경찰청은 8일 인양된 시신 1구에 대해 제주대학교병원이 부검을 실시한 결과 치명적인 외상은 없으며 사인은 화재사 로 추정된다고 밝혔다. 대성호 실종자 수색 제주도사진기자회 공동취재단 9일 제주지방해양경찰청에 따르면 전날 오후 해저에 침몰한 대성호 선수 추정 물체로부터 약 44ｍ 떨어진 곳에서 수습한 시신의 지문을 채취해 확인한 결과 베트남 선원으로 신원이 특정됐다.', '올해 마지막 담합 도우미 우리투 사장 금투협 회장의       ']\n",
      "content 거래소는 리츠인프라 우선주 혼합지수를 활용한 ETP상품을 통해 리츠종목의 분산투자를 도모하고 최근 시장의 관심이 높아지고 있는 배당형 테마투자 수요를 충족할 것 이라며 급변하는 국내외 투자트렌드를 고려하고 시장의 의견을 적극 반영하여 향후 다양한 테마형 지수 개발할 예정 이라고 말했다 올리브영 관계자는 SCM 분야에서 새로운 키워드로 떠오르고 있는 딥 러닝 기술을 활용한 수요 예측 시스템을 국내 유통업계 최초로 구현했다는 점에서 의미가 크다 며 첨단 물류 기술 역량을 지속적으로 키워나가면서 앞으로 물류 혁신에 총력을 다할 것 이라고 말했다 최용석 한국포스증권 플랫폼사업본부장은 고객의 시선에서 손쉬운 온라인 자산관리를 구현하기 위해 로보어드바이저 맞춤형 큐레이션 사설인증 등 첨단기술을 도입했다 며 지능형 UX로 화면을 설계해 누구나 쉽게 이용 가능하다는 것이 큰 장점 이라고 말했다\n",
      "continuing from previous trained model:  model/model.ckpt-249500 ...\n",
      "INFO:tensorflow:Restoring parameters from ./mm/copy_model/model.ckpt-249500\n",
      "201 활짝 이끈 연 보험사 매출 2억개 <E> 콘서트 개최 <E> 활용 <E> 선봬 <E>\n",
      "['8658f748-40a0-4ef8-b314-07a87ee23c2f', '거래소는 “리츠인프라·우선주 혼합지수를 활용한 ETP상품을 통해 리츠종목의 분산투자를 도모하고 최근 시장의 관심이 높아지고 있는 배당형 테마투자 수요를 충족할 것”이라며 “급변하는 국내외 투자트렌드를 고려하고 시장의 의견을 적극 반영하여 향후 다양한 테마형 지수 개발할 예정”이라고 말했다. 올리브영 관계자는 “SCM 분야에서 새로운 키워드로 떠오르고 있는 딥 러닝 기술을 활용한 수요 예측 시스템을 국내 유통업계 최초로 구현했다는 점에서 의미가 크다”며 “첨단 물류 기술 역량을 지속적으로 키워나가면서 앞으로 물류 혁신에 총력을 다할 것”이라고 말했다. 최용석 한국포스증권 플랫폼사업본부장은 “고객의 시선에서 손쉬운 온라인 자산관리를 구현하기 위해 로보어드바이저 맞춤형 큐레이션 사설인증 등 첨단기술을 도입했다”며 “지능형 UX로 화면을 설계해 누구나 쉽게 이용 가능하다는 것이 큰 장점”이라고 말했다.', '201 활짝 이끈 연 보험사 매출 2억개  콘서트 개최  활용  선봬 ']\n",
      "content 하지만 검찰은 당시 김 전 시장 측근 수사 경위를 확인하기 위해선 조사가 불가피하다고 보고 강제 구인 방안을 검토 중입니다 기자 검찰은 김기현 전 시장의 측근과 가족을 수사한 울산경찰청 관계자 10여 명을 소환 조사하려고 시도 중입니다 황 청장은 이날 오후 중구 선화동 대전시민대학 식장산홀에서 열린 검찰은 왜 고래고기를 돌려줬을까 라는 제목의 책을 소개하는 북콘서트에서 하명수사나 청와대의 선거개입 수사라고 명명을 하는데 이것은 검찰과 한국당 보수언론이 만들어낸 가공의 거짓 프레임 이라고 주장했다\n",
      "continuing from previous trained model:  model/model.ckpt-249500 ...\n",
      "INFO:tensorflow:Restoring parameters from ./mm/copy_model/model.ckpt-249500\n",
      "제주 보전 자금 후추위 이벤트 상장폐 타는 정맥인 <E> <E> 대비 <E> <E> <E> <E>\n",
      "['87b6fcde-99e1-4a5a-b32b-4733d7f02aae', '하지만 검찰은 당시 김 전 시장 측근 수사 경위를 확인하기 위해선 조사가 불가피하다고 보고 강제 구인 방안을 검토 중입니다. 기자 검찰은 김기현 전 시장의 측근과 가족을 수사한 울산경찰청 관계자 10여 명을 소환 조사하려고 시도 중입니다. 황 청장은 이날 오후 중구 선화동 대전시민대학 식장산홀에서 열린 검찰은 왜 고래고기를 돌려줬을까 라는 제목의 책을 소개하는 북콘서트에서 하명수사나 청와대의 선거개입 수사라고 명명을 하는데 이것은 검찰과 한국당 보수언론이 만들어낸 가공의 거짓 프레임 이라고 주장했다.', '제주 보전 자금 후추위 이벤트 상장폐 타는 정맥인   대비    ']\n",
      "content 세계 6번째 그란디오사 호 갤러리아 천장 전체에 설치 삼성전자가 글로벌 해운업체인 MSC 크루즈의 그란디오사 Grandiosa 호에 초대형 스마트 LED 사이니지를 공급한다 삼성전자 제공 세계에서 6번째로 큰 초대형 크루즈선 내부에 93m 길이에 달하는 삼성전자 스마트 발광다이오드 LED 사이니지가 설치됐다 삼성전자는 글로벌 해운 업체 MSC 크루즈의 그란디오사 호 내부 천장에 전체 면적 580 의 커브드 LED 사이니지를 설치했다고 9일 밝혔다\n",
      "continuing from previous trained model:  model/model.ckpt-249500 ...\n",
      "INFO:tensorflow:Restoring parameters from ./mm/copy_model/model.ckpt-249500\n",
      "삼성 스마트 아디다 기술력 충칭포 성황리 마무리 <E> 각양각 737 가세 <E> 개발 <E> 개발\n",
      "['d0a68418-55c6-4f74-b128-6a183140022d', '세계 6번째 ‘그란디오사’호 갤러리아 천장 전체에 설치 삼성전자가 글로벌 해운업체인 MSC 크루즈의 ‘그란디오사 Grandiosa ’호에 초대형 스마트 LED 사이니지를 공급한다. 삼성전자 제공 세계에서 6번째로 큰 초대형 크루즈선 내부에 93m 길이에 달하는 삼성전자 스마트 발광다이오드 LED 사이니지가 설치됐다. 삼성전자는 글로벌 해운 업체 MSC 크루즈의 ‘그란디오사’호 내부 천장에 전체 면적 580㎡의 커브드 LED 사이니지를 설치했다고 9일 밝혔다.', '삼성 스마트 아디다 기술력 충칭포 성황리 마무리  각양각 737 가세  개발  개발']\n",
      "content 김 의원은 청와대 정무수석 재직 당시 20대 총선 여론조사 비용 명목으로 이병호 전 국정원장으로부터 특수활동비 5억 원을 받은 혐의로 기소됐으나 1 2심에서 무죄를 선고받고 대법원 판결을 기다리고 있다 이인영 마지막까지 대화 끈 놓지 않겠다 이 대표는 9일 오전 국회 본청에서 열린 최고위원회의에서 게임의 룰인 선거법은 여야 합의가 최상이며 다른 개혁법안도 합의 처리가 우선이라고 생각해왔다 면서 더이상 기다릴 수 없어 오늘 본회의에 상정하고 처리할 예정이지만 최후의 순간까지 대화와 타협의 끈을 놓지 않겠다 고 말했다 이 원내대표는 예산안 처리도 정기국회 기일 내 처리해야한다 면서 한국당 원내대표가 이런 약속들을 확약하고 오늘이라도 본회의 처리에 나선 다면 최선을 다해 대화에 임하고 협상으로 합의를 도출하겠다 고 전했다\n",
      "continuing from previous trained model:  model/model.ckpt-249500 ...\n",
      "INFO:tensorflow:Restoring parameters from ./mm/copy_model/model.ckpt-249500\n",
      "조용병 중장기 의원 7조 재무부 매장서 콘테스 <E> 2기 반대 <E> <E> <E> <E> <E>\n",
      "['e35bcab4-724c-4719-898d-901bfa14f59f', '김 의원은 청와대 정무수석 재직 당시 20대 총선 여론조사 비용 명목으로 이병호 전 국정원장으로부터 특수활동비 5억 원을 받은 혐의로 기소됐으나 1·2심에서 무죄를 선고받고 대법원 판결을 기다리고 있다. 이인영 마지막까지 대화 끈 놓지 않겠다 이 대표는 9일 오전 국회 본청에서 열린 최고위원회의에서 게임의 룰인 선거법은 여야 합의가 최상이며 다른 개혁법안도 합의 처리가 우선이라고 생각해왔다 면서 더이상 기다릴 수 없어 오늘 본회의에 상정하고 처리할 예정이지만 최후의 순간까지 대화와 타협의 끈을 놓지 않겠다 고 말했다. 이 원내대표는 예산안 처리도 정기국회 기일 내 처리해야한다 면서 한국당 원내대표가 이런 약속들을 확약하고 오늘이라도 본회의 처리에 나선 다면 최선을 다해 대화에 임하고 협상으로 합의를 도출하겠다 고 전했다.', '조용병 중장기 의원 7조 재무부 매장서 콘테스  2기 반대     ']\n",
      "content 기계 AI 기반 대피로 안내 시스템 개발 이미지 게티이미지뱅크 아시아경제 김철현 기자 인공지능 AI 을 기반으로 복잡한 지하철역에서 위급상황이 발생했을 때 신속하고 안전하게 대피할 수 있도록 안내하는 시스템이 개발됐다 한형석 책임연구원은 지하철 화재 발생 시 피해를 줄일 수 있는 핵심은 승객이 골든타임 내 안전하게 대피하는 것 이라며 AI를 활용해 위기상황에 빠르게 대처하는 이 기술이 실생활에 적용돼 시민들의 안전한 삶을 구현에 기여하기를 기대한다 고 말했다 한국기계연구원 제공 지하철역에서 위급상황이 발생했을 때 AI 인공지능 를 기반으로 상황에 맞게 가장 신속하고 안전하게 대피 경로를 안내하는 시스템이 개발됐다\n",
      "continuing from previous trained model:  model/model.ckpt-249500 ...\n",
      "INFO:tensorflow:Restoring parameters from ./mm/copy_model/model.ckpt-249500\n",
      "내내 반퇴 네이처 만든 미소 꿈 나눠요 동촌신 함께 <E> <E> <E> <E> <E> <E>\n",
      "['6831c6cb-6ba1-42fc-88d9-5aead3c6e9b2', '기계硏 AI 기반 대피로 안내 시스템 개발 이미지 게티이미지뱅크 아시아경제 김철현 기자 인공지능 AI 을 기반으로 복잡한 지하철역에서 위급상황이 발생했을 때 신속하고 안전하게 대피할 수 있도록 안내하는 시스템이 개발됐다. 한형석 책임연구원은 지하철 화재 발생 시 피해를 줄일 수 있는 핵심은 승객이 골든타임 내 안전하게 대피하는 것 이라며 AI를 활용해 위기상황에 빠르게 대처하는 이 기술이 실생활에 적용돼 시민들의 안전한 삶을 구현에 기여하기를 기대한다 고 말했다. 한국기계연구원 제공 지하철역에서 위급상황이 발생했을 때 AI 인공지능 를 기반으로 상황에 맞게 가장 신속하고 안전하게 대피 경로를 안내하는 시스템이 개발됐다.', '내내 반퇴 네이처 만든 미소 꿈 나눠요 동촌신 함께      ']\n",
      "content 예비후보자제도 도입 17일 입후보 안내설명회 개최 중앙선관위 준법선거 분위기 조성 위반행위 무관용 농협 제공 세종 이데일리 이진철 기자 제24대 농협중앙회장 선거가 내년 1월31일 실시된다 정부 유턴법 개정 공포 내년 3월 시행 국 공유지 사용특례 신설 및 코트라로 지원창구 일원화 추진 유턴법 개정 주요내용 산업통상자원부 그동안 제조업에 국한됐던 유턴기업 혜택이 내년 3월부터는 소프트웨어 업체 컴퓨터프로그래밍 등 정보통신과 지식서비스업으로 확대된다 정부는 이번 개정으로 유턴기업 지원대상을 기존 제조업 외에 정보통신업 지식서비스업까지 확대해 유턴 지원 폭을 넓히고 새로운 유턴 수요 창출이 가능할 것으로 기대하고 있다\n",
      "continuing from previous trained model:  model/model.ckpt-249500 ...\n",
      "INFO:tensorflow:Restoring parameters from ./mm/copy_model/model.ckpt-249500\n",
      "캐나다 한투증 경남도 기업고 접점 신설 요구 <E> 집중 <E> <E> <E> <E> <E> <E>\n",
      "['8960c007-0447-49ac-b5d8-0f39129c9894', '예비후보자제도 도입 17일 입후보 안내설명회 개최 중앙선관위 준법선거 분위기 조성 위반행위 무관용 농협 제공 세종 이데일리 이진철 기자 제24대 농협중앙회장 선거가 내년 1월31일 실시된다. 정부 유턴법 개정·공포…내년 3월 시행 국·공유지 사용특례 신설 및 코트라로 지원창구 일원화 추진 유턴법 개정 주요내용 ⓒ산업통상자원부 그동안 제조업에 국한됐던 유턴기업 혜택이 내년 3월부터는 소프트웨어 업체 컴퓨터프로그래밍 등 정보통신과 지식서비스업으로 확대된다. 정부는 이번 개정으로 유턴기업 지원대상을 기존 제조업 외에 정보통신업·지식서비스업까지 확대해 유턴 지원 폭을 넓히고 새로운 유턴 수요 창출이 가능할 것으로 기대하고 있다.', '캐나다 한투증 경남도 기업고 접점 신설 요구  집중      ']\n",
      "content 트럼프 대통령 트위터 캡쳐 김정은 똑똑하기 때문에 잘 알 것 더팩트ㅣ외교부 박재우 기자 도널드 트럼프 미국 대통령은 8일 북한에 대해 적대적인 행동을 하면 모든 것을 잃게 될 것 이라고 경고했다 트럼프 대통령은 7일 백악관에서 기자들과 만난 자리에서도 북한이 적대적으로 행동한다면 놀랄 것 이라며 김 위원장이 내년에 내가 선거를 치른다는 걸 알고 있으며 미국 선거에 개입하기를 원치 않을 것 이라며 경고한바 있다 트럼프 발언은 겁 먹었다는 방증 재앙적 후과 보기 싫거든 숙고해야 리수용 북한 노동당 국제담당 부위원장2019년 11월 7일 중국공산당 랴오닝성 서기를 단장으로 한 친선대표단과 담화하는 북한 리수용 노동당 부위원장 2019 11 8 연합뉴스 자료사진 서울 연합뉴스 김동현 기자 북한은 9일 김정은 국무위원장이 아직 연말 시한 이후 취할 입장을 밝히지 않은 점을 강조하며 도널드 트럼프 미국 대통령이 김 위원장의 심기를 건드릴 막말 을 중단해야 한다고 재차 경고했다\n",
      "continuing from previous trained model:  model/model.ckpt-249500 ...\n",
      "INFO:tensorflow:Restoring parameters from ./mm/copy_model/model.ckpt-249500\n",
      "미국 해소 중국 제재 착수 <E> 경제의 등 경제단 <E> 모색 <E> 국제대 좋은 침해\n",
      "['9351c8b9-e7af-47a8-8262-13a2bf299502', '트럼프 대통령 트위터 캡쳐 김정은 똑똑하기 때문에 잘 알 것 더팩트ㅣ외교부 박재우 기자 도널드 트럼프 미국 대통령은 8일 북한에 대해 적대적인 행동을 하면 모든 것을 잃게 될 것 이라고 경고했다. 트럼프 대통령은 7일 백악관에서 기자들과 만난 자리에서도 “북한이 적대적으로 행동한다면 놀랄 것”이라며 “ 김 위원장이 내년에 내가 선거를 치른다는 걸 알고 있으며 미국 선거에 개입하기를 원치 않을 것”이라며 경고한바 있다. 트럼프 발언은 겁 먹었다는 방증…재앙적 후과 보기 싫거든 숙고해야 리수용 북한 노동당 국제담당 부위원장2019년 11월 7일 중국공산당 랴오닝성 서기를 단장으로 한 친선대표단과 담화하는 북한 리수용 노동당 부위원장 2019.11.8 연합뉴스 자료사진 서울 연합뉴스 김동현 기자 북한은 9일 김정은 국무위원장이 아직 연말 시한 이후 취할 입장을 밝히지 않은 점을 강조하며 도널드 트럼프 미국 대통령이 김 위원장의 심기를 건드릴 막말 을 중단해야 한다고 재차 경고했다.', '미국 해소 중국 제재 착수  경제의 등 경제단  모색  국제대 좋은 침해']\n",
      "content 삼성의 다스 미국 소송비 대납 관련 자료 제출 검찰 기존에 증거로 제출했던 송장과 동일 변호인 동일성 없어보여 증거 안 된다 반박 내달 8일 변론 마무리 내년 2월쯤 선고할 듯 이명박 전 대통령이 9일 서울고법에서 열린 항소심 속행공판에 출석하기 위해 법정으로 이동하고 있다 SUB TITLE START 징역 2년 1년6월 재판부 그룹 차원 조직적 행동 법 따르면서 성장해야 국민 응원 기업문화도 지적 SUB TITLE END 삼성바이오로직스 삼성바이오 분식회계 의혹 사건 관련 증거를 인멸한 혐의로 재판에 넘겨진 삼성전자 부사장이 1심에서 실형을 선고받았다 이 부사장 등은 삼성바이오 분식회계 의혹에 대한 검찰 수사가 예상되던 지난해 5월부터 삼성전자 서초사옥에서 긴급대책회의를 소집해 삼성바이오와 자회사 삼성바이오에피스에 증거인멸을 지시한 혐의를 받는다\n",
      "continuing from previous trained model:  model/model.ckpt-249500 ...\n",
      "INFO:tensorflow:Restoring parameters from ./mm/copy_model/model.ckpt-249500\n",
      "금융행 일단 채용비 다수 1월 임대업 <E> 신중해 <E> 롯데상 <E> <E> <E> <E> <E>\n",
      "['a5658a52-e729-4c1a-b3d3-65c0886ba5bb', '檢 삼성의 다스 미국 소송비 대납 관련 자료 제출 검찰 기존에 증거로 제출했던 송장과 동일 변호인 동일성 없어보여…증거 안 된다 반박 내달 8일 변론 마무리…내년 2월쯤 선고할 듯 이명박 전 대통령이 9일 서울고법에서 열린 항소심 속행공판에 출석하기 위해 법정으로 이동하고 있다. SUB TITLE START ㆍ징역 2년·1년6월…재판부 “그룹 차원 조직적 행동” ㆍ“법 따르면서 성장해야 국민 응원” 기업문화도 지적 SUB TITLE END 삼성바이오로직스 삼성바이오 분식회계 의혹 사건 관련 증거를 인멸한 혐의로 재판에 넘겨진 삼성전자 부사장이 1심에서 실형을 선고받았다. 이 부사장 등은 삼성바이오 분식회계 의혹에 대한 검찰 수사가 예상되던 지난해 5월부터 삼성전자 서초사옥에서 긴급대책회의를 소집해 삼성바이오와 자회사 삼성바이오에피스에 증거인멸을 지시한 혐의를 받는다.', '금융행 일단 채용비 다수 1월 임대업  신중해  롯데상     ']\n",
      "content 머니투데이 진경진 기자 아이폰11 프로 에어팟 프로 스타벅스 기프티콘 등의 경품 증정 P2P 개인간거래 금융 업체 8퍼센트 주식회사 에잇퍼센트 는 연말을 맞아 P2P 투자 위크 이벤트를 진행한다고 9일 밝혔다 투자 의향만 전달한 단계 실제 투자 유치액은 감소 우리나라의 외국인직접투자 FDI 신고액이 5년 연속 200억 달러를 돌파했다 LG상사는 MPC를 통해 오만 무산담 반도에 120 급 가스 화력 발전소를 짓고 전력을 생산하는 민자발전 사업을 진행하고 있다\n",
      "continuing from previous trained model:  model/model.ckpt-249500 ...\n",
      "INFO:tensorflow:Restoring parameters from ./mm/copy_model/model.ckpt-249500\n",
      "700 유상증 5일연 올라 <E> <E> <E> <E> <E> <E> <E> <E> <E> <E> <E>\n",
      "['0c8b3407-6ba4-4001-91f9-7c008f70944a', '머니투데이 진경진 기자 아이폰11 프로 에어팟 프로 스타벅스 기프티콘 등의 경품 증정 P2P 개인간거래 금융 업체 8퍼센트 주식회사 에잇퍼센트 는 연말을 맞아 P2P 투자 위크 이벤트를 진행한다고 9일 밝혔다. 투자 의향만 전달한 단계 실제 투자 유치액은 감소 우리나라의 외국인직접투자 FDI 신고액이 5년 연속 200억 달러를 돌파했다. LG상사는 MPC를 통해 오만 무산담 반도에 120㎿급 가스 화력 발전소를 짓고 전력을 생산하는 민자발전 사업을 진행하고 있다.', '700 유상증 5일연 올라           ']\n",
      "content 신약 새 트렌드 유전자 치료제 후보물질 도입 넘어 개발역량 확보 노바티스 벤처 11조 인수 등 바이오벤처 겨냥한 M A 활발 서울경제 글로벌제약사들이 미래 먹거리를 찾기 위해 인수합병 M A 에 적극적으로 나서고 있다 본투글로벌센터와 치타이허시의 구체적인 협력방안은 중국 그래핀 산업 한국 정보통신기술 ICT 융합을 통한 협력체계 구축 및 사업개발 그래핀 소재 확보를 위한 한국 기업과 사물인터넷 IoT 및 하드웨어 HW 공동개발 중국 현지 전문가 컨설팅 중국 현지 로드쇼 투자유치 연계 등을 통한 기회 발굴 중국 현지 정착에 필요한 각종 정보 및 인프라 제공 등이다 김종갑 본투글로벌센터장은 치타이허시 그래핀 연구소에 과학연구팀 파견을 시작으로 국내 혁신기술기업들의 적극적인 중국 진출이 이뤄질 수 있을 것 이라며 중국 그래핀 산업과 한국 ICT 융합을 통한 국익 향상 및 그래핀 분야 기술 선도화를 이뤄낼 수 있을 것으로 기대된다 고 밝혔다\n",
      "continuing from previous trained model:  model/model.ckpt-249500 ...\n",
      "INFO:tensorflow:Restoring parameters from ./mm/copy_model/model.ckpt-249500\n",
      "기업 기업 산업협 양해각 체결 글로벌 임상3 돕는다 <E> 시장 진출 <E> <E> <E> <E>\n",
      "['565f6fd1-d47a-4ddf-ada4-7724a30f389b', '신약 새 트렌드 유전자 치료제 후보물질 도입 넘어 개발역량 확보 노바티스 美 벤처 11조 인수 등 바이오벤처 겨냥한 M A 활발 서울경제 글로벌제약사들이 미래 먹거리를 찾기 위해 인수합병 M A 에 적극적으로 나서고 있다. 본투글로벌센터와 치타이허시의 구체적인 협력방안은 △중국 그래핀 산업 한국 정보통신기술 ICT 융합을 통한 협력체계 구축 및 사업개발 △그래핀 소재 확보를 위한 한국 기업과 사물인터넷 IoT 및 하드웨어 HW 공동개발 △중국 현지 전문가 컨설팅 △중국 현지 로드쇼 투자유치 연계 등을 통한 기회 발굴 △중국 현지 정착에 필요한 각종 정보 및 인프라 제공 등이다. 김종갑 본투글로벌센터장은 “치타이허시 그래핀 연구소에 과학연구팀 파견을 시작으로 국내 혁신기술기업들의 적극적인 중국 진출이 이뤄질 수 있을 것”이라며 “중국 그래핀 산업과 한국 ICT 융합을 통한 국익 향상 및 그래핀 분야 기술 선도화를 이뤄낼 수 있을 것으로 기대된다”고 밝혔다.', '기업 기업 산업협 양해각 체결 글로벌 임상3 돕는다  시장 진출    ']\n",
      "content 한국기자협회 제공 신임 한국기자협회장에 김동훈 한겨레신문 스포츠부장이 당선됐다 김 부장은 내년 1월부터 2년 간 기자협회장으로 활동하게 된다 한국기자협회 선거관리위원회는 전체 회원을 대상으로 휴대전화 문자 투표를 활용해 치러진 회장 선거에서 기호 3번 김동훈 후보가 2천586표를 득표 신임 협회장에 당선됐다고 9일 밝혔다\n",
      "continuing from previous trained model:  model/model.ckpt-249500 ...\n",
      "INFO:tensorflow:Restoring parameters from ./mm/copy_model/model.ckpt-249500\n",
      "위기의 한국 가스 업체 만들겠 <E> 배치 <E> 강점 <E> <E> <E> <E> <E> <E>\n",
      "['7bed3dbe-61d8-4491-8ae1-649d179eb3e8', '한국기자협회 제공 신임 한국기자협회장에 김동훈 한겨레신문 스포츠부장이 당선됐다. 김 부장은 내년 1월부터 2년 간 기자협회장으로 활동하게 된다. 한국기자협회 선거관리위원회는 전체 회원을 대상으로 휴대전화 문자 투표를 활용해 치러진 회장 선거에서 기호 3번 김동훈 후보가 2천586표를 득표 신임 협회장에 당선됐다고 9일 밝혔다.', '위기의 한국 가스 업체 만들겠  배치  강점      ']\n",
      "content 앵커 사실 그동안 여야가 가장 부딪혔던 건 지금 신속처리안건으로 진행된 선거제 개정안 공수처법 이런 건데 그러면 이 상황에서 이런 법안들은 앞으로 어떻게 될까요 기자 정확히 말씀드리면 선거법과 공수처설치법 등 패스트트랙 법안들은 모레 이후 임시국회로 미뤄놓은 상태입니다 여야 4 1 수정안 도출 표결 방침 한국당 필리버스터 재시도 가능성 예산 패스트트랙 정국 일촉즉발 문희상 국회의장이 오는 9일과 10일 본회의를 열어 예산안과 민생 법안 패스트트랙 법안을 모두 상정하겠다는 뜻을 밝히고 민주당이 제1야당인 한국당이 빠진 4 1 협의체를 통해 예산안 민생 법안 패스트트랙 법안을 논의하는 가운데 12월 8일 오후 도로표지판 너머로 국회 본청이 보이는 모습 연합뉴스 자료사진 서울 연합뉴스 김동호 기자 국회는 9일 오후 본회의를 열어 내년도 정부 예산안과 패스트트랙 신속처리안건 에 오른 선거법 개정안 및 검찰개혁 법안 민생법안을 상정한다 더불어민주당은 이날 오전 자유한국당을 제외한 4 1 더불어민주당 바른미래당 정의당 민주평화당 대안신당 협의체 가동을 이어가며 예산안과 패스트트랙 법안들에 대한 자체 수정안을 마련 본회의 표결 처리를 시도할 방침이다\n",
      "continuing from previous trained model:  model/model.ckpt-249500 ...\n",
      "INFO:tensorflow:Restoring parameters from ./mm/copy_model/model.ckpt-249500\n",
      "출연연 400 한파 대기업 부결 토대 199 마련하 모집 <E> 처리 <E> <E> <E> <E>\n",
      "['8a86f35b-2291-4129-a4ed-5431f27f51eb', '앵커 사실 그동안 여야가 가장 부딪혔던 건 지금 신속처리안건으로 진행된 선거제 개정안 공수처법 이런 건데 그러면 이 상황에서 이런 법안들은 앞으로 어떻게 될까요 기자 정확히 말씀드리면 선거법과 공수처설치법 등 패스트트랙 법안들은 모레 이후 임시국회로 미뤄놓은 상태입니다. 여야 4 1 수정안 도출·표결 방침…한국당 필리버스터 재시도 가능성 예산·패스트트랙 정국 일촉즉발 문희상 국회의장이 오는 9일과 10일 본회의를 열어 예산안과 민생 법안 패스트트랙 법안을 모두 상정하겠다는 뜻을 밝히고 민주당이 제1야당인 한국당이 빠진 4 1 협의체를 통해 예산안 민생 법안 패스트트랙 법안을 논의하는 가운데 12월 8일 오후 도로표지판 너머로 국회 본청이 보이는 모습 연합뉴스 자료사진 서울 연합뉴스 김동호 기자 국회는 9일 오후 본회의를 열어 내년도 정부 예산안과 패스트트랙 신속처리안건 에 오른 선거법 개정안 및 검찰개혁 법안 민생법안을 상정한다. 더불어민주당은 이날 오전 자유한국당을 제외한 4 1 더불어민주당·바른미래당·정의당·민주평화당 대안신당 협의체 가동을 이어가며 예산안과 패스트트랙 법안들에 대한 자체 수정안을 마련 본회의 표결 처리를 시도할 방침이다.', '출연연 400 한파 대기업 부결 토대 199 마련하 모집  처리    ']\n",
      "content 가민의 컨수머 제품군 영업 담당 부사장 댄 바텔 Den Bartel 은 스타워즈와 마블 시리즈의 팬으로서 이번 한정판 스페셜 에디션을 선보이게 되어 매우 기쁘다 라고 말하며 캐릭터들의 이야기를 가민의 혁신적인 스마트워치에 담아낸 이번 시리즈는 스타워즈와 마블 시리즈의 팬뿐만 아니라 모두의 소장욕구를 자극하는 완성도 높은 제품이다 라고 덧붙였다 디즈니 관계자는 스타워즈와 마블 시리즈의 아이코닉한 캐릭터들이 가민의 최첨단 GPS 스마트워치에 실감 나게 구현되어 매우 즐겁다 라고 전하며 이번 가민과의 콜라보레이션을 통해 스타워즈와 마블 팬들이 자신이 좋아하는 캐릭터와 특별한 유대감을 갖게 되길 바란다 라고 말했다 가민 레거시 시리즈 가민이 디즈니 스타워즈를 테마로 한 레거시 사가 시리즈와 마블 히어로를 모티브로 한 레거시 히어로 시리즈 한정판 스페셜 GPS 스마트워치를 국내 출시한다\n",
      "continuing from previous trained model:  model/model.ckpt-249500 ...\n",
      "INFO:tensorflow:Restoring parameters from ./mm/copy_model/model.ckpt-249500\n",
      "덴마크 경계 유저 캐릭터 빈 시크릿 상품 출시 카테고 제휴 <E> 호텔 통합 <E> <E>\n",
      "['a8b20037-d20c-4b79-ab9b-bb65f559f467', '가민의 컨수머 제품군 영업 담당 부사장 댄 바텔 Den Bartel 은 “스타워즈와 마블 시리즈의 팬으로서 이번 한정판 스페셜 에디션을 선보이게 되어 매우 기쁘다”라고 말하며 “캐릭터들의 이야기를 가민의 혁신적인 스마트워치에 담아낸 이번 시리즈는 스타워즈와 마블 시리즈의 팬뿐만 아니라 모두의 소장욕구를 자극하는 완성도 높은 제품이다”라고 덧붙였다. 디즈니 관계자는 “스타워즈와 마블 시리즈의 아이코닉한 캐릭터들이 가민의 최첨단 GPS 스마트워치에 실감 나게 구현되어 매우 즐겁다”라고 전하며 “이번 가민과의 콜라보레이션을 통해 스타워즈와 마블 팬들이 자신이 좋아하는 캐릭터와 특별한 유대감을 갖게 되길 바란다”라고 말했다. 가민 레거시 시리즈 가민이 디즈니 스타워즈를 테마로 한 레거시 사가 시리즈와 마블 히어로를 모티브로 한 레거시 히어로 시리즈 한정판 스페셜 GPS 스마트워치를 국내 출시한다.', '덴마크 경계 유저 캐릭터 빈 시크릿 상품 출시 카테고 제휴  호텔 통합  ']\n",
      "content 김경수 경남지사와 천경득 청와대 선임행정관까지 이른바 텔레그램 대화방 의혹의 당사자들이 모두 조사를 마쳤는데요 여권 핵심 인사들을 줄줄이 조사한 검찰은 이제 조국 전 법무부 장관의 소환만 남겨두고 있습니다 윤 실장은 김경수 경남도지사 천경득 청와대 행정관과 함께 유 전 부시장에 대한 감찰 무마 의혹의 핵심 인물로 지목돼 왔습니다 핵심 인물들에 대한 조사가 마무리되면서 이제 직접 감찰 중단 결정을 내린 조국 전 장관에 대한 소환만 남은 상황입니다\n",
      "continuing from previous trained model:  model/model.ckpt-249500 ...\n",
      "INFO:tensorflow:Restoring parameters from ./mm/copy_model/model.ckpt-249500\n",
      "노란우 상식 몰린 대한항 로 등 법 <E> 나눠먹 <E> <E> <E> <E> <E> <E>\n",
      "['92bea606-c8bc-4939-a79b-43deb97e18e6', '김경수 경남지사와 천경득 청와대 선임행정관까지 이른바 텔레그램 대화방 의혹의 당사자들이 모두 조사를 마쳤는데요 여권 핵심 인사들을 줄줄이 조사한 검찰은 이제 조국 전 법무부 장관의 소환만 남겨두고 있습니다. 윤 실장은 김경수 경남도지사 천경득 청와대 행정관과 함께 유 전 부시장에 대한 감찰 무마 의혹의 핵심 인물로 지목돼 왔습니다. 핵심 인물들에 대한 조사가 마무리되면서 이제 직접 감찰 중단 결정을 내린 조국 전 장관에 대한 소환만 남은 상황입니다.', '노란우 상식 몰린 대한항 로 등 법  나눠먹      ']\n",
      "content 0 86 상승출발한 주가는 꾸준히 올라 오전 9시 45분 현재 전일대비 5 17 수준인 8540원을 기록하고 있다 한국경제TV 라이온봇 기자 명성티엔에스 오전부터 명성티엔에스 257370 가 강세를 보이고 있다 그래프 명성티엔에스 일봉 차트 표 거래원 상위 10 33 기준 명성티엔에스 이 시각 거래소에서 명성티엔에스 이외에도 압타바이오 13 74 일진디스플 10 79 이더블유케이 11 02 한류AI센터 10 47 바이온 13 29 등이 상승세를 보이고 있다\n",
      "continuing from previous trained model:  model/model.ckpt-249500 ...\n",
      "INFO:tensorflow:Restoring parameters from ./mm/copy_model/model.ckpt-249500\n",
      "이슈 고전 수익성 주택 증가율 주민 확정 우려 <E> 알려줘 <E> <E> <E> <E> <E>\n",
      "['a1987289-f436-4cac-a811-43aaa8e44994', '0.86% 상승출발한 주가는 꾸준히 올라 오전 9시 45분 현재 전일대비 5.17% 수준인 8540원을 기록하고 있다. 한국경제TV 라이온봇 기자 명성티엔에스 오전부터 명성티엔에스 257370 가 강세를 보이고 있다. 그래프 명성티엔에스 일봉 차트 표 거래원 상위 10 33 기준 명성티엔에스 이 시각 거래소에서 명성티엔에스 이외에도 압타바이오 13.74% 일진디스플 10.79% 이더블유케이 11.02% 한류AI센터 10.47% 바이온 13.29% 등이 상승세를 보이고 있다.', '이슈 고전 수익성 주택 증가율 주민 확정 우려  알려줘     ']\n",
      "content 북한 국방과학원 대변인은 전날인 지난 8일 조선중앙통신을 통해 2월 7일 오후 서해위성발사장 철산군 동창리 장거리미사일발사장 에서는 대단히 중대한 시험이 진행되었다 며 이번에 진행한 중대한 시험의 결과는 머지않아 조선민주주의인민공화국의 전략적 지위를 또 한 번 변화시키는 데서 중요한 작용을 하게 될 것 이라고 발표했다 AP 연합뉴스 북한이 지난 7일 고체연료 엔진 연소시험을 한 것으로 추정되는 서해 위성발사장 은 평안북도 철산군 동창리로 분석된다 트위터 캡쳐 군 정보당국은 북한이 지난 7일 동창리 서해 위성발사장에서 진행한 중대한 시험 을 액체연료를 사용한 고출력 엔진 시험으로 추정하는 것으로 9일 알려졌다\n",
      "continuing from previous trained model:  model/model.ckpt-249500 ...\n",
      "INFO:tensorflow:Restoring parameters from ./mm/copy_model/model.ckpt-249500\n",
      "양주 파파레 산 줄이고 감세안 결정하 <E> 자본유 는 의료 <E> <E> <E> <E> <E>\n",
      "['fffc6444-3868-4a09-9250-6b4efc1e34c1', '북한 국방과학원 대변인은 전날인 지난 8일 조선중앙통신을 통해 “2월 7일 오후 서해위성발사장 철산군 동창리 장거리미사일발사장 에서는 대단히 중대한 시험이 진행되었다”며 “이번에 진행한 중대한 시험의 결과는 머지않아 조선민주주의인민공화국의 전략적 지위를 또 한 번 변화시키는 데서 중요한 작용을 하게 될 것”이라고 발표했다. AP 연합뉴스 북한이 지난 7일 고체연료 엔진 연소시험을 한 것으로 추정되는 ‘서해 위성발사장’은 평안북도 철산군 동창리로 분석된다. 트위터 캡쳐 군 정보당국은 북한이 지난 7일 동창리 서해 위성발사장에서 진행한 ‘중대한 시험’을 액체연료를 사용한 고출력 엔진 시험으로 추정하는 것으로 9일 알려졌다.', '양주 파파레 산 줄이고 감세안 결정하  자본유 는 의료     ']\n",
      "content 가입자 7 700만으로 급증 전망 반드시 승리 대규모 투자 중저가 보급으로 몸집 키우기 은 육성 법률 5G올림픽 사활 도 최초 넘어 규제혁신 필요 서울경제 한국이 지난 4월 세계 최초 5세대 5G 상용화에 성공하며 선수를 잡았지만 글로벌 5G 시대가 본격적으로 열리는 내년부터는 330조원대 투자 계획을 앞세운 미국과 내년 가입자 2억명을 목표로 제시한 중국 5G 올림픽 에 사활을 건 일본 등 각국이 약진하며 주도권 경쟁이 더 치열해질 전망이다 FSB 빅테크의 금융 서비스 전환 모니터링 필요해 구글 아마존 페이스북 애플 앱 AFP 뉴스1 서울 뉴스1 신기림 기자 세계 금융규제 기관들이 데이터 독과점을 무너뜨리기 위해 구글 알리바바를 비롯한 대형 정보기술 IT 업체들을 정조준하고 있다 내년 국가정보화 사업 추진방향은 지능정보기술 투자 비중을 지속 확대하고 노후화된 정부 정보시스템을 차세대 시스템으로 본격 교체하는 것이 주된 내용이다\n",
      "continuing from previous trained model:  model/model.ckpt-249500 ...\n",
      "INFO:tensorflow:Restoring parameters from ./mm/copy_model/model.ckpt-249500\n",
      "세계 최초 글로벌 와 미래형 5 자율주 적용 <E> 사업자 <E> <E> <E> <E> <E>\n",
      "['417c5ded-6aa0-412b-84dd-e96abd7e1ce6', '가입자 7 700만으로 급증 전망 美 반드시 승리 대규모 투자 中 중저가 보급으로 몸집 키우기 日은 육성 법률·5G올림픽 사활 韓도 최초 넘어 규제혁신 필요 서울경제 한국이 지난 4월 세계 최초 5세대 5G 상용화에 성공하며 선수를 잡았지만 글로벌 5G 시대가 본격적으로 열리는 내년부터는 330조원대 투자 계획을 앞세운 미국과 내년 가입자 2억명을 목표로 제시한 중국 ‘5G 올림픽’에 사활을 건 일본 등 각국이 약진하며 주도권 경쟁이 더 치열해질 전망이다. FSB 빅테크의 금융 서비스 전환 모니터링 필요해 구글 아마존 페이스북 애플 앱 AFP 뉴스1 서울 뉴스1 신기림 기자 세계 금융규제 기관들이 데이터 독과점을 무너뜨리기 위해 구글 알리바바를 비롯한 대형 정보기술 IT 업체들을 정조준하고 있다. 내년 국가정보화 사업 추진방향은 지능정보기술 투자 비중을 지속 확대하고 노후화된 정부 정보시스템을 차세대 시스템으로 본격 교체하는 것이 주된 내용이다.', '세계 최초 글로벌 와 미래형 5 자율주 적용  사업자     ']\n",
      "content 일각에서 추 후보자가 취임할 경우 오는 2020년 초 검찰 인사를 단행할 것이라는 관측을 내놓는 것에 대해서는 저 자신이 지명 받은 입장 이라며 현재는 청문회 준비 중이므로 적절한 시기에 말씀드리겠다 고 답했다 추 후보자는 이날 오전 10시쯤 청문회 준비단이 입주한 서울 양천구 남부준법지원센터 보호관찰소 에 출근하면서 장관 후보자로 지명된 이후 검찰개혁을 향한 국민의 기대와 요구가 더 높아졌다는 것을 확인할 수 있었다 취재진이 울산 고래고기 사건 과 관련한 검 경 갈등에 대한 생각 검찰 인사에 대한 전망 등도 물었나 추 후보자는 지명받은 후보자로 청문회를 준비하는 입장이어서 그런 문제는 그 청문회 단계 이후 적절한 시기에 말씀드리는 게 맞을 듯하다 고 했다\n",
      "continuing from previous trained model:  model/model.ckpt-249500 ...\n",
      "INFO:tensorflow:Restoring parameters from ./mm/copy_model/model.ckpt-249500\n",
      "롯데의 방송대 성공 디즈니 퇴직연 속도 내용 호재 <E> <E> <E> <E> <E> <E> <E>\n",
      "['5e1237c3-7287-466f-a67e-93ce75c3496b', '일각에서 추 후보자가 취임할 경우 오는 2020년 초 검찰 인사를 단행할 것이라는 관측을 내놓는 것에 대해서는 저 자신이 지명 받은 입장 이라며 현재는 청문회 준비 중이므로 적절한 시기에 말씀드리겠다 고 답했다. 추 후보자는 이날 오전 10시쯤 청문회 준비단이 입주한 서울 양천구 남부준법지원센터 보호관찰소 에 출근하면서 장관 후보자로 지명된 이후 검찰개혁을 향한 국민의 기대와 요구가 더 높아졌다는 것을 확인할 수 있었다. 취재진이 울산 고래고기 사건 과 관련한 검·경 갈등에 대한 생각 검찰 인사에 대한 전망 등도 물었나 추 후보자는 지명받은 후보자로 청문회를 준비하는 입장이어서 그런 문제는 그 청문회 단계 이후 적절한 시기에 말씀드리는 게 맞을 듯하다 고 했다.', '롯데의 방송대 성공 디즈니 퇴직연 속도 내용 호재       ']\n",
      "content 이나라 BGF리테일 신선식품팀 MD는 최근 가격은 낮추고 실속을 높인 덕에 CU의 과일 전체 매출이 전년 대비 40 나 증가할 정도로 편의점 과일 수요가 높아지고 있다 며 이러한 트렌드에 맞춰 계절마다 최상의 제철 과일을 지속적으로 도입해 고객 만족을 높이고 점포 매출 향상에도 기여할 것 이라고 말했다 킹스베리는 충남 논산에서 개발된 국내 토종 과일로 일반 딸기보다 2배 이상 크고 당도가 높은 품종이다 롯데칠성음료 관계자는 깨수깡은 기존의 숙취해소음료들과는 달리 탄산을 넣어 차별화한 제품 이라며 회식이나 송년회로 술자리가 많아지는 연말연시에 술 마신 다음 날 숙취를 깨수깡으로 개운하게 해소하길 바란다 고 말했다\n",
      "continuing from previous trained model:  model/model.ckpt-249500 ...\n",
      "INFO:tensorflow:Restoring parameters from ./mm/copy_model/model.ckpt-249500\n",
      "직원 연말연 간결하 스마트 브랜드 삼양식 250 <E> <E> <E> <E> <E> <E> <E> <E>\n",
      "['5e82adfc-1150-462f-ae31-dddf13a98557', '이나라 BGF리테일 신선식품팀 MD는 “최근 가격은 낮추고 실속을 높인 덕에 CU의 과일 전체 매출이 전년 대비 40%나 증가할 정도로 편의점 과일 수요가 높아지고 있다”며 “이러한 트렌드에 맞춰 계절마다 최상의 제철 과일을 지속적으로 도입해 고객 만족을 높이고 점포 매출 향상에도 기여할 것”이라고 말했다. 킹스베리는 충남 논산에서 개발된 국내 토종 과일로 일반 딸기보다 2배 이상 크고 당도가 높은 품종이다. 롯데칠성음료 관계자는 “깨수깡은 기존의 숙취해소음료들과는 달리 탄산을 넣어 차별화한 제품”이라며 “회식이나 송년회로 술자리가 많아지는 연말연시에 술 마신 다음 날 숙취를 깨수깡으로 개운하게 해소하길 바란다”고 말했다.', '직원 연말연 간결하 스마트 브랜드 삼양식 250        ']\n",
      "content 강용석 변호사는 처음 김건모 성폭행 의혹 폭로 방송을 준비할 때부터 이런 일이 있지 않을까 우려를 했다 며 저는 김건모 씨에 대해 잘 모르지만 김용호 부장은 김건모 씨가 어떤 삶을 살았는지 많은 루트를 통해 들었다 사진 가로세로연구소 캡처 김건모에 대한 폭로와 반박이 이어지던 상황에서 A 씨는 강용석 변호사 김세의 기자와 인터뷰에서 처음부터 돈을 요구한 적도 받은 적도 없다 며 진실하고 공개적인 사과와 방송활동 중단을 요구한다 고 밝혔다 이날 A씨를 대신해 고소장을 제출하러 온 강용석 변호사는 김건모씨는 2016년 피해자를 강간했고 이후 어떠한 사과도 하지 않았다 며 피해자는 큰 고통에 시달리고 있다 고 말했다\n",
      "continuing from previous trained model:  model/model.ckpt-249500 ...\n",
      "INFO:tensorflow:Restoring parameters from ./mm/copy_model/model.ckpt-249500\n",
      "곳 잊은 숨은 보험금 직면 6개월 찾기 <E> 10년 84 <E> <E> <E> <E> <E>\n",
      "['8ad72955-7a78-42b8-b4e6-c6458551f222', '강용석 변호사는 처음 김건모 성폭행 의혹 폭로 방송을 준비할 때부터 이런 일이 있지 않을까 우려를 했다 며 저는 김건모 씨에 대해 잘 모르지만 김용호 부장은 김건모 씨가 어떤 삶을 살았는지 많은 루트를 통해 들었다. 사진 가로세로연구소 캡처 김건모에 대한 폭로와 반박이 이어지던 상황에서 A 씨는 강용석 변호사 김세의 기자와 인터뷰에서 처음부터 돈을 요구한 적도 받은 적도 없다 며 진실하고 공개적인 사과와 방송활동 중단을 요구한다 고 밝혔다. 이날 A씨를 대신해 고소장을 제출하러 온 강용석 변호사는 김건모씨는 2016년 피해자를 강간했고 이후 어떠한 사과도 하지 않았다 며 피해자는 큰 고통에 시달리고 있다 고 말했다.', '곳 잊은 숨은 보험금 직면 6개월 찾기  10년 84     ']\n",
      "content 안 전 대표의 측근 인사인 김도식 전 비서실장은 9일 기자들에게 메시지를 보내 안 전 대표가 신당에 이달 중 합류할 예정이란 기사는 사실과 다르다 고 밝혔다 8일 발기인대회 개최한 변혁 신당 박차 분당 기정사실화 바른 당적 정리해달라 김관영 오늘이라도 탈당계 제출하는게 도의 손학규 바른미래당 대표가 2일 오전 국회에서 열린 최고위원회의에서 의사봉을 두드리고 있다 데일리안 박항구 기자 바른미래당 비당권파 모임인 변화와 혁신 변혁 이 8일 발기인대회를 열어 분당을 기정사실화했지만 손학규 바른미래당 대표의 고심은 더욱 깊어지고 있다 손 대표는 변혁 소속 유승민 의원과 자유한국당 황교안 대표가 통화하며 보수통합에 대한 의견을 나눈 사실이 처음 알려졌을 때도 바른미래당을 부수고 나가겠다는 생각 말고 당적을 정리해달라 고 요구했다\n",
      "continuing from previous trained model:  model/model.ckpt-249500 ...\n",
      "INFO:tensorflow:Restoring parameters from ./mm/copy_model/model.ckpt-249500\n",
      "이코노 등에 브리핑 농산물 배당금 잔치 <E> 최대 웃을 <E> <E> <E> <E> <E> <E>\n",
      "['1ee289e0-586f-4e93-9820-c2aa1a05ad07', '안 전 대표의 측근 인사인 김도식 전 비서실장은 9일 기자들에게 메시지를 보내 “안 전 대표가 신당에 이달 중 합류할 예정이란 기사는 사실과 다르다”고 밝혔다. 8일 발기인대회 개최한 변혁 신당 박차 분당 기정사실화…바른 당적 정리해달라 김관영 오늘이라도 탈당계 제출하는게 도의 손학규 바른미래당 대표가 2일 오전 국회에서 열린 최고위원회의에서 의사봉을 두드리고 있다.ⓒ데일리안 박항구 기자 바른미래당 비당권파 모임인 변화와 혁신 변혁 이 8일 발기인대회를 열어 분당을 기정사실화했지만 손학규 바른미래당 대표의 고심은 더욱 깊어지고 있다. 손 대표는 변혁 소속 유승민 의원과 자유한국당 황교안 대표가 통화하며 보수통합에 대한 의견을 나눈 사실이 처음 알려졌을 때도 바른미래당을 부수고 나가겠다는 생각 말고 당적을 정리해달라 고 요구했다.', '이코노 등에 브리핑 농산물 배당금 잔치  최대 웃을      ']\n",
      "content 자사고 출신 늘고 과학고는 줄어 2020학년도 서울대 수시 모집에서 일반계 고등학교 출신 합격자 비율이 절반인 것으로 나타났다 고교 유형별로 보면 전체 합격자 가운데 일반고 출신 비율은 50 로 지난해 49 3 에 비해 소폭 증가했다 서울대에 따르면 2020학년도 수시모집 지원인원은 1만7988명으로 2019학년도 1만8957명 보다 줄었으나 총 선발인원은 2019학년도 2523명 보다 51명 늘어났다\n",
      "continuing from previous trained model:  model/model.ckpt-249500 ...\n",
      "INFO:tensorflow:Restoring parameters from ./mm/copy_model/model.ckpt-249500\n",
      "중 매도 소득세 소득세 감면 웃을 곳은 청약 <E> <E> <E> <E> <E> <E> <E>\n",
      "['77d59279-4fe2-48e1-8f26-dbc470243b80', '자사고 출신 늘고 과학고는 줄어 2020학년도 서울대 수시 모집에서 일반계 고등학교 출신 합격자 비율이 절반인 것으로 나타났다. 고교 유형별로 보면 전체 합격자 가운데 일반고 출신 비율은 50%로 지난해 49.3% 에 비해 소폭 증가했다. 서울대에 따르면 2020학년도 수시모집 지원인원은 1만7988명으로 2019학년도 1만8957명 보다 줄었으나 총 선발인원은 2019학년도 2523명 보다 51명 늘어났다.', '중 매도 소득세 소득세 감면 웃을 곳은 청약       ']\n",
      "content 넥슨지티와 넥슨레드는 성남시 분당구 중탑지역아동센터에 후원금 3000만원을 전달했다고 9일 밝혔다 넥슨지티와 넥슨레드는 지난 2015년 중탑지역아동센터와 사회공헌 협약을 맺은 이후 지속적으로 후원금과 함께 컴퓨터 등 후원물품을 전달하고 있다 중탑지역아동센터 이지숙 센터장은 6년 동안 꾸준히 후원을 이어올 수 있도록 도움을 주신 양사 임직원분들께 진심으로 감사드린다 며 보내주신 소중한 후원금은 아이들이 다양한 문화 체험과 창의적 활동을 할 수 있는데 잘 쓰도록 노력하겠다 고 밝혔다\n",
      "continuing from previous trained model:  model/model.ckpt-249500 ...\n",
      "INFO:tensorflow:Restoring parameters from ./mm/copy_model/model.ckpt-249500\n",
      "보호업 점포 홈페이 지역 타이틀 충전소 소환 <E> 전달 <E> 소통 <E> <E> <E> <E>\n",
      "['8f79f8b1-0ab3-46d3-babe-492e50a54711', '넥슨지티와 넥슨레드는 성남시 분당구 중탑지역아동센터에 후원금 3000만원을 전달했다고 9일 밝혔다. 넥슨지티와 넥슨레드는 지난 2015년 중탑지역아동센터와 사회공헌 협약을 맺은 이후 지속적으로 후원금과 함께 컴퓨터 등 후원물품을 전달하고 있다. 중탑지역아동센터 이지숙 센터장은 “6년 동안 꾸준히 후원을 이어올 수 있도록 도움을 주신 양사 임직원분들께 진심으로 감사드린다”며 “보내주신 소중한 후원금은 아이들이 다양한 문화 체험과 창의적 활동을 할 수 있는데 잘 쓰도록 노력하겠다”고 밝혔다.', '보호업 점포 홈페이 지역 타이틀 충전소 소환  전달  소통    ']\n",
      "content 파이낸셜뉴스 웅진코웨이 주 박찬정 상무와 주 유니테스트 김영근 수석연구원이 대한민국 엔지니어상 12월 수상자로 선정됐다고 9일 과학기술정보통신부와 한국산업기술진흥협회가 밝혔다 대기업 수상자인 웅진코웨이 주 박찬정 상무는 미세먼지 저감을 포함한 공기청정 관련 핵심 기술 개발을 통한 제품 경쟁력 강화로 국내 시장 확대 및 해외 시장 공략에 기여한 공로가 인정돼 수상자로 선정됐다 또한 중소기업 수상자인 주 유니테스트 김영근 수석연구원은 메모리 테스터 분야 장비의 기술력을 확보하고 해외 수출 판로를 개척 반도체 장비 산업 성장에 기여한 공로가 인정됐다\n",
      "continuing from previous trained model:  model/model.ckpt-249500 ...\n",
      "INFO:tensorflow:Restoring parameters from ./mm/copy_model/model.ckpt-249500\n",
      "문체부 5년간 일자리 담배 감소 300 <E> 지원 <E> <E> <E> <E> <E> <E> <E>\n",
      "['b8423349-2912-4a31-8bd2-df79c70f5eff', '파이낸셜뉴스 웅진코웨이 주 박찬정 상무와 주 유니테스트 김영근 수석연구원이 대한민국 엔지니어상 12월 수상자로 선정됐다고 9일 과학기술정보통신부와 한국산업기술진흥협회가 밝혔다. 대기업 수상자인 웅진코웨이 주 박찬정 상무는 미세먼지 저감을 포함한 공기청정 관련 핵심 기술 개발을 통한 제품 경쟁력 강화로 국내 시장 확대 및 해외 시장 공략에 기여한 공로가 인정돼 수상자로 선정됐다. 또한 중소기업 수상자인 주 유니테스트 김영근 수석연구원은 메모리 테스터 분야 장비의 기술력을 확보하고 해외 수출 판로를 개척 반도체 장비 산업 성장에 기여한 공로가 인정됐다.', '문체부 5년간 일자리 담배 감소 300  지원       ']\n",
      "content 현대로템은 우유철 부회장이 대표이사 중심의 경영혁신 가속화를 위해 용퇴한다고 9일 밝혔다 현대차그룹 올드보이 부회장 중 올해 첫 퇴임 우유철 부회장 이데일리 이소현 기자 우유철 현대로템 064350 부회장이 대표이사 중심의 경영혁신 가속화를 위해 용퇴한다 사진 HDC현대산업개발 HDC현대산업개발은 경남 창원 신월2구역 재건축 사업을 수주했다고 9일 밝혔다\n",
      "continuing from previous trained model:  model/model.ckpt-249500 ...\n",
      "INFO:tensorflow:Restoring parameters from ./mm/copy_model/model.ckpt-249500\n",
      "코스모 줌펀드 2 턱받이 82 중소기 제공 <E> 8곳 선정 <E> <E> <E> <E> <E>\n",
      "['da52c27f-5f8e-4f7b-a457-8853d4df679a', '현대로템은 우유철 부회장이 대표이사 중심의 경영혁신 가속화를 위해 용퇴한다고 9일 밝혔다. 현대차그룹 올드보이 부회장 중 올해 첫 퇴임 우유철 부회장 이데일리 이소현 기자 우유철 현대로템 064350 부회장이 대표이사 중심의 경영혁신 가속화를 위해 용퇴한다. 사진 HDC현대산업개발 HDC현대산업개발은 경남 창원 신월2구역 재건축 사업을 수주했다고 9일 밝혔다.', '코스모 줌펀드 2 턱받이 82 중소기 제공  8곳 선정     ']\n",
      "content 황 청장은 이날 오후 7시부터 1시간 30분 동안 대전 중구 대전시민대학 옛 충남도청사 식장산홀에서 자신의 저서 검찰은 왜 고래고기를 돌려줬을까 출간 기념 북콘서트를 열었다 MobileAdNew center 황 청장은 패널과의 토론에서 울산시장 측근 수사 때 검찰이 경찰의 압수수색 영장을 피하며 수사를 방해했다 하명수사와 선거기획 수사론은 검찰과 보수 언론이 만든 거짓이다 공수처가 설치돼 사법 권력이 쪼개져야 한다 등 기존 주장을 되풀이했다 그는 공수처는 괴물이 돼 버린 검찰 제도를 견제할 불가피한 수단 이라며 최근 검찰은 수사권을 무기로 오로지 검찰조직 이익만을 위해 수사하며 세상을 어지럽히고 있다 고 주장했다\n",
      "continuing from previous trained model:  model/model.ckpt-249500 ...\n",
      "INFO:tensorflow:Restoring parameters from ./mm/copy_model/model.ckpt-249500\n",
      "깜짝발 촛불 충남도 공익법 걱정없 육성 <E> <E> 만든다 <E> 진화 <E> 혁신 <E> <E>\n",
      "['15b3cadc-3055-4494-98d8-c0a90970274d', '황 청장은 이날 오후 7시부터 1시간 30분 동안 대전 중구 대전시민대학 옛 충남도청사 식장산홀에서 자신의 저서 ‘검찰은 왜 고래고기를 돌려줬을까’ 출간 기념 북콘서트를 열었다. MobileAdNew center 황 청장은 패널과의 토론에서 “울산시장 측근 수사 때 검찰이 경찰의 압수수색 영장을 피하며 수사를 방해했다” “하명수사와 선거기획 수사론은 검찰과 보수 언론이 만든 거짓이다” “공수처가 설치돼 사법 권력이 쪼개져야 한다” 등 기존 주장을 되풀이했다. 그는 공수처는 괴물이 돼 버린 검찰 제도를 견제할 불가피한 수단 이라며 최근 검찰은 수사권을 무기로 오로지 검찰조직 이익만을 위해 수사하며 세상을 어지럽히고 있다 고 주장했다.', '깜짝발 촛불 충남도 공익법 걱정없 육성   만든다  진화  혁신  ']\n",
      "content 종합만족도는 서비스 품질 만족도 상품 특성 만족도 호감도의 중요도 가중치 를 반영한 평균값으로 8개 배달서비스 가운데 페리카나가 3 79점으로 가장 높았다 종합만족도를 보면 페리카나가 3 79점으로 1위였고 이어 처갓집양념치킨 3 77 네네치킨 3 73 호식이두마리치킨 3 71 굽네치킨 3 69 순서였다 서비스 품질 만족도는 페리카나가 3 93점으로 1위였고 처갓집양념치킨이 3 89점으로 2위 네네치킨과 굽네치킨이 3 87점으로 그다음이었다\n",
      "continuing from previous trained model:  model/model.ckpt-249500 ...\n",
      "INFO:tensorflow:Restoring parameters from ./mm/copy_model/model.ckpt-249500\n",
      "4 40 2 꺼낸 소비자 제약업 <E> <E> <E> <E> <E> <E> <E> <E> <E>\n",
      "['1cd49559-8c2d-4b40-adca-1628a134508e', '종합만족도는 서비스 품질 만족도 상품 특성 만족도 호감도의 중요도 가중치 를 반영한 평균값으로 8개 배달서비스 가운데 페리카나가 3.79점으로 가장 높았다. 종합만족도를 보면 페리카나가 3.79점으로 1위였고 이어 처갓집양념치킨 3.77 네네치킨 3.73 호식이두마리치킨 3.71 굽네치킨 3.69 순서였다. 서비스 품질 만족도는 페리카나가 3.93점으로 1위였고 처갓집양념치킨이 3.89점으로 2위 네네치킨과 굽네치킨이 3.87점으로 그다음이었다.', '4 40 2 꺼낸 소비자 제약업         ']\n",
      "content 정춘숙 더불어민주당 원내대변인 사진 연합뉴스 헤럴드경제 더불어민주당은 9일 여야 3당 교섭단체 원내대표 합의 후 자유한국당이 의원총회에서 내년도 예산안에 대한 합의가 완료될 경우 필리버스터 무제한 토론을 통한 합법적 의사진행 방해 신청을 철회하겠다 고 방침을 정한 것에 대해 심각한 유감 이라며 반발했다 심 원내대표는 이날 회동이 끝난 후 기자들과 만나 예산안은 내일 오전 10시 본회의를 열어 처리하기로 했다 며 지난번 본회의에 신청한 필리버스터는 한국당이 의원총회를 거쳐 철회할 예정 이라고 말했다 이인영 더불어민주당 심재철 자유한국당 오신환 바른미래당 등 3당 원내대표는 이날 문희상 국회의장 주재로 국회의장실에서 만나 2020년 예산안은 10일 본회의에 상정해 처리하고 199개 민생법안에 대해 자유한국당이 신청한 필리버스터는 의원총회를 거쳐 철회하며 패스트트랙에 올라간 법안은 이번 정기국회 안에 상정하기 않기로 큰 틀에서 합의했다\n",
      "continuing from previous trained model:  model/model.ckpt-249500 ...\n",
      "INFO:tensorflow:Restoring parameters from ./mm/copy_model/model.ckpt-249500\n",
      "알림 심사 보복 개선안 제출 제도개 이견차 각료선 채택 일자리 도입 <E> 지원종 <E> <E>\n",
      "['324950dd-3a34-4179-a4b1-d78cd17de840', '정춘숙 더불어민주당 원내대변인 사진 연합뉴스 헤럴드경제 더불어민주당은 9일 여야 3당 교섭단체 원내대표 합의 후 자유한국당이 의원총회에서 내년도 예산안에 대한 합의가 완료될 경우 필리버스터 무제한 토론을 통한 합법적 의사진행 방해 신청을 철회하겠다 고 방침을 정한 것에 대해 심각한 유감 이라며 반발했다. 심 원내대표는 이날 회동이 끝난 후 기자들과 만나 예산안은 내일 오전 10시 본회의를 열어 처리하기로 했다 며 지난번 본회의에 신청한 필리버스터는 한국당이 의원총회를 거쳐 철회할 예정 이라고 말했다. 이인영 더불어민주당·심재철 자유한국당·오신환 바른미래당 등 3당 원내대표는 이날 문희상 국회의장 주재로 국회의장실에서 만나 △2020년 예산안은 10일 본회의에 상정해 처리하고 △199개 민생법안에 대해 자유한국당이 신청한 필리버스터는 의원총회를 거쳐 철회하며 △패스트트랙에 올라간 법안은 이번 정기국회 안에 상정하기 않기로 큰 틀에서 합의했다.', '알림 심사 보복 개선안 제출 제도개 이견차 각료선 채택 일자리 도입  지원종  ']\n",
      "content 환경부는 10일 오전 6시부터 오후 9시까지 수도권과 충북에서 고농도 미세먼지 비상저감조치를 발령한다고 9일 밝혔다 한겨레 자료사진 올겨울 들어 처음으로 수도권과 충북 지역에 미세먼지 위기경보 발령과 함께 비상저감조치가 시행된다 환경부는 10일 아침 6시부터 오후 9시까지 서울 인천 경기 등 수도권과 충북 지역에 미세먼지 위기경보 관심 단계를 발령하고 위기관리 표준지침 에 따른 비상저감조치를 시행할 예정이라고 9일 밝혔다\n",
      "continuing from previous trained model:  model/model.ckpt-249500 ...\n",
      "INFO:tensorflow:Restoring parameters from ./mm/copy_model/model.ckpt-249500\n",
      "분양단 회장 주택형 옛말 교육환 안낸다 시스템 구현한 <E> 줄인다 <E> 육성 <E> <E> <E>\n",
      "['18cd1e56-e14e-4d9e-9673-de16f3dccb9e', '환경부는 10일 오전 6시부터 오후 9시까지 수도권과 충북에서 고농도 미세먼지 비상저감조치를 발령한다고 9일 밝혔다. 한겨레 자료사진 올겨울 들어 처음으로 수도권과 충북 지역에 미세먼지 위기경보 발령과 함께 비상저감조치가 시행된다. 환경부는 10일 아침 6시부터 오후 9시까지 서울·인천·경기 등 수도권과 충북 지역에 미세먼지 위기경보 ‘관심’ 단계를 발령하고 ‘위기관리 표준지침’에 따른 비상저감조치를 시행할 예정이라고 9일 밝혔다.', '분양단 회장 주택형 옛말 교육환 안낸다 시스템 구현한  줄인다  육성   ']\n",
      "content 신임 원내대표는 당선과 동시에 한국당을 제외한 여야 4 1 협의체 더불어민주당 바른미래당 정의당 민주평화당 대안신당 가 강행 처리 움직임을 보이는 내년도 예산안과 패스트트랙에 오른 선거제 개혁안 및 검찰개혁 법안을 저지하기 위한 협상 등에 나서야 한다 그는 회의 직후 기자들과 만난 자리에서도 시급한 민생법안은 빨리 처리해야 한다는 게 당의 일관된 입장 이라고 밝히고서 그걸 정략적으로 악용해 자꾸 다른 법들과 묶어서 더불어민주당과 그에 야합하는 정당들이 자신의 뜻을 이루기 위한 국회 운영을 하기 위해 노력하고 있다 고 비판했다 내년 총선 승리로 이끌어야 비상한 각오로 임해달라 오늘 오전 한국당 원내대표 경선 실시 자유한국당 황교안 대표가 9일 신임 원내대표 선출과 관련 신임 원내대표단은 패스트트랙 2대 악법을 저지하고 친문 3대 농단 과 관련해 강력한 대여 투쟁을 전개해야 한다 고 했다\n",
      "continuing from previous trained model:  model/model.ckpt-249500 ...\n",
      "INFO:tensorflow:Restoring parameters from ./mm/copy_model/model.ckpt-249500\n",
      "충남 오너 술자리 육아 차명계 도입 레이스 7명 탈석탄 <E> <E> <E> <E> <E> <E>\n",
      "['2a405375-cd8a-4921-b80f-00462ca5c347', '신임 원내대표는 당선과 동시에 한국당을 제외한 여야 ‘4 1 협의체’ 더불어민주당·바른미래당·정의당·민주평화당 대안신당 가 강행 처리 움직임을 보이는 내년도 예산안과 패스트트랙에 오른 선거제 개혁안 및 검찰개혁 법안을 저지하기 위한 협상 등에 나서야 한다. 그는 회의 직후 기자들과 만난 자리에서도 시급한 민생법안은 빨리 처리해야 한다는 게 당의 일관된 입장 이라고 밝히고서 그걸 정략적으로 악용해 자꾸 다른 법들과 묶어서 더불어민주당과 그에 야합하는 정당들이 자신의 뜻을 이루기 위한 국회 운영을 하기 위해 노력하고 있다 고 비판했다. 黃 내년 총선 승리로 이끌어야...비상한 각오로 임해달라 오늘 오전 한국당 원내대표 경선 실시 자유한국당 황교안 대표가 9일 신임 원내대표 선출과 관련 신임 원내대표단은 패스트트랙 2대 악법을 저지하고 친문 3대 농단 과 관련해 강력한 대여 투쟁을 전개해야 한다 고 했다.', '충남 오너 술자리 육아 차명계 도입 레이스 7명 탈석탄      ']\n",
      "content 서울 광화문 KT EAST 사옥 KT 5명 내외로 압축 후보자 동의 받아 공개 구현모 오성목 이동면 주요 내부 후보 언급 KT 차기 회장 유력 후보군의 명단이 오는 12일 공개된다 김대유 KT 지배구조위원회 위원장은 오늘 이사회서 그간 활동을 보고했고 차기 회장과 관련 보안을 지켜달라는 지시가 있었다 며 12일 이사회를 열고 후보자 심사위원회를 구성해 후보자 동의를 받아 명단을 공개하기로 했다 고 말했다 사내이사 중 1명인 황창규 현 회장은 최종 후보 선출 과정에 개입하지 않기로 했으며 또 다른 사내이사이자 차기 회장 후보군인 이동면 사장도 2 3명 후보군에 본인이 포함될 경우 회장 선출을 위한 이사회에 참석하지 않을 계획이다\n",
      "continuing from previous trained model:  model/model.ckpt-249500 ...\n",
      "INFO:tensorflow:Restoring parameters from ./mm/copy_model/model.ckpt-249500\n",
      "금융지 회장 29 15 포인트 늘려 보험료 오른다 <E> 졸업생 <E> <E> <E> <E> <E>\n",
      "['6b584892-5cd2-40cc-aec9-43bbf17c0c3d', '서울 광화문 KT EAST 사옥.ⓒKT 5명 내외로 압축…“후보자 동의 받아 공개” 구현모·오성목·이동면 주요 내부 후보 언급 KT 차기 회장 유력 후보군의 명단이 오는 12일 공개된다. 김대유 KT 지배구조위원회 위원장은 “오늘 이사회서 그간 활동을 보고했고 차기 회장과 관련 보안을 지켜달라는 지시가 있었다”며 “12일 이사회를 열고 후보자 심사위원회를 구성해 후보자 동의를 받아 명단을 공개하기로 했다”고 말했다. 사내이사 중 1명인 황창규 현 회장은 최종 후보 선출 과정에 개입하지 않기로 했으며 또 다른 사내이사이자 차기 회장 후보군인 이동면 사장도 2 3명 후보군에 본인이 포함될 경우 회장 선출을 위한 이사회에 참석하지 않을 계획이다.', '금융지 회장 29 15 포인트 늘려 보험료 오른다  졸업생     ']\n",
      "content KT 이사회는 오늘 9일 간담회를 열고 지배구조위원회로부터 회장 후보 심사과정에 대한 보고를 받았으며 이 자리에서 주요 후보군 명단을 설명한 것으로 전해졌습니다 KT 지배구조위원회는 오는 12일 이사회를 열어 회장 후보 심사대상자 숫자를 공개하고 본인 동의를 거쳐 동의를 한 사람에 한해 명단을 발표할 예정이라고 9일 밝혔다 박 회장은 택시를 보호하려는 의도는 이해가 가지만 그렇다고 미래를 막아버리는 방법이 유일한 대안인가 라며 아무리 생각해도 납득이 안 간다 고 지적했다\n",
      "continuing from previous trained model:  model/model.ckpt-249500 ...\n",
      "INFO:tensorflow:Restoring parameters from ./mm/copy_model/model.ckpt-249500\n",
      "정부 올해 예산 4조 확정 <E> 마련 <E> 성장 <E> <E> <E> <E> <E> <E>\n",
      "['cc7f5870-e5b4-4953-98ab-74e7b59a5415', 'KT 이사회는 오늘 9일 간담회를 열고 지배구조위원회로부터 회장 후보 심사과정에 대한 보고를 받았으며 이 자리에서 주요 후보군 명단을 설명한 것으로 전해졌습니다. KT 지배구조위원회는 오는 12일 이사회를 열어 회장 후보 심사대상자 숫자를 공개하고 본인 동의를 거쳐 동의를 한 사람에 한해 명단을 발표할 예정이라고 9일 밝혔다. 박 회장은 택시를 보호하려는 의도는 이해가 가지만 그렇다고 미래를 막아버리는 방법이 유일한 대안인가 라며 아무리 생각해도 납득이 안 간다 고 지적했다.', '정부 올해 예산 4조 확정  마련  성장      ']\n",
      "content 그는 이후 진압군이 순천에 와 철도원들과 시민들을 철도운동장으로 불러모아 몸수색을 하며 14연대와 관련된 인사를 분류했다 며 머리를 짧게 깎꺼나 옷을 벗겼을때 군인이 입은 내복을 입은 사람은 반란군이라고 색출해 냈다 고 말했다 2010년 이후 부산에서 승진한 경무관 5명은 각각 경찰대 3명 간부후보 2명이다 제11회 부산고용대상 심사선정위원장과 부산형 착한기업 육성 및 일자리 창출 프로젝트사업 책임자인 박성익 경성대 교수는 해가 거듭될수록 부산고용대상에 대한 인지도가 높아지고 있으며 올해는 부산형 착한기업 현판 전달식과 함께 하게 돼 그 의미가 더욱 크다 고 평가했다\n",
      "continuing from previous trained model:  model/model.ckpt-249500 ...\n",
      "INFO:tensorflow:Restoring parameters from ./mm/copy_model/model.ckpt-249500\n",
      "이사람 쉬는 발생해 성탄선 다양한 컬래버 행사 진행 <E> 진화 <E> 포함 <E> <E> <E>\n",
      "['0267fb17-7706-4df6-84e1-e3fbc8427432', '그는 이후 진압군이 순천에 와 철도원들과 시민들을 철도운동장으로 불러모아 몸수색을 하며 14연대와 관련된 인사를 분류했다 며 머리를 짧게 깎꺼나 옷을 벗겼을때 군인이 입은 내복을 입은 사람은 반란군이라고 색출해 냈다 고 말했다. 2010년 이후 부산에서 승진한 경무관 5명은 각각 경찰대 3명 간부후보 2명이다. 제11회 부산고용대상 심사선정위원장과 부산형 착한기업 육성 및 일자리 창출 프로젝트사업 책임자인 박성익 경성대 교수는 해가 거듭될수록 부산고용대상에 대한 인지도가 높아지고 있으며 올해는 부산형 착한기업 현판 전달식과 함께 하게 돼 그 의미가 더욱 크다 고 평가했다.', '이사람 쉬는 발생해 성탄선 다양한 컬래버 행사 진행  진화  포함   ']\n",
      "content 강남 서초 송파 강남권 3구도 신축 아파트 대비 노후 아파트 3 3 당 매매가격이 2015 2018년 1 23 1 26배를 유지하다가 올해 1 01배까지 가격 격차가 줄어든 것으로 나타났다 이외에도 서울 내 아파트 가격은 2017까지 노후 아파트가 신축 아파트보다 거래 가격이 높았지만 작년부터 가격 역전 현상이 발생하더니 올해 그 격차가 더 벌어진 것으로 나타났다 신규 아파트 대비 노후 아파트 3 3 당 매매거래가격은 2010년 1 60배에서 2014년 1 40배 2015년 1 34배로 내려가더니 2017년 1 18배 2018년 1 06배로 하락을 계속하다가 올해는 0 92배로 최저 수준을 기록했다\n",
      "continuing from previous trained model:  model/model.ckpt-249500 ...\n",
      "INFO:tensorflow:Restoring parameters from ./mm/copy_model/model.ckpt-249500\n",
      "화제의 분양현 시황 3분기 아파트 3 당 최대 하락 <E> 4 3 <E> <E> <E>\n",
      "['03533936-f684-408e-aacc-0b4ba3af3cf7', '강남·서초·송파 강남권 3구도 신축 아파트 대비 노후 아파트 3.3㎡당 매매가격이 2015∼2018년 1.23∼1.26배를 유지하다가 올해 1.01배까지 가격 격차가 줄어든 것으로 나타났다. 이외에도 서울 내 아파트 가격은 2017까지 노후 아파트가 신축 아파트보다 거래 가격이 높았지만 작년부터 가격 역전 현상이 발생하더니 올해 그 격차가 더 벌어진 것으로 나타났다. 신규 아파트 대비 노후 아파트 3.3㎡당 매매거래가격은 2010년 1.60배에서 2014년 1.40배 2015년 1.34배로 내려가더니 2017년 1.18배 2018년 1.06배로 하락을 계속하다가 올해는 0.92배로 최저 수준을 기록했다.', '화제의 분양현 시황 3분기 아파트 3 당 최대 하락  4 3   ']\n",
      "content 과학기술정보통신부 장관상 SK텔레콤 5GX멀티뷰 서비스 한 번에 여러 화면 골라봐 제19회 모바일기술대상 과학기술정보통신부 장관상은 SK텔레콤 5GX멀티뷰 서비스 최성광 씨의 별도의 가상현실 VR 기기가 필요 없는 모바일 VR 사용자 경험 제공 방식 위밋의 위밋플레이스 에 돌아갔다 세종텔레콤은 셀바스 AI의 음성인식 및 음성합성 솔루션을 통신 서비스에 적용하여 다양한 지능형 부가서비스를 제공할 예정이다 양사는 다른 지역에도 레이저 골드를 상용화하기 위해 협력할 계획이다\n",
      "continuing from previous trained model:  model/model.ckpt-249500 ...\n",
      "INFO:tensorflow:Restoring parameters from ./mm/copy_model/model.ckpt-249500\n",
      "이코노 브리핑 올해 밀집 앱 행정공 달성 목표 <E> 획득 <E> 이용 <E> <E> <E>\n",
      "['99624ffb-d730-4905-9b1b-78df4b5b9ae2', '과학기술정보통신부 장관상 SK텔레콤 ‘5GX멀티뷰 서비스’ 한 번에 여러 화면 골라봐 ‘제19회 모바일기술대상’ 과학기술정보통신부 장관상은 SK텔레콤 ‘5GX멀티뷰 서비스’ 최성광 씨의 ‘별도의 가상현실 VR 기기가 필요 없는 모바일 VR 사용자 경험 제공 방식’ 위밋의 ‘위밋플레이스’에 돌아갔다. 세종텔레콤은 셀바스 AI의 음성인식 및 음성합성 솔루션을 통신 서비스에 적용하여 다양한 지능형 부가서비스를 제공할 예정이다. 양사는 다른 지역에도 레이저 골드를 상용화하기 위해 협력할 계획이다.', '이코노 브리핑 올해 밀집 앱 행정공 달성 목표  획득  이용   ']\n",
      "content 연합뉴스 문재인 대통령은 9일 아일랜드 출신 록밴드 U2의 리더이자 사회운동가인 보노 본명 폴 데이비드 휴슨 를 만나 U2가 공연 중 평화와 통일의 메시지를 내준 데 대해 감사를 표했다 문재인 대통령이 9일 청와대에서 예방한 록밴드인 U2 의 보컬이자 사회운동가 보노 왼쪽 접견에 앞서 인사하고 있다 연합뉴스 문재인 대통령이 9일 청와대에서 록밴드 U2 의 보컬 보노를 만나 공연에서 남북 평화 관련 메시지를 내준 것에 감사를 표시했다 그 공연을 봤던 제 아내 말에 의하면 아주 대단한 공연이었다고 한다 며 U2의 음악도 훌륭했고 고척 스카이돔을 가득 채운 4만 5000명 한국의 팬들이 U2의 노래를 따라 부르면서 아주 열광했다고 들었다 고 했다\n",
      "continuing from previous trained model:  model/model.ckpt-249500 ...\n",
      "INFO:tensorflow:Restoring parameters from ./mm/copy_model/model.ckpt-249500\n",
      "201 외식 전용 맞춤형 정부포 아이디 수여식 개최 <E> 방향 제시 <E> 270 <E> <E>\n",
      "['9dd54c8a-0322-419f-9e16-a1b5ee6601ff', '연합뉴스 문재인 대통령은 9일 아일랜드 출신 록밴드 U2의 리더이자 사회운동가인 보노 본명 폴 데이비드 휴슨 를 만나 U2가 공연 중 평화와 통일의 메시지를 내준 데 대해 감사를 표했다. 문재인 대통령이 9일 청와대에서 예방한 록밴드인 U2 의 보컬이자 사회운동가 보노 왼쪽 접견에 앞서 인사하고 있다 연합뉴스 문재인 대통령이 9일 청와대에서 록밴드 U2 의 보컬 보노를 만나 공연에서 남북 평화 관련 메시지를 내준 것에 감사를 표시했다. 그 공연을 봤던 제 아내 말에 의하면 아주 대단한 공연이었다고 한다”며 “U2의 음악도 훌륭했고 고척 스카이돔을 가득 채운 4만 5000명 한국의 팬들이 U2의 노래를 따라 부르면서 아주 열광했다고 들었다”고 했다.', '201 외식 전용 맞춤형 정부포 아이디 수여식 개최  방향 제시  270  ']\n"
     ]
    },
    {
     "name": "stderr",
     "output_type": "stream",
     "text": [
      "Process Process-3:\n",
      "Traceback (most recent call last):\n",
      "  File \"/home/iceia/.conda/envs/cap_mud/lib/python3.7/multiprocessing/process.py\", line 297, in _bootstrap\n",
      "    self.run()\n",
      "  File \"/home/iceia/.conda/envs/cap_mud/lib/python3.7/multiprocessing/process.py\", line 99, in run\n",
      "    self._target(*self._args, **self._kwargs)\n",
      "  File \"<ipython-input-8-ca340e462d92>\", line 35, in ml_headline\n",
      "    data=q2.get()\n",
      "  File \"/home/iceia/.conda/envs/cap_mud/lib/python3.7/multiprocessing/queues.py\", line 94, in get\n",
      "    res = self._recv_bytes()\n",
      "  File \"/home/iceia/.conda/envs/cap_mud/lib/python3.7/multiprocessing/connection.py\", line 216, in recv_bytes\n",
      "    buf = self._recv_bytes(maxlength)\n",
      "  File \"/home/iceia/.conda/envs/cap_mud/lib/python3.7/multiprocessing/connection.py\", line 407, in _recv_bytes\n",
      "    buf = self._recv(4)\n",
      "  File \"/home/iceia/.conda/envs/cap_mud/lib/python3.7/multiprocessing/connection.py\", line 379, in _recv\n",
      "    chunk = read(handle, remaining)\n",
      "KeyboardInterrupt\n"
     ]
    },
    {
     "ename": "KeyboardInterrupt",
     "evalue": "",
     "output_type": "error",
     "traceback": [
      "\u001b[0;31m---------------------------------------------------------------------------\u001b[0m",
      "\u001b[0;31mKeyboardInterrupt\u001b[0m                         Traceback (most recent call last)",
      "\u001b[0;32m<ipython-input-10-13cd88c921cc>\u001b[0m in \u001b[0;36m<module>\u001b[0;34m\u001b[0m\n\u001b[1;32m     24\u001b[0m \u001b[0;34m\u001b[0m\u001b[0m\n\u001b[1;32m     25\u001b[0m     \u001b[0mprocess_four\u001b[0m\u001b[0;34m.\u001b[0m\u001b[0mjoin\u001b[0m\u001b[0;34m(\u001b[0m\u001b[0;34m)\u001b[0m\u001b[0;34m\u001b[0m\u001b[0;34m\u001b[0m\u001b[0m\n\u001b[0;32m---> 26\u001b[0;31m     \u001b[0mprocess_summary\u001b[0m\u001b[0;34m.\u001b[0m\u001b[0mjoin\u001b[0m\u001b[0;34m(\u001b[0m\u001b[0;34m)\u001b[0m\u001b[0;34m\u001b[0m\u001b[0;34m\u001b[0m\u001b[0m\n\u001b[0m\u001b[1;32m     27\u001b[0m     \u001b[0mprocess_mlheadline\u001b[0m\u001b[0;34m.\u001b[0m\u001b[0mjoin\u001b[0m\u001b[0;34m(\u001b[0m\u001b[0;34m)\u001b[0m\u001b[0;34m\u001b[0m\u001b[0;34m\u001b[0m\u001b[0m\n",
      "\u001b[0;32m~/.conda/envs/cap_mud/lib/python3.7/multiprocessing/process.py\u001b[0m in \u001b[0;36mjoin\u001b[0;34m(self, timeout)\u001b[0m\n\u001b[1;32m    138\u001b[0m         \u001b[0;32massert\u001b[0m \u001b[0mself\u001b[0m\u001b[0;34m.\u001b[0m\u001b[0m_parent_pid\u001b[0m \u001b[0;34m==\u001b[0m \u001b[0mos\u001b[0m\u001b[0;34m.\u001b[0m\u001b[0mgetpid\u001b[0m\u001b[0;34m(\u001b[0m\u001b[0;34m)\u001b[0m\u001b[0;34m,\u001b[0m \u001b[0;34m'can only join a child process'\u001b[0m\u001b[0;34m\u001b[0m\u001b[0;34m\u001b[0m\u001b[0m\n\u001b[1;32m    139\u001b[0m         \u001b[0;32massert\u001b[0m \u001b[0mself\u001b[0m\u001b[0;34m.\u001b[0m\u001b[0m_popen\u001b[0m \u001b[0;32mis\u001b[0m \u001b[0;32mnot\u001b[0m \u001b[0;32mNone\u001b[0m\u001b[0;34m,\u001b[0m \u001b[0;34m'can only join a started process'\u001b[0m\u001b[0;34m\u001b[0m\u001b[0;34m\u001b[0m\u001b[0m\n\u001b[0;32m--> 140\u001b[0;31m         \u001b[0mres\u001b[0m \u001b[0;34m=\u001b[0m \u001b[0mself\u001b[0m\u001b[0;34m.\u001b[0m\u001b[0m_popen\u001b[0m\u001b[0;34m.\u001b[0m\u001b[0mwait\u001b[0m\u001b[0;34m(\u001b[0m\u001b[0mtimeout\u001b[0m\u001b[0;34m)\u001b[0m\u001b[0;34m\u001b[0m\u001b[0;34m\u001b[0m\u001b[0m\n\u001b[0m\u001b[1;32m    141\u001b[0m         \u001b[0;32mif\u001b[0m \u001b[0mres\u001b[0m \u001b[0;32mis\u001b[0m \u001b[0;32mnot\u001b[0m \u001b[0;32mNone\u001b[0m\u001b[0;34m:\u001b[0m\u001b[0;34m\u001b[0m\u001b[0;34m\u001b[0m\u001b[0m\n\u001b[1;32m    142\u001b[0m             \u001b[0m_children\u001b[0m\u001b[0;34m.\u001b[0m\u001b[0mdiscard\u001b[0m\u001b[0;34m(\u001b[0m\u001b[0mself\u001b[0m\u001b[0;34m)\u001b[0m\u001b[0;34m\u001b[0m\u001b[0;34m\u001b[0m\u001b[0m\n",
      "\u001b[0;32m~/.conda/envs/cap_mud/lib/python3.7/multiprocessing/popen_fork.py\u001b[0m in \u001b[0;36mwait\u001b[0;34m(self, timeout)\u001b[0m\n\u001b[1;32m     46\u001b[0m                     \u001b[0;32mreturn\u001b[0m \u001b[0;32mNone\u001b[0m\u001b[0;34m\u001b[0m\u001b[0;34m\u001b[0m\u001b[0m\n\u001b[1;32m     47\u001b[0m             \u001b[0;31m# This shouldn't block if wait() returned successfully.\u001b[0m\u001b[0;34m\u001b[0m\u001b[0;34m\u001b[0m\u001b[0;34m\u001b[0m\u001b[0m\n\u001b[0;32m---> 48\u001b[0;31m             \u001b[0;32mreturn\u001b[0m \u001b[0mself\u001b[0m\u001b[0;34m.\u001b[0m\u001b[0mpoll\u001b[0m\u001b[0;34m(\u001b[0m\u001b[0mos\u001b[0m\u001b[0;34m.\u001b[0m\u001b[0mWNOHANG\u001b[0m \u001b[0;32mif\u001b[0m \u001b[0mtimeout\u001b[0m \u001b[0;34m==\u001b[0m \u001b[0;36m0.0\u001b[0m \u001b[0;32melse\u001b[0m \u001b[0;36m0\u001b[0m\u001b[0;34m)\u001b[0m\u001b[0;34m\u001b[0m\u001b[0;34m\u001b[0m\u001b[0m\n\u001b[0m\u001b[1;32m     49\u001b[0m         \u001b[0;32mreturn\u001b[0m \u001b[0mself\u001b[0m\u001b[0;34m.\u001b[0m\u001b[0mreturncode\u001b[0m\u001b[0;34m\u001b[0m\u001b[0;34m\u001b[0m\u001b[0m\n\u001b[1;32m     50\u001b[0m \u001b[0;34m\u001b[0m\u001b[0m\n",
      "\u001b[0;32m~/.conda/envs/cap_mud/lib/python3.7/multiprocessing/popen_fork.py\u001b[0m in \u001b[0;36mpoll\u001b[0;34m(self, flag)\u001b[0m\n\u001b[1;32m     26\u001b[0m         \u001b[0;32mif\u001b[0m \u001b[0mself\u001b[0m\u001b[0;34m.\u001b[0m\u001b[0mreturncode\u001b[0m \u001b[0;32mis\u001b[0m \u001b[0;32mNone\u001b[0m\u001b[0;34m:\u001b[0m\u001b[0;34m\u001b[0m\u001b[0;34m\u001b[0m\u001b[0m\n\u001b[1;32m     27\u001b[0m             \u001b[0;32mtry\u001b[0m\u001b[0;34m:\u001b[0m\u001b[0;34m\u001b[0m\u001b[0;34m\u001b[0m\u001b[0m\n\u001b[0;32m---> 28\u001b[0;31m                 \u001b[0mpid\u001b[0m\u001b[0;34m,\u001b[0m \u001b[0msts\u001b[0m \u001b[0;34m=\u001b[0m \u001b[0mos\u001b[0m\u001b[0;34m.\u001b[0m\u001b[0mwaitpid\u001b[0m\u001b[0;34m(\u001b[0m\u001b[0mself\u001b[0m\u001b[0;34m.\u001b[0m\u001b[0mpid\u001b[0m\u001b[0;34m,\u001b[0m \u001b[0mflag\u001b[0m\u001b[0;34m)\u001b[0m\u001b[0;34m\u001b[0m\u001b[0;34m\u001b[0m\u001b[0m\n\u001b[0m\u001b[1;32m     29\u001b[0m             \u001b[0;32mexcept\u001b[0m \u001b[0mOSError\u001b[0m \u001b[0;32mas\u001b[0m \u001b[0me\u001b[0m\u001b[0;34m:\u001b[0m\u001b[0;34m\u001b[0m\u001b[0;34m\u001b[0m\u001b[0m\n\u001b[1;32m     30\u001b[0m                 \u001b[0;31m# Child process not yet created. See #1731717\u001b[0m\u001b[0;34m\u001b[0m\u001b[0;34m\u001b[0m\u001b[0;34m\u001b[0m\u001b[0m\n",
      "\u001b[0;31mKeyboardInterrupt\u001b[0m: "
     ]
    }
   ],
   "source": [
    "if __name__ == \"__main__\":\n",
    "    q1 = Queue()\n",
    "    q2 = Queue()\n",
    "    sched = BackgroundScheduler()\n",
    "\n",
    "#     sched.start()\n",
    "#     sched.add_job(random_four_news, 'cron', minute='57', id=\"s1\", args=[df, cluster_id, q1])\n",
    "#     sched.add_job(random_four_news, 'cron', hour='12', id=\"s2\", args=[df, cluster_id, q1])\n",
    "#     sched.add_job(random_four_news, 'cron', hour='15', id=\"s3\", args=[df, cluster_id, q1])\n",
    "#     sched.add_job(random_four_news, 'cron', hour='18', id=\"s4\", args=[df, cluster_id, q1])\n",
    "#     sched.add_job(random_four_news, 'cron', hour='21', id=\"s5\", args=[df, cluster_id, q1])\n",
    "#     sched.add_job(random_four_news, 'cron', hour='24', id=\"s6\", args=[df, cluster_id, q1])\n",
    "    process_four = Process(target=random_four_news, args=(q1,))\n",
    "    process_summary = Process(target=summary, args=(q1,q2,))\n",
    "    process_mlheadline = Process(target=ml_headline, args=(q2,\"test\",))\n",
    "    \n",
    "    process_four.start()\n",
    "    process_summary.start()\n",
    "    process_mlheadline.start()\n",
    "    \n",
    "    q1.close()\n",
    "    q2.close()\n",
    "    q1.join_thread()\n",
    "    \n",
    "    process_four.join()\n",
    "    process_summary.join()\n",
    "    process_mlheadline.join()"
   ]
  },
  {
   "cell_type": "code",
   "execution_count": null,
   "metadata": {},
   "outputs": [],
   "source": []
  }
 ],
 "metadata": {
  "kernelspec": {
   "display_name": "cap_mud_tensorflow",
   "language": "python",
   "name": "cap_mud"
  },
  "language_info": {
   "codemirror_mode": {
    "name": "ipython",
    "version": 3
   },
   "file_extension": ".py",
   "mimetype": "text/x-python",
   "name": "python",
   "nbconvert_exporter": "python",
   "pygments_lexer": "ipython3",
   "version": "3.7.4"
  }
 },
 "nbformat": 4,
 "nbformat_minor": 2
}
